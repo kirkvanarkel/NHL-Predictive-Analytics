{
 "cells": [
  {
   "cell_type": "markdown",
   "metadata": {},
   "source": [
    "## STAT 5010 Project Predictions\n",
    "## Kirk Van Arkel"
   ]
  },
  {
   "cell_type": "markdown",
   "metadata": {},
   "source": [
    "\n",
    "## Exploratory Data Analysis"
   ]
  },
  {
   "cell_type": "code",
   "execution_count": 51,
   "metadata": {},
   "outputs": [
    {
     "data": {
      "text/html": [
       "<table>\n",
       "<thead><tr><th scope=col>team</th><th scope=col>season</th><th scope=col>name</th><th scope=col>gameId</th><th scope=col>opposingTeam</th><th scope=col>home_or_away</th><th scope=col>gameDate</th><th scope=col>situation</th><th scope=col>corsiPercentage</th><th scope=col>fenwickPercentage</th><th scope=col>⋯</th><th scope=col>giveawaysFor</th><th scope=col>shotsOnGoalAgainst</th><th scope=col>shotAttemptsAgainst</th><th scope=col>goalsAgainst</th><th scope=col>reboundsAgainst</th><th scope=col>faceOffsWonAgainst</th><th scope=col>hitsAgainst</th><th scope=col>takeawaysAgainst</th><th scope=col>giveawaysAgainst</th><th scope=col>playoffGame</th></tr></thead>\n",
       "<tbody>\n",
       "\t<tr><td>NYR       </td><td>2008      </td><td>NYR       </td><td>2008020001</td><td>T.B       </td><td>AWAY      </td><td>20081004  </td><td>other     </td><td>0.0000    </td><td>0.0000    </td><td>⋯         </td><td>0         </td><td> 1        </td><td> 1        </td><td>0         </td><td>0         </td><td> 1        </td><td> 0        </td><td> 1        </td><td>0         </td><td>0         </td></tr>\n",
       "\t<tr><td>NYR       </td><td>2008      </td><td>NYR       </td><td>2008020001</td><td>T.B       </td><td>AWAY      </td><td>20081004  </td><td>all       </td><td>0.6408    </td><td>0.6310    </td><td>⋯         </td><td>8         </td><td>21        </td><td>37        </td><td>1         </td><td>1         </td><td>32        </td><td>17        </td><td>11        </td><td>7         </td><td>0         </td></tr>\n",
       "\t<tr><td>NYR       </td><td>2008      </td><td>NYR       </td><td>2008020001</td><td>T.B       </td><td>AWAY      </td><td>20081004  </td><td>5on5      </td><td>0.6429    </td><td>0.6364    </td><td>⋯         </td><td>7         </td><td>11        </td><td>25        </td><td>1         </td><td>1         </td><td>18        </td><td>13        </td><td> 9        </td><td>5         </td><td>0         </td></tr>\n",
       "\t<tr><td>NYR       </td><td>2008      </td><td>NYR       </td><td>2008020001</td><td>T.B       </td><td>AWAY      </td><td>20081004  </td><td>4on5      </td><td>0.0909    </td><td>0.1000    </td><td>⋯         </td><td>0         </td><td> 8        </td><td>10        </td><td>0         </td><td>0         </td><td> 2        </td><td> 3        </td><td> 0        </td><td>1         </td><td>0         </td></tr>\n",
       "\t<tr><td>NYR       </td><td>2008      </td><td>NYR       </td><td>2008020001</td><td>T.B       </td><td>AWAY      </td><td>20081004  </td><td>5on4      </td><td>0.9524    </td><td>0.9444    </td><td>⋯         </td><td>1         </td><td> 1        </td><td> 1        </td><td>0         </td><td>0         </td><td>11        </td><td> 1        </td><td> 1        </td><td>1         </td><td>0         </td></tr>\n",
       "\t<tr><td>NYR       </td><td>2008      </td><td>NYR       </td><td>2008020003</td><td>T.B       </td><td>HOME      </td><td>20081005  </td><td>other     </td><td>0.6250    </td><td>0.6667    </td><td>⋯         </td><td>0         </td><td> 1        </td><td> 3        </td><td>0         </td><td>0         </td><td> 0        </td><td> 0        </td><td> 0        </td><td>0         </td><td>0         </td></tr>\n",
       "</tbody>\n",
       "</table>\n"
      ],
      "text/latex": [
       "\\begin{tabular}{r|llllllllllllllllllllllllllll}\n",
       " team & season & name & gameId & opposingTeam & home\\_or\\_away & gameDate & situation & corsiPercentage & fenwickPercentage & ⋯ & giveawaysFor & shotsOnGoalAgainst & shotAttemptsAgainst & goalsAgainst & reboundsAgainst & faceOffsWonAgainst & hitsAgainst & takeawaysAgainst & giveawaysAgainst & playoffGame\\\\\n",
       "\\hline\n",
       "\t NYR        & 2008       & NYR        & 2008020001 & T.B        & AWAY       & 20081004   & other      & 0.0000     & 0.0000     & ⋯          & 0          &  1         &  1         & 0          & 0          &  1         &  0         &  1         & 0          & 0         \\\\\n",
       "\t NYR        & 2008       & NYR        & 2008020001 & T.B        & AWAY       & 20081004   & all        & 0.6408     & 0.6310     & ⋯          & 8          & 21         & 37         & 1          & 1          & 32         & 17         & 11         & 7          & 0         \\\\\n",
       "\t NYR        & 2008       & NYR        & 2008020001 & T.B        & AWAY       & 20081004   & 5on5       & 0.6429     & 0.6364     & ⋯          & 7          & 11         & 25         & 1          & 1          & 18         & 13         &  9         & 5          & 0         \\\\\n",
       "\t NYR        & 2008       & NYR        & 2008020001 & T.B        & AWAY       & 20081004   & 4on5       & 0.0909     & 0.1000     & ⋯          & 0          &  8         & 10         & 0          & 0          &  2         &  3         &  0         & 1          & 0         \\\\\n",
       "\t NYR        & 2008       & NYR        & 2008020001 & T.B        & AWAY       & 20081004   & 5on4       & 0.9524     & 0.9444     & ⋯          & 1          &  1         &  1         & 0          & 0          & 11         &  1         &  1         & 1          & 0         \\\\\n",
       "\t NYR        & 2008       & NYR        & 2008020003 & T.B        & HOME       & 20081005   & other      & 0.6250     & 0.6667     & ⋯          & 0          &  1         &  3         & 0          & 0          &  0         &  0         &  0         & 0          & 0         \\\\\n",
       "\\end{tabular}\n"
      ],
      "text/markdown": [
       "\n",
       "| team | season | name | gameId | opposingTeam | home_or_away | gameDate | situation | corsiPercentage | fenwickPercentage | ⋯ | giveawaysFor | shotsOnGoalAgainst | shotAttemptsAgainst | goalsAgainst | reboundsAgainst | faceOffsWonAgainst | hitsAgainst | takeawaysAgainst | giveawaysAgainst | playoffGame |\n",
       "|---|---|---|---|---|---|---|---|---|---|---|---|---|---|---|---|---|---|---|---|---|\n",
       "| NYR        | 2008       | NYR        | 2008020001 | T.B        | AWAY       | 20081004   | other      | 0.0000     | 0.0000     | ⋯          | 0          |  1         |  1         | 0          | 0          |  1         |  0         |  1         | 0          | 0          |\n",
       "| NYR        | 2008       | NYR        | 2008020001 | T.B        | AWAY       | 20081004   | all        | 0.6408     | 0.6310     | ⋯          | 8          | 21         | 37         | 1          | 1          | 32         | 17         | 11         | 7          | 0          |\n",
       "| NYR        | 2008       | NYR        | 2008020001 | T.B        | AWAY       | 20081004   | 5on5       | 0.6429     | 0.6364     | ⋯          | 7          | 11         | 25         | 1          | 1          | 18         | 13         |  9         | 5          | 0          |\n",
       "| NYR        | 2008       | NYR        | 2008020001 | T.B        | AWAY       | 20081004   | 4on5       | 0.0909     | 0.1000     | ⋯          | 0          |  8         | 10         | 0          | 0          |  2         |  3         |  0         | 1          | 0          |\n",
       "| NYR        | 2008       | NYR        | 2008020001 | T.B        | AWAY       | 20081004   | 5on4       | 0.9524     | 0.9444     | ⋯          | 1          |  1         |  1         | 0          | 0          | 11         |  1         |  1         | 1          | 0          |\n",
       "| NYR        | 2008       | NYR        | 2008020003 | T.B        | HOME       | 20081005   | other      | 0.6250     | 0.6667     | ⋯          | 0          |  1         |  3         | 0          | 0          |  0         |  0         |  0         | 0          | 0          |\n",
       "\n"
      ],
      "text/plain": [
       "  team season name gameId     opposingTeam home_or_away gameDate situation\n",
       "1 NYR  2008   NYR  2008020001 T.B          AWAY         20081004 other    \n",
       "2 NYR  2008   NYR  2008020001 T.B          AWAY         20081004 all      \n",
       "3 NYR  2008   NYR  2008020001 T.B          AWAY         20081004 5on5     \n",
       "4 NYR  2008   NYR  2008020001 T.B          AWAY         20081004 4on5     \n",
       "5 NYR  2008   NYR  2008020001 T.B          AWAY         20081004 5on4     \n",
       "6 NYR  2008   NYR  2008020003 T.B          HOME         20081005 other    \n",
       "  corsiPercentage fenwickPercentage ⋯ giveawaysFor shotsOnGoalAgainst\n",
       "1 0.0000          0.0000            ⋯ 0             1                \n",
       "2 0.6408          0.6310            ⋯ 8            21                \n",
       "3 0.6429          0.6364            ⋯ 7            11                \n",
       "4 0.0909          0.1000            ⋯ 0             8                \n",
       "5 0.9524          0.9444            ⋯ 1             1                \n",
       "6 0.6250          0.6667            ⋯ 0             1                \n",
       "  shotAttemptsAgainst goalsAgainst reboundsAgainst faceOffsWonAgainst\n",
       "1  1                  0            0                1                \n",
       "2 37                  1            1               32                \n",
       "3 25                  1            1               18                \n",
       "4 10                  0            0                2                \n",
       "5  1                  0            0               11                \n",
       "6  3                  0            0                0                \n",
       "  hitsAgainst takeawaysAgainst giveawaysAgainst playoffGame\n",
       "1  0           1               0                0          \n",
       "2 17          11               7                0          \n",
       "3 13           9               5                0          \n",
       "4  3           0               1                0          \n",
       "5  1           1               1                0          \n",
       "6  0           0               0                0          "
      ]
     },
     "metadata": {},
     "output_type": "display_data"
    },
    {
     "data": {
      "text/html": [
       "<ol class=list-inline>\n",
       "\t<li>'team'</li>\n",
       "\t<li>'season'</li>\n",
       "\t<li>'name'</li>\n",
       "\t<li>'gameId'</li>\n",
       "\t<li>'opposingTeam'</li>\n",
       "\t<li>'home_or_away'</li>\n",
       "\t<li>'gameDate'</li>\n",
       "\t<li>'situation'</li>\n",
       "\t<li>'corsiPercentage'</li>\n",
       "\t<li>'fenwickPercentage'</li>\n",
       "\t<li>'shotsOnGoalFor'</li>\n",
       "\t<li>'shotAttemptsFor'</li>\n",
       "\t<li>'goalsFor'</li>\n",
       "\t<li>'reboundsFor'</li>\n",
       "\t<li>'penalityMinutesFor'</li>\n",
       "\t<li>'faceOffsWonFor'</li>\n",
       "\t<li>'hitsFor'</li>\n",
       "\t<li>'takeawaysFor'</li>\n",
       "\t<li>'giveawaysFor'</li>\n",
       "\t<li>'shotsOnGoalAgainst'</li>\n",
       "\t<li>'shotAttemptsAgainst'</li>\n",
       "\t<li>'goalsAgainst'</li>\n",
       "\t<li>'reboundsAgainst'</li>\n",
       "\t<li>'faceOffsWonAgainst'</li>\n",
       "\t<li>'hitsAgainst'</li>\n",
       "\t<li>'takeawaysAgainst'</li>\n",
       "\t<li>'giveawaysAgainst'</li>\n",
       "\t<li>'playoffGame'</li>\n",
       "</ol>\n"
      ],
      "text/latex": [
       "\\begin{enumerate*}\n",
       "\\item 'team'\n",
       "\\item 'season'\n",
       "\\item 'name'\n",
       "\\item 'gameId'\n",
       "\\item 'opposingTeam'\n",
       "\\item 'home\\_or\\_away'\n",
       "\\item 'gameDate'\n",
       "\\item 'situation'\n",
       "\\item 'corsiPercentage'\n",
       "\\item 'fenwickPercentage'\n",
       "\\item 'shotsOnGoalFor'\n",
       "\\item 'shotAttemptsFor'\n",
       "\\item 'goalsFor'\n",
       "\\item 'reboundsFor'\n",
       "\\item 'penalityMinutesFor'\n",
       "\\item 'faceOffsWonFor'\n",
       "\\item 'hitsFor'\n",
       "\\item 'takeawaysFor'\n",
       "\\item 'giveawaysFor'\n",
       "\\item 'shotsOnGoalAgainst'\n",
       "\\item 'shotAttemptsAgainst'\n",
       "\\item 'goalsAgainst'\n",
       "\\item 'reboundsAgainst'\n",
       "\\item 'faceOffsWonAgainst'\n",
       "\\item 'hitsAgainst'\n",
       "\\item 'takeawaysAgainst'\n",
       "\\item 'giveawaysAgainst'\n",
       "\\item 'playoffGame'\n",
       "\\end{enumerate*}\n"
      ],
      "text/markdown": [
       "1. 'team'\n",
       "2. 'season'\n",
       "3. 'name'\n",
       "4. 'gameId'\n",
       "5. 'opposingTeam'\n",
       "6. 'home_or_away'\n",
       "7. 'gameDate'\n",
       "8. 'situation'\n",
       "9. 'corsiPercentage'\n",
       "10. 'fenwickPercentage'\n",
       "11. 'shotsOnGoalFor'\n",
       "12. 'shotAttemptsFor'\n",
       "13. 'goalsFor'\n",
       "14. 'reboundsFor'\n",
       "15. 'penalityMinutesFor'\n",
       "16. 'faceOffsWonFor'\n",
       "17. 'hitsFor'\n",
       "18. 'takeawaysFor'\n",
       "19. 'giveawaysFor'\n",
       "20. 'shotsOnGoalAgainst'\n",
       "21. 'shotAttemptsAgainst'\n",
       "22. 'goalsAgainst'\n",
       "23. 'reboundsAgainst'\n",
       "24. 'faceOffsWonAgainst'\n",
       "25. 'hitsAgainst'\n",
       "26. 'takeawaysAgainst'\n",
       "27. 'giveawaysAgainst'\n",
       "28. 'playoffGame'\n",
       "\n",
       "\n"
      ],
      "text/plain": [
       " [1] \"team\"                \"season\"              \"name\"               \n",
       " [4] \"gameId\"              \"opposingTeam\"        \"home_or_away\"       \n",
       " [7] \"gameDate\"            \"situation\"           \"corsiPercentage\"    \n",
       "[10] \"fenwickPercentage\"   \"shotsOnGoalFor\"      \"shotAttemptsFor\"    \n",
       "[13] \"goalsFor\"            \"reboundsFor\"         \"penalityMinutesFor\" \n",
       "[16] \"faceOffsWonFor\"      \"hitsFor\"             \"takeawaysFor\"       \n",
       "[19] \"giveawaysFor\"        \"shotsOnGoalAgainst\"  \"shotAttemptsAgainst\"\n",
       "[22] \"goalsAgainst\"        \"reboundsAgainst\"     \"faceOffsWonAgainst\" \n",
       "[25] \"hitsAgainst\"         \"takeawaysAgainst\"    \"giveawaysAgainst\"   \n",
       "[28] \"playoffGame\"        "
      ]
     },
     "metadata": {},
     "output_type": "display_data"
    },
    {
     "data": {
      "text/html": [
       "<ol class=list-inline>\n",
       "\t<li>139940</li>\n",
       "\t<li>28</li>\n",
       "</ol>\n"
      ],
      "text/latex": [
       "\\begin{enumerate*}\n",
       "\\item 139940\n",
       "\\item 28\n",
       "\\end{enumerate*}\n"
      ],
      "text/markdown": [
       "1. 139940\n",
       "2. 28\n",
       "\n",
       "\n"
      ],
      "text/plain": [
       "[1] 139940     28"
      ]
     },
     "metadata": {},
     "output_type": "display_data"
    }
   ],
   "source": [
    "library('tidyverse')\n",
    "library('MASS')\n",
    "library('caret')\n",
    "library('randomForest')\n",
    "library('sqldf')\n",
    "library('e1071')\n",
    "library('leaps')\n",
    "\n",
    "\n",
    "# read in cleaned up csv file of game data\n",
    "games <- read.csv('~/Downloads/all_teams_final.csv')\n",
    "head(games)\n",
    "names(games)\n",
    "dim(games)"
   ]
  },
  {
   "cell_type": "code",
   "execution_count": 52,
   "metadata": {},
   "outputs": [
    {
     "data": {
      "text/html": [
       "<table>\n",
       "<thead><tr><th scope=col>team</th><th scope=col>season</th><th scope=col>name</th><th scope=col>gameId</th><th scope=col>opposingTeam</th><th scope=col>home_or_away</th><th scope=col>gameDate</th><th scope=col>situation</th><th scope=col>corsiPercentage</th><th scope=col>fenwickPercentage</th><th scope=col>⋯</th><th scope=col>shotsOnGoalAgainst</th><th scope=col>shotAttemptsAgainst</th><th scope=col>goalsAgainst</th><th scope=col>reboundsAgainst</th><th scope=col>faceOffsWonAgainst</th><th scope=col>hitsAgainst</th><th scope=col>takeawaysAgainst</th><th scope=col>giveawaysAgainst</th><th scope=col>playoffGame</th><th scope=col>win</th></tr></thead>\n",
       "<tbody>\n",
       "\t<tr><td>NYR       </td><td>2008      </td><td>NYR       </td><td>2008020001</td><td>T.B       </td><td>AWAY      </td><td>20081004  </td><td>all       </td><td>0.6408    </td><td>0.6310    </td><td>⋯         </td><td>21        </td><td>37        </td><td>1         </td><td>1         </td><td>32        </td><td>17        </td><td>11        </td><td>7         </td><td>0         </td><td>1         </td></tr>\n",
       "\t<tr><td>NYR       </td><td>2008      </td><td>NYR       </td><td>2008020003</td><td>T.B       </td><td>HOME      </td><td>20081005  </td><td>all       </td><td>0.6207    </td><td>0.6190    </td><td>⋯         </td><td>19        </td><td>44        </td><td>1         </td><td>0         </td><td>29        </td><td>31        </td><td> 8        </td><td>7         </td><td>0         </td><td>1         </td></tr>\n",
       "\t<tr><td>NYR       </td><td>2008      </td><td>NYR       </td><td>2008020010</td><td>CHI       </td><td>HOME      </td><td>20081010  </td><td>all       </td><td>0.4904    </td><td>0.4643    </td><td>⋯         </td><td>32        </td><td>53        </td><td>2         </td><td>2         </td><td>32        </td><td>31        </td><td> 8        </td><td>5         </td><td>0         </td><td>1         </td></tr>\n",
       "\t<tr><td>NYR       </td><td>2008      </td><td>NYR       </td><td>2008020019</td><td>PHI       </td><td>AWAY      </td><td>20081011  </td><td>all       </td><td>0.5000    </td><td>0.4810    </td><td>⋯         </td><td>28        </td><td>50        </td><td>3         </td><td>2         </td><td>29        </td><td>11        </td><td> 5        </td><td>8         </td><td>0         </td><td>1         </td></tr>\n",
       "\t<tr><td>NYR       </td><td>2008      </td><td>NYR       </td><td>2008020034</td><td>N.J       </td><td>HOME      </td><td>20081013  </td><td>all       </td><td>0.4369    </td><td>0.4507    </td><td>⋯         </td><td>27        </td><td>58        </td><td>1         </td><td>4         </td><td>20        </td><td>43        </td><td> 9        </td><td>3         </td><td>0         </td><td>1         </td></tr>\n",
       "\t<tr><td>NYR       </td><td>2008      </td><td>NYR       </td><td>2008020044</td><td>BUF       </td><td>HOME      </td><td>20081015  </td><td>all       </td><td>0.6024    </td><td>0.5714    </td><td>⋯         </td><td>19        </td><td>33        </td><td>3         </td><td>3         </td><td>23        </td><td>11        </td><td>10        </td><td>1         </td><td>0         </td><td>0         </td></tr>\n",
       "</tbody>\n",
       "</table>\n"
      ],
      "text/latex": [
       "\\begin{tabular}{r|lllllllllllllllllllllllllllll}\n",
       " team & season & name & gameId & opposingTeam & home\\_or\\_away & gameDate & situation & corsiPercentage & fenwickPercentage & ⋯ & shotsOnGoalAgainst & shotAttemptsAgainst & goalsAgainst & reboundsAgainst & faceOffsWonAgainst & hitsAgainst & takeawaysAgainst & giveawaysAgainst & playoffGame & win\\\\\n",
       "\\hline\n",
       "\t NYR        & 2008       & NYR        & 2008020001 & T.B        & AWAY       & 20081004   & all        & 0.6408     & 0.6310     & ⋯          & 21         & 37         & 1          & 1          & 32         & 17         & 11         & 7          & 0          & 1         \\\\\n",
       "\t NYR        & 2008       & NYR        & 2008020003 & T.B        & HOME       & 20081005   & all        & 0.6207     & 0.6190     & ⋯          & 19         & 44         & 1          & 0          & 29         & 31         &  8         & 7          & 0          & 1         \\\\\n",
       "\t NYR        & 2008       & NYR        & 2008020010 & CHI        & HOME       & 20081010   & all        & 0.4904     & 0.4643     & ⋯          & 32         & 53         & 2          & 2          & 32         & 31         &  8         & 5          & 0          & 1         \\\\\n",
       "\t NYR        & 2008       & NYR        & 2008020019 & PHI        & AWAY       & 20081011   & all        & 0.5000     & 0.4810     & ⋯          & 28         & 50         & 3          & 2          & 29         & 11         &  5         & 8          & 0          & 1         \\\\\n",
       "\t NYR        & 2008       & NYR        & 2008020034 & N.J        & HOME       & 20081013   & all        & 0.4369     & 0.4507     & ⋯          & 27         & 58         & 1          & 4          & 20         & 43         &  9         & 3          & 0          & 1         \\\\\n",
       "\t NYR        & 2008       & NYR        & 2008020044 & BUF        & HOME       & 20081015   & all        & 0.6024     & 0.5714     & ⋯          & 19         & 33         & 3          & 3          & 23         & 11         & 10         & 1          & 0          & 0         \\\\\n",
       "\\end{tabular}\n"
      ],
      "text/markdown": [
       "\n",
       "| team | season | name | gameId | opposingTeam | home_or_away | gameDate | situation | corsiPercentage | fenwickPercentage | ⋯ | shotsOnGoalAgainst | shotAttemptsAgainst | goalsAgainst | reboundsAgainst | faceOffsWonAgainst | hitsAgainst | takeawaysAgainst | giveawaysAgainst | playoffGame | win |\n",
       "|---|---|---|---|---|---|---|---|---|---|---|---|---|---|---|---|---|---|---|---|---|\n",
       "| NYR        | 2008       | NYR        | 2008020001 | T.B        | AWAY       | 20081004   | all        | 0.6408     | 0.6310     | ⋯          | 21         | 37         | 1          | 1          | 32         | 17         | 11         | 7          | 0          | 1          |\n",
       "| NYR        | 2008       | NYR        | 2008020003 | T.B        | HOME       | 20081005   | all        | 0.6207     | 0.6190     | ⋯          | 19         | 44         | 1          | 0          | 29         | 31         |  8         | 7          | 0          | 1          |\n",
       "| NYR        | 2008       | NYR        | 2008020010 | CHI        | HOME       | 20081010   | all        | 0.4904     | 0.4643     | ⋯          | 32         | 53         | 2          | 2          | 32         | 31         |  8         | 5          | 0          | 1          |\n",
       "| NYR        | 2008       | NYR        | 2008020019 | PHI        | AWAY       | 20081011   | all        | 0.5000     | 0.4810     | ⋯          | 28         | 50         | 3          | 2          | 29         | 11         |  5         | 8          | 0          | 1          |\n",
       "| NYR        | 2008       | NYR        | 2008020034 | N.J        | HOME       | 20081013   | all        | 0.4369     | 0.4507     | ⋯          | 27         | 58         | 1          | 4          | 20         | 43         |  9         | 3          | 0          | 1          |\n",
       "| NYR        | 2008       | NYR        | 2008020044 | BUF        | HOME       | 20081015   | all        | 0.6024     | 0.5714     | ⋯          | 19         | 33         | 3          | 3          | 23         | 11         | 10         | 1          | 0          | 0          |\n",
       "\n"
      ],
      "text/plain": [
       "  team season name gameId     opposingTeam home_or_away gameDate situation\n",
       "1 NYR  2008   NYR  2008020001 T.B          AWAY         20081004 all      \n",
       "2 NYR  2008   NYR  2008020003 T.B          HOME         20081005 all      \n",
       "3 NYR  2008   NYR  2008020010 CHI          HOME         20081010 all      \n",
       "4 NYR  2008   NYR  2008020019 PHI          AWAY         20081011 all      \n",
       "5 NYR  2008   NYR  2008020034 N.J          HOME         20081013 all      \n",
       "6 NYR  2008   NYR  2008020044 BUF          HOME         20081015 all      \n",
       "  corsiPercentage fenwickPercentage ⋯ shotsOnGoalAgainst shotAttemptsAgainst\n",
       "1 0.6408          0.6310            ⋯ 21                 37                 \n",
       "2 0.6207          0.6190            ⋯ 19                 44                 \n",
       "3 0.4904          0.4643            ⋯ 32                 53                 \n",
       "4 0.5000          0.4810            ⋯ 28                 50                 \n",
       "5 0.4369          0.4507            ⋯ 27                 58                 \n",
       "6 0.6024          0.5714            ⋯ 19                 33                 \n",
       "  goalsAgainst reboundsAgainst faceOffsWonAgainst hitsAgainst takeawaysAgainst\n",
       "1 1            1               32                 17          11              \n",
       "2 1            0               29                 31           8              \n",
       "3 2            2               32                 31           8              \n",
       "4 3            2               29                 11           5              \n",
       "5 1            4               20                 43           9              \n",
       "6 3            3               23                 11          10              \n",
       "  giveawaysAgainst playoffGame win\n",
       "1 7                0           1  \n",
       "2 7                0           1  \n",
       "3 5                0           1  \n",
       "4 8                0           1  \n",
       "5 3                0           1  \n",
       "6 1                0           0  "
      ]
     },
     "metadata": {},
     "output_type": "display_data"
    },
    {
     "data": {
      "text/html": [
       "<ol class=list-inline>\n",
       "\t<li>24756</li>\n",
       "\t<li>29</li>\n",
       "</ol>\n"
      ],
      "text/latex": [
       "\\begin{enumerate*}\n",
       "\\item 24756\n",
       "\\item 29\n",
       "\\end{enumerate*}\n"
      ],
      "text/markdown": [
       "1. 24756\n",
       "2. 29\n",
       "\n",
       "\n"
      ],
      "text/plain": [
       "[1] 24756    29"
      ]
     },
     "metadata": {},
     "output_type": "display_data"
    }
   ],
   "source": [
    "# include only rows that hold all game information (not separating by special teams)\n",
    "games <- subset(games, games$situation == \"all\")\n",
    "# only include regular season games\n",
    "games <- subset(games, games$playoffGame == 0)\n",
    "# remove lockout year\n",
    "games <- subset(games, games$season != '2012')\n",
    "\n",
    "# add in binary win column to denote wheter a team won or lost\n",
    "win = ifelse(games$goalsFor > games$goalsAgainst, 1, 0)\n",
    "games = games %>%\n",
    "  mutate(win)\n",
    "games$win = as.factor(games$win)\n",
    "head(games)\n",
    "dim(games)"
   ]
  },
  {
   "cell_type": "code",
   "execution_count": 4,
   "metadata": {},
   "outputs": [
    {
     "data": {
      "text/html": [
       "<table>\n",
       "<thead><tr><th scope=col>team</th><th scope=col>season</th><th scope=col>gameId</th><th scope=col>opposingTeam</th><th scope=col>home_or_away</th><th scope=col>corsiPercentage</th><th scope=col>fenwickPercentage</th><th scope=col>shotsOnGoalFor</th><th scope=col>shotAttemptsFor</th><th scope=col>goalsFor</th><th scope=col>⋯</th><th scope=col>giveawaysFor</th><th scope=col>shotsOnGoalAgainst</th><th scope=col>shotAttemptsAgainst</th><th scope=col>goalsAgainst</th><th scope=col>reboundsAgainst</th><th scope=col>faceOffsWonAgainst</th><th scope=col>hitsAgainst</th><th scope=col>takeawaysAgainst</th><th scope=col>giveawaysAgainst</th><th scope=col>win</th></tr></thead>\n",
       "<tbody>\n",
       "\t<tr><td>NYR       </td><td>2008      </td><td>2008020001</td><td>T.B       </td><td>AWAY      </td><td>0.6408    </td><td>0.6310    </td><td>41        </td><td>66        </td><td>2         </td><td>⋯         </td><td> 8        </td><td>21        </td><td>37        </td><td>1         </td><td>1         </td><td>32        </td><td>17        </td><td>11        </td><td>7         </td><td>1         </td></tr>\n",
       "\t<tr><td>NYR       </td><td>2008      </td><td>2008020003</td><td>T.B       </td><td>HOME      </td><td>0.6207    </td><td>0.6190    </td><td>39        </td><td>72        </td><td>2         </td><td>⋯         </td><td>11        </td><td>19        </td><td>44        </td><td>1         </td><td>0         </td><td>29        </td><td>31        </td><td> 8        </td><td>7         </td><td>1         </td></tr>\n",
       "\t<tr><td>NYR       </td><td>2008      </td><td>2008020010</td><td>CHI       </td><td>HOME      </td><td>0.4904    </td><td>0.4643    </td><td>29        </td><td>51        </td><td>4         </td><td>⋯         </td><td> 6        </td><td>32        </td><td>53        </td><td>2         </td><td>2         </td><td>32        </td><td>31        </td><td> 8        </td><td>5         </td><td>1         </td></tr>\n",
       "\t<tr><td>NYR       </td><td>2008      </td><td>2008020019</td><td>PHI       </td><td>AWAY      </td><td>0.5000    </td><td>0.4810    </td><td>27        </td><td>50        </td><td>4         </td><td>⋯         </td><td> 3        </td><td>28        </td><td>50        </td><td>3         </td><td>2         </td><td>29        </td><td>11        </td><td> 5        </td><td>8         </td><td>1         </td></tr>\n",
       "\t<tr><td>NYR       </td><td>2008      </td><td>2008020034</td><td>N.J       </td><td>HOME      </td><td>0.4369    </td><td>0.4507    </td><td>24        </td><td>45        </td><td>4         </td><td>⋯         </td><td>10        </td><td>27        </td><td>58        </td><td>1         </td><td>4         </td><td>20        </td><td>43        </td><td> 9        </td><td>3         </td><td>1         </td></tr>\n",
       "\t<tr><td>NYR       </td><td>2008      </td><td>2008020044</td><td>BUF       </td><td>HOME      </td><td>0.6024    </td><td>0.5714    </td><td>20        </td><td>50        </td><td>1         </td><td>⋯         </td><td> 6        </td><td>19        </td><td>33        </td><td>3         </td><td>3         </td><td>23        </td><td>11        </td><td>10        </td><td>1         </td><td>0         </td></tr>\n",
       "</tbody>\n",
       "</table>\n"
      ],
      "text/latex": [
       "\\begin{tabular}{r|lllllllllllllllllllllllll}\n",
       " team & season & gameId & opposingTeam & home\\_or\\_away & corsiPercentage & fenwickPercentage & shotsOnGoalFor & shotAttemptsFor & goalsFor & ⋯ & giveawaysFor & shotsOnGoalAgainst & shotAttemptsAgainst & goalsAgainst & reboundsAgainst & faceOffsWonAgainst & hitsAgainst & takeawaysAgainst & giveawaysAgainst & win\\\\\n",
       "\\hline\n",
       "\t NYR        & 2008       & 2008020001 & T.B        & AWAY       & 0.6408     & 0.6310     & 41         & 66         & 2          & ⋯          &  8         & 21         & 37         & 1          & 1          & 32         & 17         & 11         & 7          & 1         \\\\\n",
       "\t NYR        & 2008       & 2008020003 & T.B        & HOME       & 0.6207     & 0.6190     & 39         & 72         & 2          & ⋯          & 11         & 19         & 44         & 1          & 0          & 29         & 31         &  8         & 7          & 1         \\\\\n",
       "\t NYR        & 2008       & 2008020010 & CHI        & HOME       & 0.4904     & 0.4643     & 29         & 51         & 4          & ⋯          &  6         & 32         & 53         & 2          & 2          & 32         & 31         &  8         & 5          & 1         \\\\\n",
       "\t NYR        & 2008       & 2008020019 & PHI        & AWAY       & 0.5000     & 0.4810     & 27         & 50         & 4          & ⋯          &  3         & 28         & 50         & 3          & 2          & 29         & 11         &  5         & 8          & 1         \\\\\n",
       "\t NYR        & 2008       & 2008020034 & N.J        & HOME       & 0.4369     & 0.4507     & 24         & 45         & 4          & ⋯          & 10         & 27         & 58         & 1          & 4          & 20         & 43         &  9         & 3          & 1         \\\\\n",
       "\t NYR        & 2008       & 2008020044 & BUF        & HOME       & 0.6024     & 0.5714     & 20         & 50         & 1          & ⋯          &  6         & 19         & 33         & 3          & 3          & 23         & 11         & 10         & 1          & 0         \\\\\n",
       "\\end{tabular}\n"
      ],
      "text/markdown": [
       "\n",
       "| team | season | gameId | opposingTeam | home_or_away | corsiPercentage | fenwickPercentage | shotsOnGoalFor | shotAttemptsFor | goalsFor | ⋯ | giveawaysFor | shotsOnGoalAgainst | shotAttemptsAgainst | goalsAgainst | reboundsAgainst | faceOffsWonAgainst | hitsAgainst | takeawaysAgainst | giveawaysAgainst | win |\n",
       "|---|---|---|---|---|---|---|---|---|---|---|---|---|---|---|---|---|---|---|---|---|\n",
       "| NYR        | 2008       | 2008020001 | T.B        | AWAY       | 0.6408     | 0.6310     | 41         | 66         | 2          | ⋯          |  8         | 21         | 37         | 1          | 1          | 32         | 17         | 11         | 7          | 1          |\n",
       "| NYR        | 2008       | 2008020003 | T.B        | HOME       | 0.6207     | 0.6190     | 39         | 72         | 2          | ⋯          | 11         | 19         | 44         | 1          | 0          | 29         | 31         |  8         | 7          | 1          |\n",
       "| NYR        | 2008       | 2008020010 | CHI        | HOME       | 0.4904     | 0.4643     | 29         | 51         | 4          | ⋯          |  6         | 32         | 53         | 2          | 2          | 32         | 31         |  8         | 5          | 1          |\n",
       "| NYR        | 2008       | 2008020019 | PHI        | AWAY       | 0.5000     | 0.4810     | 27         | 50         | 4          | ⋯          |  3         | 28         | 50         | 3          | 2          | 29         | 11         |  5         | 8          | 1          |\n",
       "| NYR        | 2008       | 2008020034 | N.J        | HOME       | 0.4369     | 0.4507     | 24         | 45         | 4          | ⋯          | 10         | 27         | 58         | 1          | 4          | 20         | 43         |  9         | 3          | 1          |\n",
       "| NYR        | 2008       | 2008020044 | BUF        | HOME       | 0.6024     | 0.5714     | 20         | 50         | 1          | ⋯          |  6         | 19         | 33         | 3          | 3          | 23         | 11         | 10         | 1          | 0          |\n",
       "\n"
      ],
      "text/plain": [
       "  team season gameId     opposingTeam home_or_away corsiPercentage\n",
       "1 NYR  2008   2008020001 T.B          AWAY         0.6408         \n",
       "2 NYR  2008   2008020003 T.B          HOME         0.6207         \n",
       "3 NYR  2008   2008020010 CHI          HOME         0.4904         \n",
       "4 NYR  2008   2008020019 PHI          AWAY         0.5000         \n",
       "5 NYR  2008   2008020034 N.J          HOME         0.4369         \n",
       "6 NYR  2008   2008020044 BUF          HOME         0.6024         \n",
       "  fenwickPercentage shotsOnGoalFor shotAttemptsFor goalsFor ⋯ giveawaysFor\n",
       "1 0.6310            41             66              2        ⋯  8          \n",
       "2 0.6190            39             72              2        ⋯ 11          \n",
       "3 0.4643            29             51              4        ⋯  6          \n",
       "4 0.4810            27             50              4        ⋯  3          \n",
       "5 0.4507            24             45              4        ⋯ 10          \n",
       "6 0.5714            20             50              1        ⋯  6          \n",
       "  shotsOnGoalAgainst shotAttemptsAgainst goalsAgainst reboundsAgainst\n",
       "1 21                 37                  1            1              \n",
       "2 19                 44                  1            0              \n",
       "3 32                 53                  2            2              \n",
       "4 28                 50                  3            2              \n",
       "5 27                 58                  1            4              \n",
       "6 19                 33                  3            3              \n",
       "  faceOffsWonAgainst hitsAgainst takeawaysAgainst giveawaysAgainst win\n",
       "1 32                 17          11               7                1  \n",
       "2 29                 31           8               7                1  \n",
       "3 32                 31           8               5                1  \n",
       "4 29                 11           5               8                1  \n",
       "5 20                 43           9               3                1  \n",
       "6 23                 11          10               1                0  "
      ]
     },
     "metadata": {},
     "output_type": "display_data"
    },
    {
     "data": {
      "text/plain": [
       "      team           season         gameId           opposingTeam  \n",
       " ANA    :  820   Min.   :2008   Min.   :2.008e+09   ARI    :  901  \n",
       " BUF    :  820   1st Qu.:2010   1st Qu.:2.010e+09   BUF    :  819  \n",
       " CBJ    :  820   Median :2014   Median :2.014e+09   FLA    :  819  \n",
       " CHI    :  820   Mean   :2013   Mean   :2.013e+09   WSH    :  819  \n",
       " COL    :  820   3rd Qu.:2016   3rd Qu.:2.016e+09   CAR    :  818  \n",
       " DAL    :  820   Max.   :2018   Max.   :2.018e+09   MTL    :  818  \n",
       " (Other):19836                                      (Other):19762  \n",
       " home_or_away corsiPercentage  fenwickPercentage shotsOnGoalFor \n",
       " AWAY:12460   Min.   :0.2075   Min.   :0.1905    Min.   :10.00  \n",
       " HOME:12296   1st Qu.:0.4466   1st Qu.:0.4455    1st Qu.:26.00  \n",
       "              Median :0.5000   Median :0.5000    Median :30.00  \n",
       "              Mean   :0.5000   Mean   :0.5000    Mean   :30.41  \n",
       "              3rd Qu.:0.5534   3rd Qu.:0.5545    3rd Qu.:35.00  \n",
       "              Max.   :0.7925   Max.   :0.8095    Max.   :61.00  \n",
       "                                                                \n",
       " shotAttemptsFor     goalsFor       reboundsFor     penalityMinutesFor\n",
       " Min.   : 19.00   Min.   : 0.000   Min.   : 0.000   Min.   :  0.000   \n",
       " 1st Qu.: 48.00   1st Qu.: 2.000   1st Qu.: 1.000   1st Qu.:  6.000   \n",
       " Median : 56.00   Median : 3.000   Median : 2.000   Median :  8.000   \n",
       " Mean   : 56.26   Mean   : 2.765   Mean   : 2.096   Mean   :  9.567   \n",
       " 3rd Qu.: 63.00   3rd Qu.: 4.000   3rd Qu.: 3.000   3rd Qu.: 12.000   \n",
       " Max.   :116.00   Max.   :10.000   Max.   :14.000   Max.   :121.000   \n",
       "                                                                      \n",
       " faceOffsWonFor     hitsFor       takeawaysFor     giveawaysFor   \n",
       " Min.   : 8.00   Min.   : 1.00   Min.   : 0.000   Min.   : 0.000  \n",
       " 1st Qu.:26.00   1st Qu.:17.00   1st Qu.: 4.000   1st Qu.: 5.000  \n",
       " Median :29.00   Median :22.00   Median : 6.000   Median : 8.000  \n",
       " Mean   :29.56   Mean   :22.58   Mean   : 6.937   Mean   : 8.565  \n",
       " 3rd Qu.:33.00   3rd Qu.:27.00   3rd Qu.: 9.000   3rd Qu.:12.000  \n",
       " Max.   :58.00   Max.   :64.00   Max.   :31.000   Max.   :36.000  \n",
       "                                                                  \n",
       " shotsOnGoalAgainst shotAttemptsAgainst  goalsAgainst    reboundsAgainst \n",
       " Min.   :10.00      Min.   : 19.00      Min.   : 0.000   Min.   : 0.000  \n",
       " 1st Qu.:26.00      1st Qu.: 48.00      1st Qu.: 2.000   1st Qu.: 1.000  \n",
       " Median :30.00      Median : 56.00      Median : 3.000   Median : 2.000  \n",
       " Mean   :30.41      Mean   : 56.26      Mean   : 2.765   Mean   : 2.096  \n",
       " 3rd Qu.:35.00      3rd Qu.: 63.00      3rd Qu.: 4.000   3rd Qu.: 3.000  \n",
       " Max.   :61.00      Max.   :116.00      Max.   :10.000   Max.   :14.000  \n",
       "                                                                         \n",
       " faceOffsWonAgainst  hitsAgainst    takeawaysAgainst giveawaysAgainst win      \n",
       " Min.   : 8.00      Min.   : 1.00   Min.   : 0.000   Min.   : 0.000   0:13794  \n",
       " 1st Qu.:26.00      1st Qu.:17.00   1st Qu.: 4.000   1st Qu.: 5.000   1:10962  \n",
       " Median :29.00      Median :22.00   Median : 6.000   Median : 8.000            \n",
       " Mean   :29.56      Mean   :22.58   Mean   : 6.937   Mean   : 8.565            \n",
       " 3rd Qu.:33.00      3rd Qu.:27.00   3rd Qu.: 9.000   3rd Qu.:12.000            \n",
       " Max.   :58.00      Max.   :64.00   Max.   :31.000   Max.   :36.000            \n",
       "                                                                               "
      ]
     },
     "metadata": {},
     "output_type": "display_data"
    }
   ],
   "source": [
    "#remove columns not needed for analysis\n",
    "games = games[,-which(names(games) %in% c('name', 'gameDate', 'situation', 'playoffGame'))]\n",
    "head(games)\n",
    "summary(games)\n",
    "#subset(games, team == 'ARI')"
   ]
  },
  {
   "cell_type": "code",
   "execution_count": 5,
   "metadata": {},
   "outputs": [],
   "source": [
    "games = subset(games, season %in% c(2010:2018))\n"
   ]
  },
  {
   "cell_type": "code",
   "execution_count": 6,
   "metadata": {},
   "outputs": [
    {
     "data": {
      "text/html": [
       "<table>\n",
       "<thead><tr><th></th><th scope=col>corsiPercentage</th><th scope=col>fenwickPercentage</th><th scope=col>shotsOnGoalFor</th><th scope=col>shotAttemptsFor</th><th scope=col>goalsFor</th><th scope=col>reboundsFor</th><th scope=col>penalityMinutesFor</th><th scope=col>faceOffsWonFor</th><th scope=col>hitsFor</th><th scope=col>takeawaysFor</th><th scope=col>giveawaysFor</th><th scope=col>shotsOnGoalAgainst</th><th scope=col>shotAttemptsAgainst</th><th scope=col>goalsAgainst</th><th scope=col>reboundsAgainst</th><th scope=col>faceOffsWonAgainst</th><th scope=col>hitsAgainst</th><th scope=col>takeawaysAgainst</th><th scope=col>giveawaysAgainst</th></tr></thead>\n",
       "<tbody>\n",
       "\t<tr><th scope=row>corsiPercentage</th><td> 1.00000000  </td><td> 0.9276227002</td><td> 0.6240620631</td><td> 0.787072516 </td><td>-0.0811647817</td><td> 0.25510520  </td><td>-0.11430421  </td><td> 0.162066507 </td><td>-0.038469147 </td><td> 0.0363071786</td><td> 0.01834846  </td><td>-0.6240628663</td><td>-0.787073577 </td><td> 0.0811649020</td><td>-0.25510569  </td><td>-0.162066578 </td><td> 0.038468026 </td><td>-0.0363073634</td><td>-0.01834915  </td></tr>\n",
       "\t<tr><th scope=row>fenwickPercentage</th><td> 0.92762270  </td><td> 1.0000000000</td><td> 0.6829492722</td><td> 0.729768675 </td><td>-0.0002655882</td><td> 0.29256369  </td><td>-0.11216471  </td><td> 0.152271146 </td><td>-0.043380965 </td><td> 0.0538465424</td><td> 0.01902278  </td><td>-0.6829487439</td><td>-0.729767827 </td><td> 0.0002653578</td><td>-0.29256362  </td><td>-0.152270789 </td><td> 0.043381021 </td><td>-0.0538456631</td><td>-0.01902225  </td></tr>\n",
       "\t<tr><th scope=row>shotsOnGoalFor</th><td> 0.62406206  </td><td> 0.6829492722</td><td> 1.0000000000</td><td> 0.780999812 </td><td> 0.1354479124</td><td> 0.42448014  </td><td>-0.05837062  </td><td> 0.255078402 </td><td>-0.017227348 </td><td> 0.0862814590</td><td> 0.03849914  </td><td>-0.1344416024</td><td>-0.213271054 </td><td> 0.0605332335</td><td>-0.03982438  </td><td> 0.053046465 </td><td> 0.051048900 </td><td> 0.0001611865</td><td> 0.02365276  </td></tr>\n",
       "\t<tr><th scope=row>shotAttemptsFor</th><td> 0.78707252  </td><td> 0.7297686749</td><td> 0.7809998120</td><td> 1.000000000 </td><td>-0.0283733635</td><td> 0.38026483  </td><td>-0.09015931  </td><td> 0.252635602 </td><td> 0.026137171 </td><td> 0.0983017251</td><td> 0.12011418  </td><td>-0.2132710538</td><td>-0.257915578 </td><td> 0.1035419619</td><td>-0.03328422  </td><td>-0.007375314 </td><td> 0.086341060 </td><td> 0.0405548334</td><td> 0.09256776  </td></tr>\n",
       "\t<tr><th scope=row>goalsFor</th><td>-0.08116478  </td><td>-0.0002655882</td><td> 0.1354479124</td><td>-0.028373363 </td><td> 1.0000000000</td><td> 0.10896040  </td><td> 0.05831277  </td><td> 0.137732409 </td><td>-0.099964870 </td><td> 0.1098654682</td><td> 0.01223541  </td><td> 0.0605332335</td><td> 0.103541962 </td><td>-0.0553024715</td><td> 0.02504602  </td><td> 0.089367587 </td><td> 0.043148180 </td><td>-0.0695368881</td><td> 0.02681521  </td></tr>\n",
       "\t<tr><th scope=row>reboundsFor</th><td> 0.25510520  </td><td> 0.2925636916</td><td> 0.4244801384</td><td> 0.380264827 </td><td> 0.1089603999</td><td> 1.00000000  </td><td>-0.01102976  </td><td> 0.116707270 </td><td> 0.025542273 </td><td> 0.0384799677</td><td> 0.02658640  </td><td>-0.0398243768</td><td>-0.033284220 </td><td> 0.0250460184</td><td> 0.06687079  </td><td> 0.018050200 </td><td> 0.033975071 </td><td>-0.0118501366</td><td> 0.01075851  </td></tr>\n",
       "\t<tr><th scope=row>penalityMinutesFor</th><td>-0.11430421  </td><td>-0.1121647110</td><td>-0.0583706158</td><td>-0.090159305 </td><td> 0.0583127697</td><td>-0.01102976  </td><td> 1.00000000  </td><td> 0.072556169 </td><td> 0.029837506 </td><td>-0.0552547404</td><td>-0.07299599  </td><td> 0.0983473223</td><td> 0.090574404 </td><td> 0.0904826944</td><td> 0.04815582  </td><td> 0.109962242 </td><td>-0.014893594 </td><td>-0.0456731784</td><td>-0.03225535  </td></tr>\n",
       "\t<tr><th scope=row>faceOffsWonFor</th><td> 0.16206651  </td><td> 0.1522711457</td><td> 0.2550784017</td><td> 0.252635602 </td><td> 0.1377324088</td><td> 0.11670727  </td><td> 0.07255617  </td><td> 1.000000000 </td><td> 0.003959848 </td><td> 0.0435115370</td><td> 0.06003643  </td><td> 0.0530464653</td><td>-0.007375314 </td><td> 0.0893675866</td><td> 0.01805020  </td><td>-0.123270365 </td><td> 0.011899167 </td><td>-0.0406129733</td><td>-0.03310427  </td></tr>\n",
       "\t<tr><th scope=row>hitsFor</th><td>-0.03846915  </td><td>-0.0433809647</td><td>-0.0172273480</td><td> 0.026137171 </td><td>-0.0999648703</td><td> 0.02554227  </td><td> 0.02983751  </td><td> 0.003959848 </td><td> 1.000000000 </td><td> 0.0250395930</td><td> 0.09235943  </td><td> 0.0510488996</td><td> 0.086341060 </td><td> 0.0431481802</td><td> 0.03397507  </td><td> 0.011899167 </td><td> 0.392175408 </td><td>-0.0020682264</td><td> 0.02776885  </td></tr>\n",
       "\t<tr><th scope=row>takeawaysFor</th><td> 0.03630718  </td><td> 0.0538465424</td><td> 0.0862814590</td><td> 0.098301725 </td><td> 0.1098654682</td><td> 0.03847997  </td><td>-0.05525474  </td><td> 0.043511537 </td><td> 0.025039593 </td><td> 1.0000000000</td><td> 0.25108977  </td><td> 0.0001611865</td><td> 0.040554833 </td><td>-0.0695368881</td><td>-0.01185014  </td><td>-0.040612973 </td><td>-0.002068226 </td><td> 0.3481630899</td><td> 0.10768420  </td></tr>\n",
       "\t<tr><th scope=row>giveawaysFor</th><td> 0.01834846  </td><td> 0.0190227766</td><td> 0.0384991364</td><td> 0.120114180 </td><td> 0.0122354133</td><td> 0.02658640  </td><td>-0.07299599  </td><td> 0.060036427 </td><td> 0.092359433 </td><td> 0.2510897672</td><td> 1.00000000  </td><td> 0.0236527605</td><td> 0.092567758 </td><td> 0.0268152132</td><td> 0.01075851  </td><td>-0.033104271 </td><td> 0.027768852 </td><td> 0.1076841981</td><td> 0.42549345  </td></tr>\n",
       "\t<tr><th scope=row>shotsOnGoalAgainst</th><td>-0.62406287  </td><td>-0.6829487439</td><td>-0.1344416024</td><td>-0.213271054 </td><td> 0.0605332335</td><td>-0.03982438  </td><td> 0.09834732  </td><td> 0.053046465 </td><td> 0.051048900 </td><td> 0.0001611865</td><td> 0.02365276  </td><td> 1.0000000000</td><td> 0.780999812 </td><td> 0.1354479124</td><td> 0.42448014  </td><td> 0.255078402 </td><td>-0.017227348 </td><td> 0.0862814590</td><td> 0.03849914  </td></tr>\n",
       "\t<tr><th scope=row>shotAttemptsAgainst</th><td>-0.78707358  </td><td>-0.7297678269</td><td>-0.2132710538</td><td>-0.257915578 </td><td> 0.1035419619</td><td>-0.03328422  </td><td> 0.09057440  </td><td>-0.007375314 </td><td> 0.086341060 </td><td> 0.0405548334</td><td> 0.09256776  </td><td> 0.7809998120</td><td> 1.000000000 </td><td>-0.0283733635</td><td> 0.38026483  </td><td> 0.252635602 </td><td> 0.026137171 </td><td> 0.0983017251</td><td> 0.12011418  </td></tr>\n",
       "\t<tr><th scope=row>goalsAgainst</th><td> 0.08116490  </td><td> 0.0002653578</td><td> 0.0605332335</td><td> 0.103541962 </td><td>-0.0553024715</td><td> 0.02504602  </td><td> 0.09048269  </td><td> 0.089367587 </td><td> 0.043148180 </td><td>-0.0695368881</td><td> 0.02681521  </td><td> 0.1354479124</td><td>-0.028373363 </td><td> 1.0000000000</td><td> 0.10896040  </td><td> 0.137732409 </td><td>-0.099964870 </td><td> 0.1098654682</td><td> 0.01223541  </td></tr>\n",
       "\t<tr><th scope=row>reboundsAgainst</th><td>-0.25510569  </td><td>-0.2925636200</td><td>-0.0398243768</td><td>-0.033284220 </td><td> 0.0250460184</td><td> 0.06687079  </td><td> 0.04815582  </td><td> 0.018050200 </td><td> 0.033975071 </td><td>-0.0118501366</td><td> 0.01075851  </td><td> 0.4244801384</td><td> 0.380264827 </td><td> 0.1089603999</td><td> 1.00000000  </td><td> 0.116707270 </td><td> 0.025542273 </td><td> 0.0384799677</td><td> 0.02658640  </td></tr>\n",
       "\t<tr><th scope=row>faceOffsWonAgainst</th><td>-0.16206658  </td><td>-0.1522707892</td><td> 0.0530464653</td><td>-0.007375314 </td><td> 0.0893675866</td><td> 0.01805020  </td><td> 0.10996224  </td><td>-0.123270365 </td><td> 0.011899167 </td><td>-0.0406129733</td><td>-0.03310427  </td><td> 0.2550784017</td><td> 0.252635602 </td><td> 0.1377324088</td><td> 0.11670727  </td><td> 1.000000000 </td><td> 0.003959848 </td><td> 0.0435115370</td><td> 0.06003643  </td></tr>\n",
       "\t<tr><th scope=row>hitsAgainst</th><td> 0.03846803  </td><td> 0.0433810207</td><td> 0.0510488996</td><td> 0.086341060 </td><td> 0.0431481802</td><td> 0.03397507  </td><td>-0.01489359  </td><td> 0.011899167 </td><td> 0.392175408 </td><td>-0.0020682264</td><td> 0.02776885  </td><td>-0.0172273480</td><td> 0.026137171 </td><td>-0.0999648703</td><td> 0.02554227  </td><td> 0.003959848 </td><td> 1.000000000 </td><td> 0.0250395930</td><td> 0.09235943  </td></tr>\n",
       "\t<tr><th scope=row>takeawaysAgainst</th><td>-0.03630736  </td><td>-0.0538456631</td><td> 0.0001611865</td><td> 0.040554833 </td><td>-0.0695368881</td><td>-0.01185014  </td><td>-0.04567318  </td><td>-0.040612973 </td><td>-0.002068226 </td><td> 0.3481630899</td><td> 0.10768420  </td><td> 0.0862814590</td><td> 0.098301725 </td><td> 0.1098654682</td><td> 0.03847997  </td><td> 0.043511537 </td><td> 0.025039593 </td><td> 1.0000000000</td><td> 0.25108977  </td></tr>\n",
       "\t<tr><th scope=row>giveawaysAgainst</th><td>-0.01834915  </td><td>-0.0190222467</td><td> 0.0236527605</td><td> 0.092567758 </td><td> 0.0268152132</td><td> 0.01075851  </td><td>-0.03225535  </td><td>-0.033104271 </td><td> 0.027768852 </td><td> 0.1076841981</td><td> 0.42549345  </td><td> 0.0384991364</td><td> 0.120114180 </td><td> 0.0122354133</td><td> 0.02658640  </td><td> 0.060036427 </td><td> 0.092359433 </td><td> 0.2510897672</td><td> 1.00000000  </td></tr>\n",
       "</tbody>\n",
       "</table>\n"
      ],
      "text/latex": [
       "\\begin{tabular}{r|lllllllllllllllllll}\n",
       "  & corsiPercentage & fenwickPercentage & shotsOnGoalFor & shotAttemptsFor & goalsFor & reboundsFor & penalityMinutesFor & faceOffsWonFor & hitsFor & takeawaysFor & giveawaysFor & shotsOnGoalAgainst & shotAttemptsAgainst & goalsAgainst & reboundsAgainst & faceOffsWonAgainst & hitsAgainst & takeawaysAgainst & giveawaysAgainst\\\\\n",
       "\\hline\n",
       "\tcorsiPercentage &  1.00000000   &  0.9276227002 &  0.6240620631 &  0.787072516  & -0.0811647817 &  0.25510520   & -0.11430421   &  0.162066507  & -0.038469147  &  0.0363071786 &  0.01834846   & -0.6240628663 & -0.787073577  &  0.0811649020 & -0.25510569   & -0.162066578  &  0.038468026  & -0.0363073634 & -0.01834915  \\\\\n",
       "\tfenwickPercentage &  0.92762270   &  1.0000000000 &  0.6829492722 &  0.729768675  & -0.0002655882 &  0.29256369   & -0.11216471   &  0.152271146  & -0.043380965  &  0.0538465424 &  0.01902278   & -0.6829487439 & -0.729767827  &  0.0002653578 & -0.29256362   & -0.152270789  &  0.043381021  & -0.0538456631 & -0.01902225  \\\\\n",
       "\tshotsOnGoalFor &  0.62406206   &  0.6829492722 &  1.0000000000 &  0.780999812  &  0.1354479124 &  0.42448014   & -0.05837062   &  0.255078402  & -0.017227348  &  0.0862814590 &  0.03849914   & -0.1344416024 & -0.213271054  &  0.0605332335 & -0.03982438   &  0.053046465  &  0.051048900  &  0.0001611865 &  0.02365276  \\\\\n",
       "\tshotAttemptsFor &  0.78707252   &  0.7297686749 &  0.7809998120 &  1.000000000  & -0.0283733635 &  0.38026483   & -0.09015931   &  0.252635602  &  0.026137171  &  0.0983017251 &  0.12011418   & -0.2132710538 & -0.257915578  &  0.1035419619 & -0.03328422   & -0.007375314  &  0.086341060  &  0.0405548334 &  0.09256776  \\\\\n",
       "\tgoalsFor & -0.08116478   & -0.0002655882 &  0.1354479124 & -0.028373363  &  1.0000000000 &  0.10896040   &  0.05831277   &  0.137732409  & -0.099964870  &  0.1098654682 &  0.01223541   &  0.0605332335 &  0.103541962  & -0.0553024715 &  0.02504602   &  0.089367587  &  0.043148180  & -0.0695368881 &  0.02681521  \\\\\n",
       "\treboundsFor &  0.25510520   &  0.2925636916 &  0.4244801384 &  0.380264827  &  0.1089603999 &  1.00000000   & -0.01102976   &  0.116707270  &  0.025542273  &  0.0384799677 &  0.02658640   & -0.0398243768 & -0.033284220  &  0.0250460184 &  0.06687079   &  0.018050200  &  0.033975071  & -0.0118501366 &  0.01075851  \\\\\n",
       "\tpenalityMinutesFor & -0.11430421   & -0.1121647110 & -0.0583706158 & -0.090159305  &  0.0583127697 & -0.01102976   &  1.00000000   &  0.072556169  &  0.029837506  & -0.0552547404 & -0.07299599   &  0.0983473223 &  0.090574404  &  0.0904826944 &  0.04815582   &  0.109962242  & -0.014893594  & -0.0456731784 & -0.03225535  \\\\\n",
       "\tfaceOffsWonFor &  0.16206651   &  0.1522711457 &  0.2550784017 &  0.252635602  &  0.1377324088 &  0.11670727   &  0.07255617   &  1.000000000  &  0.003959848  &  0.0435115370 &  0.06003643   &  0.0530464653 & -0.007375314  &  0.0893675866 &  0.01805020   & -0.123270365  &  0.011899167  & -0.0406129733 & -0.03310427  \\\\\n",
       "\thitsFor & -0.03846915   & -0.0433809647 & -0.0172273480 &  0.026137171  & -0.0999648703 &  0.02554227   &  0.02983751   &  0.003959848  &  1.000000000  &  0.0250395930 &  0.09235943   &  0.0510488996 &  0.086341060  &  0.0431481802 &  0.03397507   &  0.011899167  &  0.392175408  & -0.0020682264 &  0.02776885  \\\\\n",
       "\ttakeawaysFor &  0.03630718   &  0.0538465424 &  0.0862814590 &  0.098301725  &  0.1098654682 &  0.03847997   & -0.05525474   &  0.043511537  &  0.025039593  &  1.0000000000 &  0.25108977   &  0.0001611865 &  0.040554833  & -0.0695368881 & -0.01185014   & -0.040612973  & -0.002068226  &  0.3481630899 &  0.10768420  \\\\\n",
       "\tgiveawaysFor &  0.01834846   &  0.0190227766 &  0.0384991364 &  0.120114180  &  0.0122354133 &  0.02658640   & -0.07299599   &  0.060036427  &  0.092359433  &  0.2510897672 &  1.00000000   &  0.0236527605 &  0.092567758  &  0.0268152132 &  0.01075851   & -0.033104271  &  0.027768852  &  0.1076841981 &  0.42549345  \\\\\n",
       "\tshotsOnGoalAgainst & -0.62406287   & -0.6829487439 & -0.1344416024 & -0.213271054  &  0.0605332335 & -0.03982438   &  0.09834732   &  0.053046465  &  0.051048900  &  0.0001611865 &  0.02365276   &  1.0000000000 &  0.780999812  &  0.1354479124 &  0.42448014   &  0.255078402  & -0.017227348  &  0.0862814590 &  0.03849914  \\\\\n",
       "\tshotAttemptsAgainst & -0.78707358   & -0.7297678269 & -0.2132710538 & -0.257915578  &  0.1035419619 & -0.03328422   &  0.09057440   & -0.007375314  &  0.086341060  &  0.0405548334 &  0.09256776   &  0.7809998120 &  1.000000000  & -0.0283733635 &  0.38026483   &  0.252635602  &  0.026137171  &  0.0983017251 &  0.12011418  \\\\\n",
       "\tgoalsAgainst &  0.08116490   &  0.0002653578 &  0.0605332335 &  0.103541962  & -0.0553024715 &  0.02504602   &  0.09048269   &  0.089367587  &  0.043148180  & -0.0695368881 &  0.02681521   &  0.1354479124 & -0.028373363  &  1.0000000000 &  0.10896040   &  0.137732409  & -0.099964870  &  0.1098654682 &  0.01223541  \\\\\n",
       "\treboundsAgainst & -0.25510569   & -0.2925636200 & -0.0398243768 & -0.033284220  &  0.0250460184 &  0.06687079   &  0.04815582   &  0.018050200  &  0.033975071  & -0.0118501366 &  0.01075851   &  0.4244801384 &  0.380264827  &  0.1089603999 &  1.00000000   &  0.116707270  &  0.025542273  &  0.0384799677 &  0.02658640  \\\\\n",
       "\tfaceOffsWonAgainst & -0.16206658   & -0.1522707892 &  0.0530464653 & -0.007375314  &  0.0893675866 &  0.01805020   &  0.10996224   & -0.123270365  &  0.011899167  & -0.0406129733 & -0.03310427   &  0.2550784017 &  0.252635602  &  0.1377324088 &  0.11670727   &  1.000000000  &  0.003959848  &  0.0435115370 &  0.06003643  \\\\\n",
       "\thitsAgainst &  0.03846803   &  0.0433810207 &  0.0510488996 &  0.086341060  &  0.0431481802 &  0.03397507   & -0.01489359   &  0.011899167  &  0.392175408  & -0.0020682264 &  0.02776885   & -0.0172273480 &  0.026137171  & -0.0999648703 &  0.02554227   &  0.003959848  &  1.000000000  &  0.0250395930 &  0.09235943  \\\\\n",
       "\ttakeawaysAgainst & -0.03630736   & -0.0538456631 &  0.0001611865 &  0.040554833  & -0.0695368881 & -0.01185014   & -0.04567318   & -0.040612973  & -0.002068226  &  0.3481630899 &  0.10768420   &  0.0862814590 &  0.098301725  &  0.1098654682 &  0.03847997   &  0.043511537  &  0.025039593  &  1.0000000000 &  0.25108977  \\\\\n",
       "\tgiveawaysAgainst & -0.01834915   & -0.0190222467 &  0.0236527605 &  0.092567758  &  0.0268152132 &  0.01075851   & -0.03225535   & -0.033104271  &  0.027768852  &  0.1076841981 &  0.42549345   &  0.0384991364 &  0.120114180  &  0.0122354133 &  0.02658640   &  0.060036427  &  0.092359433  &  0.2510897672 &  1.00000000  \\\\\n",
       "\\end{tabular}\n"
      ],
      "text/markdown": [
       "\n",
       "| <!--/--> | corsiPercentage | fenwickPercentage | shotsOnGoalFor | shotAttemptsFor | goalsFor | reboundsFor | penalityMinutesFor | faceOffsWonFor | hitsFor | takeawaysFor | giveawaysFor | shotsOnGoalAgainst | shotAttemptsAgainst | goalsAgainst | reboundsAgainst | faceOffsWonAgainst | hitsAgainst | takeawaysAgainst | giveawaysAgainst |\n",
       "|---|---|---|---|---|---|---|---|---|---|---|---|---|---|---|---|---|---|---|---|\n",
       "| corsiPercentage |  1.00000000   |  0.9276227002 |  0.6240620631 |  0.787072516  | -0.0811647817 |  0.25510520   | -0.11430421   |  0.162066507  | -0.038469147  |  0.0363071786 |  0.01834846   | -0.6240628663 | -0.787073577  |  0.0811649020 | -0.25510569   | -0.162066578  |  0.038468026  | -0.0363073634 | -0.01834915   |\n",
       "| fenwickPercentage |  0.92762270   |  1.0000000000 |  0.6829492722 |  0.729768675  | -0.0002655882 |  0.29256369   | -0.11216471   |  0.152271146  | -0.043380965  |  0.0538465424 |  0.01902278   | -0.6829487439 | -0.729767827  |  0.0002653578 | -0.29256362   | -0.152270789  |  0.043381021  | -0.0538456631 | -0.01902225   |\n",
       "| shotsOnGoalFor |  0.62406206   |  0.6829492722 |  1.0000000000 |  0.780999812  |  0.1354479124 |  0.42448014   | -0.05837062   |  0.255078402  | -0.017227348  |  0.0862814590 |  0.03849914   | -0.1344416024 | -0.213271054  |  0.0605332335 | -0.03982438   |  0.053046465  |  0.051048900  |  0.0001611865 |  0.02365276   |\n",
       "| shotAttemptsFor |  0.78707252   |  0.7297686749 |  0.7809998120 |  1.000000000  | -0.0283733635 |  0.38026483   | -0.09015931   |  0.252635602  |  0.026137171  |  0.0983017251 |  0.12011418   | -0.2132710538 | -0.257915578  |  0.1035419619 | -0.03328422   | -0.007375314  |  0.086341060  |  0.0405548334 |  0.09256776   |\n",
       "| goalsFor | -0.08116478   | -0.0002655882 |  0.1354479124 | -0.028373363  |  1.0000000000 |  0.10896040   |  0.05831277   |  0.137732409  | -0.099964870  |  0.1098654682 |  0.01223541   |  0.0605332335 |  0.103541962  | -0.0553024715 |  0.02504602   |  0.089367587  |  0.043148180  | -0.0695368881 |  0.02681521   |\n",
       "| reboundsFor |  0.25510520   |  0.2925636916 |  0.4244801384 |  0.380264827  |  0.1089603999 |  1.00000000   | -0.01102976   |  0.116707270  |  0.025542273  |  0.0384799677 |  0.02658640   | -0.0398243768 | -0.033284220  |  0.0250460184 |  0.06687079   |  0.018050200  |  0.033975071  | -0.0118501366 |  0.01075851   |\n",
       "| penalityMinutesFor | -0.11430421   | -0.1121647110 | -0.0583706158 | -0.090159305  |  0.0583127697 | -0.01102976   |  1.00000000   |  0.072556169  |  0.029837506  | -0.0552547404 | -0.07299599   |  0.0983473223 |  0.090574404  |  0.0904826944 |  0.04815582   |  0.109962242  | -0.014893594  | -0.0456731784 | -0.03225535   |\n",
       "| faceOffsWonFor |  0.16206651   |  0.1522711457 |  0.2550784017 |  0.252635602  |  0.1377324088 |  0.11670727   |  0.07255617   |  1.000000000  |  0.003959848  |  0.0435115370 |  0.06003643   |  0.0530464653 | -0.007375314  |  0.0893675866 |  0.01805020   | -0.123270365  |  0.011899167  | -0.0406129733 | -0.03310427   |\n",
       "| hitsFor | -0.03846915   | -0.0433809647 | -0.0172273480 |  0.026137171  | -0.0999648703 |  0.02554227   |  0.02983751   |  0.003959848  |  1.000000000  |  0.0250395930 |  0.09235943   |  0.0510488996 |  0.086341060  |  0.0431481802 |  0.03397507   |  0.011899167  |  0.392175408  | -0.0020682264 |  0.02776885   |\n",
       "| takeawaysFor |  0.03630718   |  0.0538465424 |  0.0862814590 |  0.098301725  |  0.1098654682 |  0.03847997   | -0.05525474   |  0.043511537  |  0.025039593  |  1.0000000000 |  0.25108977   |  0.0001611865 |  0.040554833  | -0.0695368881 | -0.01185014   | -0.040612973  | -0.002068226  |  0.3481630899 |  0.10768420   |\n",
       "| giveawaysFor |  0.01834846   |  0.0190227766 |  0.0384991364 |  0.120114180  |  0.0122354133 |  0.02658640   | -0.07299599   |  0.060036427  |  0.092359433  |  0.2510897672 |  1.00000000   |  0.0236527605 |  0.092567758  |  0.0268152132 |  0.01075851   | -0.033104271  |  0.027768852  |  0.1076841981 |  0.42549345   |\n",
       "| shotsOnGoalAgainst | -0.62406287   | -0.6829487439 | -0.1344416024 | -0.213271054  |  0.0605332335 | -0.03982438   |  0.09834732   |  0.053046465  |  0.051048900  |  0.0001611865 |  0.02365276   |  1.0000000000 |  0.780999812  |  0.1354479124 |  0.42448014   |  0.255078402  | -0.017227348  |  0.0862814590 |  0.03849914   |\n",
       "| shotAttemptsAgainst | -0.78707358   | -0.7297678269 | -0.2132710538 | -0.257915578  |  0.1035419619 | -0.03328422   |  0.09057440   | -0.007375314  |  0.086341060  |  0.0405548334 |  0.09256776   |  0.7809998120 |  1.000000000  | -0.0283733635 |  0.38026483   |  0.252635602  |  0.026137171  |  0.0983017251 |  0.12011418   |\n",
       "| goalsAgainst |  0.08116490   |  0.0002653578 |  0.0605332335 |  0.103541962  | -0.0553024715 |  0.02504602   |  0.09048269   |  0.089367587  |  0.043148180  | -0.0695368881 |  0.02681521   |  0.1354479124 | -0.028373363  |  1.0000000000 |  0.10896040   |  0.137732409  | -0.099964870  |  0.1098654682 |  0.01223541   |\n",
       "| reboundsAgainst | -0.25510569   | -0.2925636200 | -0.0398243768 | -0.033284220  |  0.0250460184 |  0.06687079   |  0.04815582   |  0.018050200  |  0.033975071  | -0.0118501366 |  0.01075851   |  0.4244801384 |  0.380264827  |  0.1089603999 |  1.00000000   |  0.116707270  |  0.025542273  |  0.0384799677 |  0.02658640   |\n",
       "| faceOffsWonAgainst | -0.16206658   | -0.1522707892 |  0.0530464653 | -0.007375314  |  0.0893675866 |  0.01805020   |  0.10996224   | -0.123270365  |  0.011899167  | -0.0406129733 | -0.03310427   |  0.2550784017 |  0.252635602  |  0.1377324088 |  0.11670727   |  1.000000000  |  0.003959848  |  0.0435115370 |  0.06003643   |\n",
       "| hitsAgainst |  0.03846803   |  0.0433810207 |  0.0510488996 |  0.086341060  |  0.0431481802 |  0.03397507   | -0.01489359   |  0.011899167  |  0.392175408  | -0.0020682264 |  0.02776885   | -0.0172273480 |  0.026137171  | -0.0999648703 |  0.02554227   |  0.003959848  |  1.000000000  |  0.0250395930 |  0.09235943   |\n",
       "| takeawaysAgainst | -0.03630736   | -0.0538456631 |  0.0001611865 |  0.040554833  | -0.0695368881 | -0.01185014   | -0.04567318   | -0.040612973  | -0.002068226  |  0.3481630899 |  0.10768420   |  0.0862814590 |  0.098301725  |  0.1098654682 |  0.03847997   |  0.043511537  |  0.025039593  |  1.0000000000 |  0.25108977   |\n",
       "| giveawaysAgainst | -0.01834915   | -0.0190222467 |  0.0236527605 |  0.092567758  |  0.0268152132 |  0.01075851   | -0.03225535   | -0.033104271  |  0.027768852  |  0.1076841981 |  0.42549345   |  0.0384991364 |  0.120114180  |  0.0122354133 |  0.02658640   |  0.060036427  |  0.092359433  |  0.2510897672 |  1.00000000   |\n",
       "\n"
      ],
      "text/plain": [
       "                    corsiPercentage fenwickPercentage shotsOnGoalFor\n",
       "corsiPercentage      1.00000000      0.9276227002      0.6240620631 \n",
       "fenwickPercentage    0.92762270      1.0000000000      0.6829492722 \n",
       "shotsOnGoalFor       0.62406206      0.6829492722      1.0000000000 \n",
       "shotAttemptsFor      0.78707252      0.7297686749      0.7809998120 \n",
       "goalsFor            -0.08116478     -0.0002655882      0.1354479124 \n",
       "reboundsFor          0.25510520      0.2925636916      0.4244801384 \n",
       "penalityMinutesFor  -0.11430421     -0.1121647110     -0.0583706158 \n",
       "faceOffsWonFor       0.16206651      0.1522711457      0.2550784017 \n",
       "hitsFor             -0.03846915     -0.0433809647     -0.0172273480 \n",
       "takeawaysFor         0.03630718      0.0538465424      0.0862814590 \n",
       "giveawaysFor         0.01834846      0.0190227766      0.0384991364 \n",
       "shotsOnGoalAgainst  -0.62406287     -0.6829487439     -0.1344416024 \n",
       "shotAttemptsAgainst -0.78707358     -0.7297678269     -0.2132710538 \n",
       "goalsAgainst         0.08116490      0.0002653578      0.0605332335 \n",
       "reboundsAgainst     -0.25510569     -0.2925636200     -0.0398243768 \n",
       "faceOffsWonAgainst  -0.16206658     -0.1522707892      0.0530464653 \n",
       "hitsAgainst          0.03846803      0.0433810207      0.0510488996 \n",
       "takeawaysAgainst    -0.03630736     -0.0538456631      0.0001611865 \n",
       "giveawaysAgainst    -0.01834915     -0.0190222467      0.0236527605 \n",
       "                    shotAttemptsFor goalsFor      reboundsFor\n",
       "corsiPercentage      0.787072516    -0.0811647817  0.25510520\n",
       "fenwickPercentage    0.729768675    -0.0002655882  0.29256369\n",
       "shotsOnGoalFor       0.780999812     0.1354479124  0.42448014\n",
       "shotAttemptsFor      1.000000000    -0.0283733635  0.38026483\n",
       "goalsFor            -0.028373363     1.0000000000  0.10896040\n",
       "reboundsFor          0.380264827     0.1089603999  1.00000000\n",
       "penalityMinutesFor  -0.090159305     0.0583127697 -0.01102976\n",
       "faceOffsWonFor       0.252635602     0.1377324088  0.11670727\n",
       "hitsFor              0.026137171    -0.0999648703  0.02554227\n",
       "takeawaysFor         0.098301725     0.1098654682  0.03847997\n",
       "giveawaysFor         0.120114180     0.0122354133  0.02658640\n",
       "shotsOnGoalAgainst  -0.213271054     0.0605332335 -0.03982438\n",
       "shotAttemptsAgainst -0.257915578     0.1035419619 -0.03328422\n",
       "goalsAgainst         0.103541962    -0.0553024715  0.02504602\n",
       "reboundsAgainst     -0.033284220     0.0250460184  0.06687079\n",
       "faceOffsWonAgainst  -0.007375314     0.0893675866  0.01805020\n",
       "hitsAgainst          0.086341060     0.0431481802  0.03397507\n",
       "takeawaysAgainst     0.040554833    -0.0695368881 -0.01185014\n",
       "giveawaysAgainst     0.092567758     0.0268152132  0.01075851\n",
       "                    penalityMinutesFor faceOffsWonFor hitsFor     \n",
       "corsiPercentage     -0.11430421         0.162066507   -0.038469147\n",
       "fenwickPercentage   -0.11216471         0.152271146   -0.043380965\n",
       "shotsOnGoalFor      -0.05837062         0.255078402   -0.017227348\n",
       "shotAttemptsFor     -0.09015931         0.252635602    0.026137171\n",
       "goalsFor             0.05831277         0.137732409   -0.099964870\n",
       "reboundsFor         -0.01102976         0.116707270    0.025542273\n",
       "penalityMinutesFor   1.00000000         0.072556169    0.029837506\n",
       "faceOffsWonFor       0.07255617         1.000000000    0.003959848\n",
       "hitsFor              0.02983751         0.003959848    1.000000000\n",
       "takeawaysFor        -0.05525474         0.043511537    0.025039593\n",
       "giveawaysFor        -0.07299599         0.060036427    0.092359433\n",
       "shotsOnGoalAgainst   0.09834732         0.053046465    0.051048900\n",
       "shotAttemptsAgainst  0.09057440        -0.007375314    0.086341060\n",
       "goalsAgainst         0.09048269         0.089367587    0.043148180\n",
       "reboundsAgainst      0.04815582         0.018050200    0.033975071\n",
       "faceOffsWonAgainst   0.10996224        -0.123270365    0.011899167\n",
       "hitsAgainst         -0.01489359         0.011899167    0.392175408\n",
       "takeawaysAgainst    -0.04567318        -0.040612973   -0.002068226\n",
       "giveawaysAgainst    -0.03225535        -0.033104271    0.027768852\n",
       "                    takeawaysFor  giveawaysFor shotsOnGoalAgainst\n",
       "corsiPercentage      0.0363071786  0.01834846  -0.6240628663     \n",
       "fenwickPercentage    0.0538465424  0.01902278  -0.6829487439     \n",
       "shotsOnGoalFor       0.0862814590  0.03849914  -0.1344416024     \n",
       "shotAttemptsFor      0.0983017251  0.12011418  -0.2132710538     \n",
       "goalsFor             0.1098654682  0.01223541   0.0605332335     \n",
       "reboundsFor          0.0384799677  0.02658640  -0.0398243768     \n",
       "penalityMinutesFor  -0.0552547404 -0.07299599   0.0983473223     \n",
       "faceOffsWonFor       0.0435115370  0.06003643   0.0530464653     \n",
       "hitsFor              0.0250395930  0.09235943   0.0510488996     \n",
       "takeawaysFor         1.0000000000  0.25108977   0.0001611865     \n",
       "giveawaysFor         0.2510897672  1.00000000   0.0236527605     \n",
       "shotsOnGoalAgainst   0.0001611865  0.02365276   1.0000000000     \n",
       "shotAttemptsAgainst  0.0405548334  0.09256776   0.7809998120     \n",
       "goalsAgainst        -0.0695368881  0.02681521   0.1354479124     \n",
       "reboundsAgainst     -0.0118501366  0.01075851   0.4244801384     \n",
       "faceOffsWonAgainst  -0.0406129733 -0.03310427   0.2550784017     \n",
       "hitsAgainst         -0.0020682264  0.02776885  -0.0172273480     \n",
       "takeawaysAgainst     0.3481630899  0.10768420   0.0862814590     \n",
       "giveawaysAgainst     0.1076841981  0.42549345   0.0384991364     \n",
       "                    shotAttemptsAgainst goalsAgainst  reboundsAgainst\n",
       "corsiPercentage     -0.787073577         0.0811649020 -0.25510569    \n",
       "fenwickPercentage   -0.729767827         0.0002653578 -0.29256362    \n",
       "shotsOnGoalFor      -0.213271054         0.0605332335 -0.03982438    \n",
       "shotAttemptsFor     -0.257915578         0.1035419619 -0.03328422    \n",
       "goalsFor             0.103541962        -0.0553024715  0.02504602    \n",
       "reboundsFor         -0.033284220         0.0250460184  0.06687079    \n",
       "penalityMinutesFor   0.090574404         0.0904826944  0.04815582    \n",
       "faceOffsWonFor      -0.007375314         0.0893675866  0.01805020    \n",
       "hitsFor              0.086341060         0.0431481802  0.03397507    \n",
       "takeawaysFor         0.040554833        -0.0695368881 -0.01185014    \n",
       "giveawaysFor         0.092567758         0.0268152132  0.01075851    \n",
       "shotsOnGoalAgainst   0.780999812         0.1354479124  0.42448014    \n",
       "shotAttemptsAgainst  1.000000000        -0.0283733635  0.38026483    \n",
       "goalsAgainst        -0.028373363         1.0000000000  0.10896040    \n",
       "reboundsAgainst      0.380264827         0.1089603999  1.00000000    \n",
       "faceOffsWonAgainst   0.252635602         0.1377324088  0.11670727    \n",
       "hitsAgainst          0.026137171        -0.0999648703  0.02554227    \n",
       "takeawaysAgainst     0.098301725         0.1098654682  0.03847997    \n",
       "giveawaysAgainst     0.120114180         0.0122354133  0.02658640    \n",
       "                    faceOffsWonAgainst hitsAgainst  takeawaysAgainst\n",
       "corsiPercentage     -0.162066578        0.038468026 -0.0363073634   \n",
       "fenwickPercentage   -0.152270789        0.043381021 -0.0538456631   \n",
       "shotsOnGoalFor       0.053046465        0.051048900  0.0001611865   \n",
       "shotAttemptsFor     -0.007375314        0.086341060  0.0405548334   \n",
       "goalsFor             0.089367587        0.043148180 -0.0695368881   \n",
       "reboundsFor          0.018050200        0.033975071 -0.0118501366   \n",
       "penalityMinutesFor   0.109962242       -0.014893594 -0.0456731784   \n",
       "faceOffsWonFor      -0.123270365        0.011899167 -0.0406129733   \n",
       "hitsFor              0.011899167        0.392175408 -0.0020682264   \n",
       "takeawaysFor        -0.040612973       -0.002068226  0.3481630899   \n",
       "giveawaysFor        -0.033104271        0.027768852  0.1076841981   \n",
       "shotsOnGoalAgainst   0.255078402       -0.017227348  0.0862814590   \n",
       "shotAttemptsAgainst  0.252635602        0.026137171  0.0983017251   \n",
       "goalsAgainst         0.137732409       -0.099964870  0.1098654682   \n",
       "reboundsAgainst      0.116707270        0.025542273  0.0384799677   \n",
       "faceOffsWonAgainst   1.000000000        0.003959848  0.0435115370   \n",
       "hitsAgainst          0.003959848        1.000000000  0.0250395930   \n",
       "takeawaysAgainst     0.043511537        0.025039593  1.0000000000   \n",
       "giveawaysAgainst     0.060036427        0.092359433  0.2510897672   \n",
       "                    giveawaysAgainst\n",
       "corsiPercentage     -0.01834915     \n",
       "fenwickPercentage   -0.01902225     \n",
       "shotsOnGoalFor       0.02365276     \n",
       "shotAttemptsFor      0.09256776     \n",
       "goalsFor             0.02681521     \n",
       "reboundsFor          0.01075851     \n",
       "penalityMinutesFor  -0.03225535     \n",
       "faceOffsWonFor      -0.03310427     \n",
       "hitsFor              0.02776885     \n",
       "takeawaysFor         0.10768420     \n",
       "giveawaysFor         0.42549345     \n",
       "shotsOnGoalAgainst   0.03849914     \n",
       "shotAttemptsAgainst  0.12011418     \n",
       "goalsAgainst         0.01223541     \n",
       "reboundsAgainst      0.02658640     \n",
       "faceOffsWonAgainst   0.06003643     \n",
       "hitsAgainst          0.09235943     \n",
       "takeawaysAgainst     0.25108977     \n",
       "giveawaysAgainst     1.00000000     "
      ]
     },
     "metadata": {},
     "output_type": "display_data"
    }
   ],
   "source": [
    "# look at correlation matrix of numerical preidctor variables\n",
    "cor(games[,-c(1,2,3,4,5,25)], method = \"pearson\")"
   ]
  },
  {
   "cell_type": "markdown",
   "metadata": {},
   "source": [
    "There looks to be a strong correlation between Corsi and Fenwick percentages, as they are closely related, so for this analysis we will only use Corsi percentage as a predictor.\n",
    "\n",
    "There's also a lot of correlation between Corsi percentage and  shotAttemptsFor and shotAttemptsAgainst, as the latter two are used in the calculation of Corsi Percentage, so we will disregard these two predictors as well."
   ]
  },
  {
   "cell_type": "code",
   "execution_count": 7,
   "metadata": {},
   "outputs": [
    {
     "data": {
      "text/html": [
       "<table>\n",
       "<thead><tr><th></th><th scope=col>team</th><th scope=col>season</th><th scope=col>gameId</th><th scope=col>opposingTeam</th><th scope=col>home_or_away</th><th scope=col>corsiPercentage</th><th scope=col>shotsOnGoalFor</th><th scope=col>goalsFor</th><th scope=col>reboundsFor</th><th scope=col>penalityMinutesFor</th><th scope=col>⋯</th><th scope=col>takeawaysFor</th><th scope=col>giveawaysFor</th><th scope=col>shotsOnGoalAgainst</th><th scope=col>goalsAgainst</th><th scope=col>reboundsAgainst</th><th scope=col>faceOffsWonAgainst</th><th scope=col>hitsAgainst</th><th scope=col>takeawaysAgainst</th><th scope=col>giveawaysAgainst</th><th scope=col>win</th></tr></thead>\n",
       "<tbody>\n",
       "\t<tr><th scope=row>165</th><td>NYR       </td><td>2010      </td><td>2010020013</td><td>BUF       </td><td>AWAY      </td><td>0.4724    </td><td>28        </td><td>6         </td><td>2         </td><td>10        </td><td>⋯         </td><td> 3        </td><td> 5        </td><td>36        </td><td>3         </td><td>2         </td><td>30        </td><td>30        </td><td> 5        </td><td>15        </td><td>1         </td></tr>\n",
       "\t<tr><th scope=row>166</th><td>NYR       </td><td>2010      </td><td>2010020028</td><td>NYI       </td><td>AWAY      </td><td>0.5526    </td><td>33        </td><td>4         </td><td>3         </td><td>15        </td><td>⋯         </td><td> 7        </td><td> 9        </td><td>32        </td><td>6         </td><td>3         </td><td>29        </td><td>28        </td><td>15        </td><td>13        </td><td>0         </td></tr>\n",
       "\t<tr><th scope=row>167</th><td>NYR       </td><td>2010      </td><td>2010020049</td><td>TOR       </td><td>HOME      </td><td>0.4602    </td><td>24        </td><td>3         </td><td>2         </td><td>21        </td><td>⋯         </td><td> 7        </td><td>11        </td><td>38        </td><td>4         </td><td>1         </td><td>32        </td><td>29        </td><td> 5        </td><td> 6        </td><td>0         </td></tr>\n",
       "\t<tr><th scope=row>168</th><td>NYR       </td><td>2010      </td><td>2010020070</td><td>COL       </td><td>HOME      </td><td>0.5772    </td><td>32        </td><td>1         </td><td>4         </td><td> 8        </td><td>⋯         </td><td> 2        </td><td> 4        </td><td>34        </td><td>3         </td><td>5         </td><td>38        </td><td>23        </td><td> 1        </td><td> 3        </td><td>0         </td></tr>\n",
       "\t<tr><th scope=row>169</th><td>NYR       </td><td>2010      </td><td>2010020083</td><td>TOR       </td><td>AWAY      </td><td>0.4622    </td><td>32        </td><td>2         </td><td>1         </td><td>15        </td><td>⋯         </td><td> 6        </td><td> 5        </td><td>25        </td><td>1         </td><td>1         </td><td>31        </td><td>21        </td><td> 9        </td><td>11        </td><td>1         </td></tr>\n",
       "\t<tr><th scope=row>170</th><td>NYR       </td><td>2010      </td><td>2010020098</td><td>BOS       </td><td>AWAY      </td><td>0.4841    </td><td>30        </td><td>3         </td><td>1         </td><td>27        </td><td>⋯         </td><td>11        </td><td> 5        </td><td>37        </td><td>2         </td><td>0         </td><td>28        </td><td>33        </td><td> 2        </td><td>10        </td><td>1         </td></tr>\n",
       "</tbody>\n",
       "</table>\n"
      ],
      "text/latex": [
       "\\begin{tabular}{r|llllllllllllllllllllll}\n",
       "  & team & season & gameId & opposingTeam & home\\_or\\_away & corsiPercentage & shotsOnGoalFor & goalsFor & reboundsFor & penalityMinutesFor & ⋯ & takeawaysFor & giveawaysFor & shotsOnGoalAgainst & goalsAgainst & reboundsAgainst & faceOffsWonAgainst & hitsAgainst & takeawaysAgainst & giveawaysAgainst & win\\\\\n",
       "\\hline\n",
       "\t165 & NYR        & 2010       & 2010020013 & BUF        & AWAY       & 0.4724     & 28         & 6          & 2          & 10         & ⋯          &  3         &  5         & 36         & 3          & 2          & 30         & 30         &  5         & 15         & 1         \\\\\n",
       "\t166 & NYR        & 2010       & 2010020028 & NYI        & AWAY       & 0.5526     & 33         & 4          & 3          & 15         & ⋯          &  7         &  9         & 32         & 6          & 3          & 29         & 28         & 15         & 13         & 0         \\\\\n",
       "\t167 & NYR        & 2010       & 2010020049 & TOR        & HOME       & 0.4602     & 24         & 3          & 2          & 21         & ⋯          &  7         & 11         & 38         & 4          & 1          & 32         & 29         &  5         &  6         & 0         \\\\\n",
       "\t168 & NYR        & 2010       & 2010020070 & COL        & HOME       & 0.5772     & 32         & 1          & 4          &  8         & ⋯          &  2         &  4         & 34         & 3          & 5          & 38         & 23         &  1         &  3         & 0         \\\\\n",
       "\t169 & NYR        & 2010       & 2010020083 & TOR        & AWAY       & 0.4622     & 32         & 2          & 1          & 15         & ⋯          &  6         &  5         & 25         & 1          & 1          & 31         & 21         &  9         & 11         & 1         \\\\\n",
       "\t170 & NYR        & 2010       & 2010020098 & BOS        & AWAY       & 0.4841     & 30         & 3          & 1          & 27         & ⋯          & 11         &  5         & 37         & 2          & 0          & 28         & 33         &  2         & 10         & 1         \\\\\n",
       "\\end{tabular}\n"
      ],
      "text/markdown": [
       "\n",
       "| <!--/--> | team | season | gameId | opposingTeam | home_or_away | corsiPercentage | shotsOnGoalFor | goalsFor | reboundsFor | penalityMinutesFor | ⋯ | takeawaysFor | giveawaysFor | shotsOnGoalAgainst | goalsAgainst | reboundsAgainst | faceOffsWonAgainst | hitsAgainst | takeawaysAgainst | giveawaysAgainst | win |\n",
       "|---|---|---|---|---|---|---|---|---|---|---|---|---|---|---|---|---|---|---|---|---|---|\n",
       "| 165 | NYR        | 2010       | 2010020013 | BUF        | AWAY       | 0.4724     | 28         | 6          | 2          | 10         | ⋯          |  3         |  5         | 36         | 3          | 2          | 30         | 30         |  5         | 15         | 1          |\n",
       "| 166 | NYR        | 2010       | 2010020028 | NYI        | AWAY       | 0.5526     | 33         | 4          | 3          | 15         | ⋯          |  7         |  9         | 32         | 6          | 3          | 29         | 28         | 15         | 13         | 0          |\n",
       "| 167 | NYR        | 2010       | 2010020049 | TOR        | HOME       | 0.4602     | 24         | 3          | 2          | 21         | ⋯          |  7         | 11         | 38         | 4          | 1          | 32         | 29         |  5         |  6         | 0          |\n",
       "| 168 | NYR        | 2010       | 2010020070 | COL        | HOME       | 0.5772     | 32         | 1          | 4          |  8         | ⋯          |  2         |  4         | 34         | 3          | 5          | 38         | 23         |  1         |  3         | 0          |\n",
       "| 169 | NYR        | 2010       | 2010020083 | TOR        | AWAY       | 0.4622     | 32         | 2          | 1          | 15         | ⋯          |  6         |  5         | 25         | 1          | 1          | 31         | 21         |  9         | 11         | 1          |\n",
       "| 170 | NYR        | 2010       | 2010020098 | BOS        | AWAY       | 0.4841     | 30         | 3          | 1          | 27         | ⋯          | 11         |  5         | 37         | 2          | 0          | 28         | 33         |  2         | 10         | 1          |\n",
       "\n"
      ],
      "text/plain": [
       "    team season gameId     opposingTeam home_or_away corsiPercentage\n",
       "165 NYR  2010   2010020013 BUF          AWAY         0.4724         \n",
       "166 NYR  2010   2010020028 NYI          AWAY         0.5526         \n",
       "167 NYR  2010   2010020049 TOR          HOME         0.4602         \n",
       "168 NYR  2010   2010020070 COL          HOME         0.5772         \n",
       "169 NYR  2010   2010020083 TOR          AWAY         0.4622         \n",
       "170 NYR  2010   2010020098 BOS          AWAY         0.4841         \n",
       "    shotsOnGoalFor goalsFor reboundsFor penalityMinutesFor ⋯ takeawaysFor\n",
       "165 28             6        2           10                 ⋯  3          \n",
       "166 33             4        3           15                 ⋯  7          \n",
       "167 24             3        2           21                 ⋯  7          \n",
       "168 32             1        4            8                 ⋯  2          \n",
       "169 32             2        1           15                 ⋯  6          \n",
       "170 30             3        1           27                 ⋯ 11          \n",
       "    giveawaysFor shotsOnGoalAgainst goalsAgainst reboundsAgainst\n",
       "165  5           36                 3            2              \n",
       "166  9           32                 6            3              \n",
       "167 11           38                 4            1              \n",
       "168  4           34                 3            5              \n",
       "169  5           25                 1            1              \n",
       "170  5           37                 2            0              \n",
       "    faceOffsWonAgainst hitsAgainst takeawaysAgainst giveawaysAgainst win\n",
       "165 30                 30           5               15               1  \n",
       "166 29                 28          15               13               0  \n",
       "167 32                 29           5                6               0  \n",
       "168 38                 23           1                3               0  \n",
       "169 31                 21           9               11               1  \n",
       "170 28                 33           2               10               1  "
      ]
     },
     "metadata": {},
     "output_type": "display_data"
    }
   ],
   "source": [
    "# remove Fenwick percentage, shotAttemptsFor, and shotAttemptsAgainst\n",
    "games = games[,-which(names(games) %in% c('fenwickPercentage', 'shotAttemptsFor', 'shotAttemptsAgainst' ))]\n",
    "head(games)"
   ]
  },
  {
   "cell_type": "code",
   "execution_count": 8,
   "metadata": {},
   "outputs": [
    {
     "data": {
      "text/html": [
       "<ol class=list-inline>\n",
       "\t<li>19844</li>\n",
       "\t<li>22</li>\n",
       "</ol>\n"
      ],
      "text/latex": [
       "\\begin{enumerate*}\n",
       "\\item 19844\n",
       "\\item 22\n",
       "\\end{enumerate*}\n"
      ],
      "text/markdown": [
       "1. 19844\n",
       "2. 22\n",
       "\n",
       "\n"
      ],
      "text/plain": [
       "[1] 19844    22"
      ]
     },
     "metadata": {},
     "output_type": "display_data"
    },
    {
     "data": {
      "text/html": [
       "<table>\n",
       "<thead><tr><th></th><th scope=col>corsiPercentage</th><th scope=col>shotsOnGoalFor</th><th scope=col>goalsFor</th><th scope=col>reboundsFor</th><th scope=col>penalityMinutesFor</th><th scope=col>faceOffsWonFor</th><th scope=col>hitsFor</th><th scope=col>takeawaysFor</th><th scope=col>giveawaysFor</th><th scope=col>shotsOnGoalAgainst</th><th scope=col>goalsAgainst</th><th scope=col>reboundsAgainst</th><th scope=col>faceOffsWonAgainst</th><th scope=col>hitsAgainst</th><th scope=col>takeawaysAgainst</th><th scope=col>giveawaysAgainst</th></tr></thead>\n",
       "<tbody>\n",
       "\t<tr><th scope=row>corsiPercentage</th><td> 1.00000000  </td><td> 0.6240620631</td><td>-0.08116478  </td><td> 0.25510520  </td><td>-0.11430421  </td><td> 0.162066507 </td><td>-0.038469147 </td><td> 0.0363071786</td><td> 0.01834846  </td><td>-0.6240628663</td><td> 0.08116490  </td><td>-0.25510569  </td><td>-0.162066578 </td><td> 0.038468026 </td><td>-0.0363073634</td><td>-0.01834915  </td></tr>\n",
       "\t<tr><th scope=row>shotsOnGoalFor</th><td> 0.62406206  </td><td> 1.0000000000</td><td> 0.13544791  </td><td> 0.42448014  </td><td>-0.05837062  </td><td> 0.255078402 </td><td>-0.017227348 </td><td> 0.0862814590</td><td> 0.03849914  </td><td>-0.1344416024</td><td> 0.06053323  </td><td>-0.03982438  </td><td> 0.053046465 </td><td> 0.051048900 </td><td> 0.0001611865</td><td> 0.02365276  </td></tr>\n",
       "\t<tr><th scope=row>goalsFor</th><td>-0.08116478  </td><td> 0.1354479124</td><td> 1.00000000  </td><td> 0.10896040  </td><td> 0.05831277  </td><td> 0.137732409 </td><td>-0.099964870 </td><td> 0.1098654682</td><td> 0.01223541  </td><td> 0.0605332335</td><td>-0.05530247  </td><td> 0.02504602  </td><td> 0.089367587 </td><td> 0.043148180 </td><td>-0.0695368881</td><td> 0.02681521  </td></tr>\n",
       "\t<tr><th scope=row>reboundsFor</th><td> 0.25510520  </td><td> 0.4244801384</td><td> 0.10896040  </td><td> 1.00000000  </td><td>-0.01102976  </td><td> 0.116707270 </td><td> 0.025542273 </td><td> 0.0384799677</td><td> 0.02658640  </td><td>-0.0398243768</td><td> 0.02504602  </td><td> 0.06687079  </td><td> 0.018050200 </td><td> 0.033975071 </td><td>-0.0118501366</td><td> 0.01075851  </td></tr>\n",
       "\t<tr><th scope=row>penalityMinutesFor</th><td>-0.11430421  </td><td>-0.0583706158</td><td> 0.05831277  </td><td>-0.01102976  </td><td> 1.00000000  </td><td> 0.072556169 </td><td> 0.029837506 </td><td>-0.0552547404</td><td>-0.07299599  </td><td> 0.0983473223</td><td> 0.09048269  </td><td> 0.04815582  </td><td> 0.109962242 </td><td>-0.014893594 </td><td>-0.0456731784</td><td>-0.03225535  </td></tr>\n",
       "\t<tr><th scope=row>faceOffsWonFor</th><td> 0.16206651  </td><td> 0.2550784017</td><td> 0.13773241  </td><td> 0.11670727  </td><td> 0.07255617  </td><td> 1.000000000 </td><td> 0.003959848 </td><td> 0.0435115370</td><td> 0.06003643  </td><td> 0.0530464653</td><td> 0.08936759  </td><td> 0.01805020  </td><td>-0.123270365 </td><td> 0.011899167 </td><td>-0.0406129733</td><td>-0.03310427  </td></tr>\n",
       "\t<tr><th scope=row>hitsFor</th><td>-0.03846915  </td><td>-0.0172273480</td><td>-0.09996487  </td><td> 0.02554227  </td><td> 0.02983751  </td><td> 0.003959848 </td><td> 1.000000000 </td><td> 0.0250395930</td><td> 0.09235943  </td><td> 0.0510488996</td><td> 0.04314818  </td><td> 0.03397507  </td><td> 0.011899167 </td><td> 0.392175408 </td><td>-0.0020682264</td><td> 0.02776885  </td></tr>\n",
       "\t<tr><th scope=row>takeawaysFor</th><td> 0.03630718  </td><td> 0.0862814590</td><td> 0.10986547  </td><td> 0.03847997  </td><td>-0.05525474  </td><td> 0.043511537 </td><td> 0.025039593 </td><td> 1.0000000000</td><td> 0.25108977  </td><td> 0.0001611865</td><td>-0.06953689  </td><td>-0.01185014  </td><td>-0.040612973 </td><td>-0.002068226 </td><td> 0.3481630899</td><td> 0.10768420  </td></tr>\n",
       "\t<tr><th scope=row>giveawaysFor</th><td> 0.01834846  </td><td> 0.0384991364</td><td> 0.01223541  </td><td> 0.02658640  </td><td>-0.07299599  </td><td> 0.060036427 </td><td> 0.092359433 </td><td> 0.2510897672</td><td> 1.00000000  </td><td> 0.0236527605</td><td> 0.02681521  </td><td> 0.01075851  </td><td>-0.033104271 </td><td> 0.027768852 </td><td> 0.1076841981</td><td> 0.42549345  </td></tr>\n",
       "\t<tr><th scope=row>shotsOnGoalAgainst</th><td>-0.62406287  </td><td>-0.1344416024</td><td> 0.06053323  </td><td>-0.03982438  </td><td> 0.09834732  </td><td> 0.053046465 </td><td> 0.051048900 </td><td> 0.0001611865</td><td> 0.02365276  </td><td> 1.0000000000</td><td> 0.13544791  </td><td> 0.42448014  </td><td> 0.255078402 </td><td>-0.017227348 </td><td> 0.0862814590</td><td> 0.03849914  </td></tr>\n",
       "\t<tr><th scope=row>goalsAgainst</th><td> 0.08116490  </td><td> 0.0605332335</td><td>-0.05530247  </td><td> 0.02504602  </td><td> 0.09048269  </td><td> 0.089367587 </td><td> 0.043148180 </td><td>-0.0695368881</td><td> 0.02681521  </td><td> 0.1354479124</td><td> 1.00000000  </td><td> 0.10896040  </td><td> 0.137732409 </td><td>-0.099964870 </td><td> 0.1098654682</td><td> 0.01223541  </td></tr>\n",
       "\t<tr><th scope=row>reboundsAgainst</th><td>-0.25510569  </td><td>-0.0398243768</td><td> 0.02504602  </td><td> 0.06687079  </td><td> 0.04815582  </td><td> 0.018050200 </td><td> 0.033975071 </td><td>-0.0118501366</td><td> 0.01075851  </td><td> 0.4244801384</td><td> 0.10896040  </td><td> 1.00000000  </td><td> 0.116707270 </td><td> 0.025542273 </td><td> 0.0384799677</td><td> 0.02658640  </td></tr>\n",
       "\t<tr><th scope=row>faceOffsWonAgainst</th><td>-0.16206658  </td><td> 0.0530464653</td><td> 0.08936759  </td><td> 0.01805020  </td><td> 0.10996224  </td><td>-0.123270365 </td><td> 0.011899167 </td><td>-0.0406129733</td><td>-0.03310427  </td><td> 0.2550784017</td><td> 0.13773241  </td><td> 0.11670727  </td><td> 1.000000000 </td><td> 0.003959848 </td><td> 0.0435115370</td><td> 0.06003643  </td></tr>\n",
       "\t<tr><th scope=row>hitsAgainst</th><td> 0.03846803  </td><td> 0.0510488996</td><td> 0.04314818  </td><td> 0.03397507  </td><td>-0.01489359  </td><td> 0.011899167 </td><td> 0.392175408 </td><td>-0.0020682264</td><td> 0.02776885  </td><td>-0.0172273480</td><td>-0.09996487  </td><td> 0.02554227  </td><td> 0.003959848 </td><td> 1.000000000 </td><td> 0.0250395930</td><td> 0.09235943  </td></tr>\n",
       "\t<tr><th scope=row>takeawaysAgainst</th><td>-0.03630736  </td><td> 0.0001611865</td><td>-0.06953689  </td><td>-0.01185014  </td><td>-0.04567318  </td><td>-0.040612973 </td><td>-0.002068226 </td><td> 0.3481630899</td><td> 0.10768420  </td><td> 0.0862814590</td><td> 0.10986547  </td><td> 0.03847997  </td><td> 0.043511537 </td><td> 0.025039593 </td><td> 1.0000000000</td><td> 0.25108977  </td></tr>\n",
       "\t<tr><th scope=row>giveawaysAgainst</th><td>-0.01834915  </td><td> 0.0236527605</td><td> 0.02681521  </td><td> 0.01075851  </td><td>-0.03225535  </td><td>-0.033104271 </td><td> 0.027768852 </td><td> 0.1076841981</td><td> 0.42549345  </td><td> 0.0384991364</td><td> 0.01223541  </td><td> 0.02658640  </td><td> 0.060036427 </td><td> 0.092359433 </td><td> 0.2510897672</td><td> 1.00000000  </td></tr>\n",
       "</tbody>\n",
       "</table>\n"
      ],
      "text/latex": [
       "\\begin{tabular}{r|llllllllllllllll}\n",
       "  & corsiPercentage & shotsOnGoalFor & goalsFor & reboundsFor & penalityMinutesFor & faceOffsWonFor & hitsFor & takeawaysFor & giveawaysFor & shotsOnGoalAgainst & goalsAgainst & reboundsAgainst & faceOffsWonAgainst & hitsAgainst & takeawaysAgainst & giveawaysAgainst\\\\\n",
       "\\hline\n",
       "\tcorsiPercentage &  1.00000000   &  0.6240620631 & -0.08116478   &  0.25510520   & -0.11430421   &  0.162066507  & -0.038469147  &  0.0363071786 &  0.01834846   & -0.6240628663 &  0.08116490   & -0.25510569   & -0.162066578  &  0.038468026  & -0.0363073634 & -0.01834915  \\\\\n",
       "\tshotsOnGoalFor &  0.62406206   &  1.0000000000 &  0.13544791   &  0.42448014   & -0.05837062   &  0.255078402  & -0.017227348  &  0.0862814590 &  0.03849914   & -0.1344416024 &  0.06053323   & -0.03982438   &  0.053046465  &  0.051048900  &  0.0001611865 &  0.02365276  \\\\\n",
       "\tgoalsFor & -0.08116478   &  0.1354479124 &  1.00000000   &  0.10896040   &  0.05831277   &  0.137732409  & -0.099964870  &  0.1098654682 &  0.01223541   &  0.0605332335 & -0.05530247   &  0.02504602   &  0.089367587  &  0.043148180  & -0.0695368881 &  0.02681521  \\\\\n",
       "\treboundsFor &  0.25510520   &  0.4244801384 &  0.10896040   &  1.00000000   & -0.01102976   &  0.116707270  &  0.025542273  &  0.0384799677 &  0.02658640   & -0.0398243768 &  0.02504602   &  0.06687079   &  0.018050200  &  0.033975071  & -0.0118501366 &  0.01075851  \\\\\n",
       "\tpenalityMinutesFor & -0.11430421   & -0.0583706158 &  0.05831277   & -0.01102976   &  1.00000000   &  0.072556169  &  0.029837506  & -0.0552547404 & -0.07299599   &  0.0983473223 &  0.09048269   &  0.04815582   &  0.109962242  & -0.014893594  & -0.0456731784 & -0.03225535  \\\\\n",
       "\tfaceOffsWonFor &  0.16206651   &  0.2550784017 &  0.13773241   &  0.11670727   &  0.07255617   &  1.000000000  &  0.003959848  &  0.0435115370 &  0.06003643   &  0.0530464653 &  0.08936759   &  0.01805020   & -0.123270365  &  0.011899167  & -0.0406129733 & -0.03310427  \\\\\n",
       "\thitsFor & -0.03846915   & -0.0172273480 & -0.09996487   &  0.02554227   &  0.02983751   &  0.003959848  &  1.000000000  &  0.0250395930 &  0.09235943   &  0.0510488996 &  0.04314818   &  0.03397507   &  0.011899167  &  0.392175408  & -0.0020682264 &  0.02776885  \\\\\n",
       "\ttakeawaysFor &  0.03630718   &  0.0862814590 &  0.10986547   &  0.03847997   & -0.05525474   &  0.043511537  &  0.025039593  &  1.0000000000 &  0.25108977   &  0.0001611865 & -0.06953689   & -0.01185014   & -0.040612973  & -0.002068226  &  0.3481630899 &  0.10768420  \\\\\n",
       "\tgiveawaysFor &  0.01834846   &  0.0384991364 &  0.01223541   &  0.02658640   & -0.07299599   &  0.060036427  &  0.092359433  &  0.2510897672 &  1.00000000   &  0.0236527605 &  0.02681521   &  0.01075851   & -0.033104271  &  0.027768852  &  0.1076841981 &  0.42549345  \\\\\n",
       "\tshotsOnGoalAgainst & -0.62406287   & -0.1344416024 &  0.06053323   & -0.03982438   &  0.09834732   &  0.053046465  &  0.051048900  &  0.0001611865 &  0.02365276   &  1.0000000000 &  0.13544791   &  0.42448014   &  0.255078402  & -0.017227348  &  0.0862814590 &  0.03849914  \\\\\n",
       "\tgoalsAgainst &  0.08116490   &  0.0605332335 & -0.05530247   &  0.02504602   &  0.09048269   &  0.089367587  &  0.043148180  & -0.0695368881 &  0.02681521   &  0.1354479124 &  1.00000000   &  0.10896040   &  0.137732409  & -0.099964870  &  0.1098654682 &  0.01223541  \\\\\n",
       "\treboundsAgainst & -0.25510569   & -0.0398243768 &  0.02504602   &  0.06687079   &  0.04815582   &  0.018050200  &  0.033975071  & -0.0118501366 &  0.01075851   &  0.4244801384 &  0.10896040   &  1.00000000   &  0.116707270  &  0.025542273  &  0.0384799677 &  0.02658640  \\\\\n",
       "\tfaceOffsWonAgainst & -0.16206658   &  0.0530464653 &  0.08936759   &  0.01805020   &  0.10996224   & -0.123270365  &  0.011899167  & -0.0406129733 & -0.03310427   &  0.2550784017 &  0.13773241   &  0.11670727   &  1.000000000  &  0.003959848  &  0.0435115370 &  0.06003643  \\\\\n",
       "\thitsAgainst &  0.03846803   &  0.0510488996 &  0.04314818   &  0.03397507   & -0.01489359   &  0.011899167  &  0.392175408  & -0.0020682264 &  0.02776885   & -0.0172273480 & -0.09996487   &  0.02554227   &  0.003959848  &  1.000000000  &  0.0250395930 &  0.09235943  \\\\\n",
       "\ttakeawaysAgainst & -0.03630736   &  0.0001611865 & -0.06953689   & -0.01185014   & -0.04567318   & -0.040612973  & -0.002068226  &  0.3481630899 &  0.10768420   &  0.0862814590 &  0.10986547   &  0.03847997   &  0.043511537  &  0.025039593  &  1.0000000000 &  0.25108977  \\\\\n",
       "\tgiveawaysAgainst & -0.01834915   &  0.0236527605 &  0.02681521   &  0.01075851   & -0.03225535   & -0.033104271  &  0.027768852  &  0.1076841981 &  0.42549345   &  0.0384991364 &  0.01223541   &  0.02658640   &  0.060036427  &  0.092359433  &  0.2510897672 &  1.00000000  \\\\\n",
       "\\end{tabular}\n"
      ],
      "text/markdown": [
       "\n",
       "| <!--/--> | corsiPercentage | shotsOnGoalFor | goalsFor | reboundsFor | penalityMinutesFor | faceOffsWonFor | hitsFor | takeawaysFor | giveawaysFor | shotsOnGoalAgainst | goalsAgainst | reboundsAgainst | faceOffsWonAgainst | hitsAgainst | takeawaysAgainst | giveawaysAgainst |\n",
       "|---|---|---|---|---|---|---|---|---|---|---|---|---|---|---|---|---|\n",
       "| corsiPercentage |  1.00000000   |  0.6240620631 | -0.08116478   |  0.25510520   | -0.11430421   |  0.162066507  | -0.038469147  |  0.0363071786 |  0.01834846   | -0.6240628663 |  0.08116490   | -0.25510569   | -0.162066578  |  0.038468026  | -0.0363073634 | -0.01834915   |\n",
       "| shotsOnGoalFor |  0.62406206   |  1.0000000000 |  0.13544791   |  0.42448014   | -0.05837062   |  0.255078402  | -0.017227348  |  0.0862814590 |  0.03849914   | -0.1344416024 |  0.06053323   | -0.03982438   |  0.053046465  |  0.051048900  |  0.0001611865 |  0.02365276   |\n",
       "| goalsFor | -0.08116478   |  0.1354479124 |  1.00000000   |  0.10896040   |  0.05831277   |  0.137732409  | -0.099964870  |  0.1098654682 |  0.01223541   |  0.0605332335 | -0.05530247   |  0.02504602   |  0.089367587  |  0.043148180  | -0.0695368881 |  0.02681521   |\n",
       "| reboundsFor |  0.25510520   |  0.4244801384 |  0.10896040   |  1.00000000   | -0.01102976   |  0.116707270  |  0.025542273  |  0.0384799677 |  0.02658640   | -0.0398243768 |  0.02504602   |  0.06687079   |  0.018050200  |  0.033975071  | -0.0118501366 |  0.01075851   |\n",
       "| penalityMinutesFor | -0.11430421   | -0.0583706158 |  0.05831277   | -0.01102976   |  1.00000000   |  0.072556169  |  0.029837506  | -0.0552547404 | -0.07299599   |  0.0983473223 |  0.09048269   |  0.04815582   |  0.109962242  | -0.014893594  | -0.0456731784 | -0.03225535   |\n",
       "| faceOffsWonFor |  0.16206651   |  0.2550784017 |  0.13773241   |  0.11670727   |  0.07255617   |  1.000000000  |  0.003959848  |  0.0435115370 |  0.06003643   |  0.0530464653 |  0.08936759   |  0.01805020   | -0.123270365  |  0.011899167  | -0.0406129733 | -0.03310427   |\n",
       "| hitsFor | -0.03846915   | -0.0172273480 | -0.09996487   |  0.02554227   |  0.02983751   |  0.003959848  |  1.000000000  |  0.0250395930 |  0.09235943   |  0.0510488996 |  0.04314818   |  0.03397507   |  0.011899167  |  0.392175408  | -0.0020682264 |  0.02776885   |\n",
       "| takeawaysFor |  0.03630718   |  0.0862814590 |  0.10986547   |  0.03847997   | -0.05525474   |  0.043511537  |  0.025039593  |  1.0000000000 |  0.25108977   |  0.0001611865 | -0.06953689   | -0.01185014   | -0.040612973  | -0.002068226  |  0.3481630899 |  0.10768420   |\n",
       "| giveawaysFor |  0.01834846   |  0.0384991364 |  0.01223541   |  0.02658640   | -0.07299599   |  0.060036427  |  0.092359433  |  0.2510897672 |  1.00000000   |  0.0236527605 |  0.02681521   |  0.01075851   | -0.033104271  |  0.027768852  |  0.1076841981 |  0.42549345   |\n",
       "| shotsOnGoalAgainst | -0.62406287   | -0.1344416024 |  0.06053323   | -0.03982438   |  0.09834732   |  0.053046465  |  0.051048900  |  0.0001611865 |  0.02365276   |  1.0000000000 |  0.13544791   |  0.42448014   |  0.255078402  | -0.017227348  |  0.0862814590 |  0.03849914   |\n",
       "| goalsAgainst |  0.08116490   |  0.0605332335 | -0.05530247   |  0.02504602   |  0.09048269   |  0.089367587  |  0.043148180  | -0.0695368881 |  0.02681521   |  0.1354479124 |  1.00000000   |  0.10896040   |  0.137732409  | -0.099964870  |  0.1098654682 |  0.01223541   |\n",
       "| reboundsAgainst | -0.25510569   | -0.0398243768 |  0.02504602   |  0.06687079   |  0.04815582   |  0.018050200  |  0.033975071  | -0.0118501366 |  0.01075851   |  0.4244801384 |  0.10896040   |  1.00000000   |  0.116707270  |  0.025542273  |  0.0384799677 |  0.02658640   |\n",
       "| faceOffsWonAgainst | -0.16206658   |  0.0530464653 |  0.08936759   |  0.01805020   |  0.10996224   | -0.123270365  |  0.011899167  | -0.0406129733 | -0.03310427   |  0.2550784017 |  0.13773241   |  0.11670727   |  1.000000000  |  0.003959848  |  0.0435115370 |  0.06003643   |\n",
       "| hitsAgainst |  0.03846803   |  0.0510488996 |  0.04314818   |  0.03397507   | -0.01489359   |  0.011899167  |  0.392175408  | -0.0020682264 |  0.02776885   | -0.0172273480 | -0.09996487   |  0.02554227   |  0.003959848  |  1.000000000  |  0.0250395930 |  0.09235943   |\n",
       "| takeawaysAgainst | -0.03630736   |  0.0001611865 | -0.06953689   | -0.01185014   | -0.04567318   | -0.040612973  | -0.002068226  |  0.3481630899 |  0.10768420   |  0.0862814590 |  0.10986547   |  0.03847997   |  0.043511537  |  0.025039593  |  1.0000000000 |  0.25108977   |\n",
       "| giveawaysAgainst | -0.01834915   |  0.0236527605 |  0.02681521   |  0.01075851   | -0.03225535   | -0.033104271  |  0.027768852  |  0.1076841981 |  0.42549345   |  0.0384991364 |  0.01223541   |  0.02658640   |  0.060036427  |  0.092359433  |  0.2510897672 |  1.00000000   |\n",
       "\n"
      ],
      "text/plain": [
       "                   corsiPercentage shotsOnGoalFor goalsFor    reboundsFor\n",
       "corsiPercentage     1.00000000      0.6240620631  -0.08116478  0.25510520\n",
       "shotsOnGoalFor      0.62406206      1.0000000000   0.13544791  0.42448014\n",
       "goalsFor           -0.08116478      0.1354479124   1.00000000  0.10896040\n",
       "reboundsFor         0.25510520      0.4244801384   0.10896040  1.00000000\n",
       "penalityMinutesFor -0.11430421     -0.0583706158   0.05831277 -0.01102976\n",
       "faceOffsWonFor      0.16206651      0.2550784017   0.13773241  0.11670727\n",
       "hitsFor            -0.03846915     -0.0172273480  -0.09996487  0.02554227\n",
       "takeawaysFor        0.03630718      0.0862814590   0.10986547  0.03847997\n",
       "giveawaysFor        0.01834846      0.0384991364   0.01223541  0.02658640\n",
       "shotsOnGoalAgainst -0.62406287     -0.1344416024   0.06053323 -0.03982438\n",
       "goalsAgainst        0.08116490      0.0605332335  -0.05530247  0.02504602\n",
       "reboundsAgainst    -0.25510569     -0.0398243768   0.02504602  0.06687079\n",
       "faceOffsWonAgainst -0.16206658      0.0530464653   0.08936759  0.01805020\n",
       "hitsAgainst         0.03846803      0.0510488996   0.04314818  0.03397507\n",
       "takeawaysAgainst   -0.03630736      0.0001611865  -0.06953689 -0.01185014\n",
       "giveawaysAgainst   -0.01834915      0.0236527605   0.02681521  0.01075851\n",
       "                   penalityMinutesFor faceOffsWonFor hitsFor      takeawaysFor \n",
       "corsiPercentage    -0.11430421         0.162066507   -0.038469147  0.0363071786\n",
       "shotsOnGoalFor     -0.05837062         0.255078402   -0.017227348  0.0862814590\n",
       "goalsFor            0.05831277         0.137732409   -0.099964870  0.1098654682\n",
       "reboundsFor        -0.01102976         0.116707270    0.025542273  0.0384799677\n",
       "penalityMinutesFor  1.00000000         0.072556169    0.029837506 -0.0552547404\n",
       "faceOffsWonFor      0.07255617         1.000000000    0.003959848  0.0435115370\n",
       "hitsFor             0.02983751         0.003959848    1.000000000  0.0250395930\n",
       "takeawaysFor       -0.05525474         0.043511537    0.025039593  1.0000000000\n",
       "giveawaysFor       -0.07299599         0.060036427    0.092359433  0.2510897672\n",
       "shotsOnGoalAgainst  0.09834732         0.053046465    0.051048900  0.0001611865\n",
       "goalsAgainst        0.09048269         0.089367587    0.043148180 -0.0695368881\n",
       "reboundsAgainst     0.04815582         0.018050200    0.033975071 -0.0118501366\n",
       "faceOffsWonAgainst  0.10996224        -0.123270365    0.011899167 -0.0406129733\n",
       "hitsAgainst        -0.01489359         0.011899167    0.392175408 -0.0020682264\n",
       "takeawaysAgainst   -0.04567318        -0.040612973   -0.002068226  0.3481630899\n",
       "giveawaysAgainst   -0.03225535        -0.033104271    0.027768852  0.1076841981\n",
       "                   giveawaysFor shotsOnGoalAgainst goalsAgainst reboundsAgainst\n",
       "corsiPercentage     0.01834846  -0.6240628663       0.08116490  -0.25510569    \n",
       "shotsOnGoalFor      0.03849914  -0.1344416024       0.06053323  -0.03982438    \n",
       "goalsFor            0.01223541   0.0605332335      -0.05530247   0.02504602    \n",
       "reboundsFor         0.02658640  -0.0398243768       0.02504602   0.06687079    \n",
       "penalityMinutesFor -0.07299599   0.0983473223       0.09048269   0.04815582    \n",
       "faceOffsWonFor      0.06003643   0.0530464653       0.08936759   0.01805020    \n",
       "hitsFor             0.09235943   0.0510488996       0.04314818   0.03397507    \n",
       "takeawaysFor        0.25108977   0.0001611865      -0.06953689  -0.01185014    \n",
       "giveawaysFor        1.00000000   0.0236527605       0.02681521   0.01075851    \n",
       "shotsOnGoalAgainst  0.02365276   1.0000000000       0.13544791   0.42448014    \n",
       "goalsAgainst        0.02681521   0.1354479124       1.00000000   0.10896040    \n",
       "reboundsAgainst     0.01075851   0.4244801384       0.10896040   1.00000000    \n",
       "faceOffsWonAgainst -0.03310427   0.2550784017       0.13773241   0.11670727    \n",
       "hitsAgainst         0.02776885  -0.0172273480      -0.09996487   0.02554227    \n",
       "takeawaysAgainst    0.10768420   0.0862814590       0.10986547   0.03847997    \n",
       "giveawaysAgainst    0.42549345   0.0384991364       0.01223541   0.02658640    \n",
       "                   faceOffsWonAgainst hitsAgainst  takeawaysAgainst\n",
       "corsiPercentage    -0.162066578        0.038468026 -0.0363073634   \n",
       "shotsOnGoalFor      0.053046465        0.051048900  0.0001611865   \n",
       "goalsFor            0.089367587        0.043148180 -0.0695368881   \n",
       "reboundsFor         0.018050200        0.033975071 -0.0118501366   \n",
       "penalityMinutesFor  0.109962242       -0.014893594 -0.0456731784   \n",
       "faceOffsWonFor     -0.123270365        0.011899167 -0.0406129733   \n",
       "hitsFor             0.011899167        0.392175408 -0.0020682264   \n",
       "takeawaysFor       -0.040612973       -0.002068226  0.3481630899   \n",
       "giveawaysFor       -0.033104271        0.027768852  0.1076841981   \n",
       "shotsOnGoalAgainst  0.255078402       -0.017227348  0.0862814590   \n",
       "goalsAgainst        0.137732409       -0.099964870  0.1098654682   \n",
       "reboundsAgainst     0.116707270        0.025542273  0.0384799677   \n",
       "faceOffsWonAgainst  1.000000000        0.003959848  0.0435115370   \n",
       "hitsAgainst         0.003959848        1.000000000  0.0250395930   \n",
       "takeawaysAgainst    0.043511537        0.025039593  1.0000000000   \n",
       "giveawaysAgainst    0.060036427        0.092359433  0.2510897672   \n",
       "                   giveawaysAgainst\n",
       "corsiPercentage    -0.01834915     \n",
       "shotsOnGoalFor      0.02365276     \n",
       "goalsFor            0.02681521     \n",
       "reboundsFor         0.01075851     \n",
       "penalityMinutesFor -0.03225535     \n",
       "faceOffsWonFor     -0.03310427     \n",
       "hitsFor             0.02776885     \n",
       "takeawaysFor        0.10768420     \n",
       "giveawaysFor        0.42549345     \n",
       "shotsOnGoalAgainst  0.03849914     \n",
       "goalsAgainst        0.01223541     \n",
       "reboundsAgainst     0.02658640     \n",
       "faceOffsWonAgainst  0.06003643     \n",
       "hitsAgainst         0.09235943     \n",
       "takeawaysAgainst    0.25108977     \n",
       "giveawaysAgainst    1.00000000     "
      ]
     },
     "metadata": {},
     "output_type": "display_data"
    }
   ],
   "source": [
    "dim(games)\n",
    "cor(games[, - c(1,2,3,4,5,22)], method = 'pearson')\n"
   ]
  },
  {
   "cell_type": "markdown",
   "metadata": {},
   "source": [
    "We are now down to 20 columns total, and look to have elimnated the heavy correlations between potential predictors.  The team and season columns will not be used as predictors (nor will goals for as goals for and goals against together would give win), but the remaining columns will be used to predict the final one, win."
   ]
  },
  {
   "cell_type": "markdown",
   "metadata": {},
   "source": [
    "### Predicting Win based off that games stats"
   ]
  },
  {
   "cell_type": "code",
   "execution_count": 9,
   "metadata": {},
   "outputs": [
    {
     "data": {
      "text/plain": [
       "\n",
       "Call:\n",
       "glm(formula = win ~ . - team - season - gameId - opposingTeam - \n",
       "    goalsAgainst, family = binomial(link = \"logit\"), data = train)\n",
       "\n",
       "Deviance Residuals: \n",
       "    Min       1Q   Median       3Q      Max  \n",
       "-3.2985  -0.5809  -0.1860   0.5296   3.2014  \n",
       "\n",
       "Coefficients:\n",
       "                     Estimate Std. Error z value Pr(>|z|)    \n",
       "(Intercept)          8.445624   0.346642  24.364  < 2e-16 ***\n",
       "home_or_awayHOME     0.438638   0.057957   7.568 3.78e-14 ***\n",
       "corsiPercentage    -13.245891   0.536489 -24.690  < 2e-16 ***\n",
       "shotsOnGoalFor       0.026519   0.005026   5.276 1.32e-07 ***\n",
       "goalsFor             1.393494   0.022308  62.467  < 2e-16 ***\n",
       "reboundsFor          0.032503   0.014449   2.249   0.0245 *  \n",
       "penalityMinutesFor  -0.024662   0.004190  -5.886 3.95e-09 ***\n",
       "faceOffsWonFor      -0.043525   0.004126 -10.548  < 2e-16 ***\n",
       "hitsFor             -0.028615   0.003052  -9.377  < 2e-16 ***\n",
       "takeawaysFor         0.056328   0.006665   8.452  < 2e-16 ***\n",
       "giveawaysFor        -0.044170   0.005784  -7.637 2.22e-14 ***\n",
       "shotsOnGoalAgainst  -0.103613   0.005089 -20.359  < 2e-16 ***\n",
       "reboundsAgainst     -0.056303   0.014311  -3.934 8.34e-05 ***\n",
       "faceOffsWonAgainst  -0.064483   0.004168 -15.473  < 2e-16 ***\n",
       "hitsAgainst          0.026186   0.003007   8.710  < 2e-16 ***\n",
       "takeawaysAgainst    -0.089841   0.006826 -13.162  < 2e-16 ***\n",
       "giveawaysAgainst     0.039216   0.005773   6.793 1.10e-11 ***\n",
       "---\n",
       "Signif. codes:  0 ‘***’ 0.001 ‘**’ 0.01 ‘*’ 0.05 ‘.’ 0.1 ‘ ’ 1\n",
       "\n",
       "(Dispersion parameter for binomial family taken to be 1)\n",
       "\n",
       "    Null deviance: 23760  on 17301  degrees of freedom\n",
       "Residual deviance: 13264  on 17285  degrees of freedom\n",
       "AIC: 13298\n",
       "\n",
       "Number of Fisher Scoring iterations: 5\n"
      ]
     },
     "metadata": {},
     "output_type": "display_data"
    }
   ],
   "source": [
    "# split model into training and testing\n",
    "\n",
    "train = subset(games, games$season %in% c(2010:2017))\n",
    "test = subset(games, games$season == 2018)\n",
    "\n",
    "# run a logistic regression\n",
    "logmod = glm(win ~ . - team - season - gameId - opposingTeam - goalsAgainst, family = binomial(link = 'logit'), data = train)\n",
    "summary(logmod)"
   ]
  },
  {
   "cell_type": "code",
   "execution_count": 10,
   "metadata": {},
   "outputs": [
    {
     "data": {
      "text/plain": [
       "Confusion Matrix and Statistics\n",
       "\n",
       "          Reference\n",
       "Prediction    0    1\n",
       "         0 1131  206\n",
       "         1  227  978\n",
       "                                          \n",
       "               Accuracy : 0.8297          \n",
       "                 95% CI : (0.8145, 0.8441)\n",
       "    No Information Rate : 0.5342          \n",
       "    P-Value [Acc > NIR] : <2e-16          \n",
       "                                          \n",
       "                  Kappa : 0.6581          \n",
       "                                          \n",
       " Mcnemar's Test P-Value : 0.3365          \n",
       "                                          \n",
       "            Sensitivity : 0.8328          \n",
       "            Specificity : 0.8260          \n",
       "         Pos Pred Value : 0.8459          \n",
       "         Neg Pred Value : 0.8116          \n",
       "             Prevalence : 0.5342          \n",
       "         Detection Rate : 0.4449          \n",
       "   Detection Prevalence : 0.5260          \n",
       "      Balanced Accuracy : 0.8294          \n",
       "                                          \n",
       "       'Positive' Class : 0               \n",
       "                                          "
      ]
     },
     "metadata": {},
     "output_type": "display_data"
    }
   ],
   "source": [
    "# use logistic regression model to predict wins with testing data\n",
    "preds = predict(logmod, test, type = \"response\")\n",
    "preds = ifelse(preds>0.5,1,0)\n",
    "preds = as.factor(preds)\n",
    "test$win = as.factor(test$win)\n",
    "confusionMatrix(preds, test$win)"
   ]
  },
  {
   "cell_type": "markdown",
   "metadata": {},
   "source": [
    "From our first logistic regression model, a team's stats in a game allowed us to correctly predict whether that team won or lost with $82.85\\%$ accuracy.  This is much better than guessing at $50\\%$ and is pretty good considering the unpredictable nature of hockey. The concrete hockey stats often do not tell the whole story of a game.\n"
   ]
  },
  {
   "cell_type": "code",
   "execution_count": null,
   "metadata": {},
   "outputs": [],
   "source": []
  },
  {
   "cell_type": "code",
   "execution_count": null,
   "metadata": {},
   "outputs": [],
   "source": []
  },
  {
   "cell_type": "code",
   "execution_count": null,
   "metadata": {},
   "outputs": [],
   "source": []
  },
  {
   "cell_type": "markdown",
   "metadata": {},
   "source": [
    "### Clean data and arrange it to predict single game outcome"
   ]
  },
  {
   "cell_type": "code",
   "execution_count": 11,
   "metadata": {},
   "outputs": [
    {
     "data": {
      "text/html": [
       "<table>\n",
       "<thead><tr><th scope=col>team</th><th scope=col>season</th><th scope=col>home_or_away</th><th scope=col>count(team)</th></tr></thead>\n",
       "<tbody>\n",
       "\t<tr><td>ARI </td><td>2011</td><td>AWAY</td><td>82  </td></tr>\n",
       "\t<tr><td>ARI </td><td>2013</td><td>AWAY</td><td>82  </td></tr>\n",
       "</tbody>\n",
       "</table>\n"
      ],
      "text/latex": [
       "\\begin{tabular}{r|llll}\n",
       " team & season & home\\_or\\_away & count(team)\\\\\n",
       "\\hline\n",
       "\t ARI  & 2011 & AWAY & 82  \\\\\n",
       "\t ARI  & 2013 & AWAY & 82  \\\\\n",
       "\\end{tabular}\n"
      ],
      "text/markdown": [
       "\n",
       "| team | season | home_or_away | count(team) |\n",
       "|---|---|---|---|\n",
       "| ARI  | 2011 | AWAY | 82   |\n",
       "| ARI  | 2013 | AWAY | 82   |\n",
       "\n"
      ],
      "text/plain": [
       "  team season home_or_away count(team)\n",
       "1 ARI  2011   AWAY         82         \n",
       "2 ARI  2013   AWAY         82         "
      ]
     },
     "metadata": {},
     "output_type": "display_data"
    }
   ],
   "source": [
    "clean = sqldf(\"select team, season, home_or_away, count(team)\n",
    "            from games\n",
    "            group by team, season, home_or_away\n",
    "            having count(team) != 41 and count(team) != 24\")\n",
    "clean"
   ]
  },
  {
   "cell_type": "code",
   "execution_count": 12,
   "metadata": {},
   "outputs": [
    {
     "data": {
      "text/plain": [
       "      team           season         gameId           opposingTeam  \n",
       " BUF    :  642   Min.   :2010   Min.   :2.010e+09   BUF    :  642  \n",
       " CAR    :  642   1st Qu.:2013   1st Qu.:2.013e+09   CAR    :  642  \n",
       " FLA    :  642   Median :2015   Median :2.015e+09   FLA    :  642  \n",
       " MTL    :  642   Mean   :2014   Mean   :2.014e+09   MTL    :  642  \n",
       " N.J    :  642   3rd Qu.:2017   3rd Qu.:2.017e+09   N.J    :  642  \n",
       " NYI    :  642   Max.   :2018   Max.   :2.018e+09   NYI    :  642  \n",
       " (Other):14680                                      (Other):14680  \n",
       " home_or_away corsiPercentage  shotsOnGoalFor     goalsFor     \n",
       " AWAY:9266    Min.   :0.2075   Min.   :10.00   Min.   : 0.000  \n",
       " HOME:9266    1st Qu.:0.4468   1st Qu.:26.00   1st Qu.: 2.000  \n",
       "              Median :0.5000   Median :30.00   Median : 3.000  \n",
       "              Mean   :0.5000   Mean   :30.42   Mean   : 2.761  \n",
       "              3rd Qu.:0.5532   3rd Qu.:35.00   3rd Qu.: 4.000  \n",
       "              Max.   :0.7925   Max.   :60.00   Max.   :10.000  \n",
       "                                                               \n",
       "  reboundsFor     penalityMinutesFor faceOffsWonFor     hitsFor     \n",
       " Min.   : 0.000   Min.   :  0.000    Min.   :10.00   Min.   : 2.00  \n",
       " 1st Qu.: 1.000   1st Qu.:  6.000    1st Qu.:26.00   1st Qu.:17.00  \n",
       " Median : 2.000   Median :  8.000    Median :30.00   Median :22.00  \n",
       " Mean   : 2.102   Mean   :  8.941    Mean   :29.79   Mean   :22.74  \n",
       " 3rd Qu.: 3.000   3rd Qu.: 12.000    3rd Qu.:34.00   3rd Qu.:28.00  \n",
       " Max.   :14.000   Max.   :121.000    Max.   :58.00   Max.   :64.00  \n",
       "                                                                    \n",
       "  takeawaysFor     giveawaysFor    shotsOnGoalAgainst  goalsAgainst   \n",
       " Min.   : 0.000   Min.   : 0.000   Min.   :10.00      Min.   : 0.000  \n",
       " 1st Qu.: 4.000   1st Qu.: 5.000   1st Qu.:26.00      1st Qu.: 2.000  \n",
       " Median : 6.000   Median : 8.000   Median :30.00      Median : 3.000  \n",
       " Mean   : 7.014   Mean   : 8.741   Mean   :30.42      Mean   : 2.761  \n",
       " 3rd Qu.: 9.000   3rd Qu.:12.000   3rd Qu.:35.00      3rd Qu.: 4.000  \n",
       " Max.   :31.000   Max.   :36.000   Max.   :60.00      Max.   :10.000  \n",
       "                                                                      \n",
       " reboundsAgainst  faceOffsWonAgainst  hitsAgainst    takeawaysAgainst\n",
       " Min.   : 0.000   Min.   :10.00      Min.   : 2.00   Min.   : 0.000  \n",
       " 1st Qu.: 1.000   1st Qu.:26.00      1st Qu.:17.00   1st Qu.: 4.000  \n",
       " Median : 2.000   Median :30.00      Median :22.00   Median : 6.000  \n",
       " Mean   : 2.102   Mean   :29.79      Mean   :22.74   Mean   : 7.014  \n",
       " 3rd Qu.: 3.000   3rd Qu.:34.00      3rd Qu.:28.00   3rd Qu.: 9.000  \n",
       " Max.   :14.000   Max.   :58.00      Max.   :64.00   Max.   :31.000  \n",
       "                                                                     \n",
       " giveawaysAgainst win      \n",
       " Min.   : 0.000   0:10266  \n",
       " 1st Qu.: 5.000   1: 8266  \n",
       " Median : 8.000            \n",
       " Mean   : 8.741            \n",
       " 3rd Qu.:12.000            \n",
       " Max.   :36.000            \n",
       "                           "
      ]
     },
     "metadata": {},
     "output_type": "display_data"
    }
   ],
   "source": [
    "clean = sqldf(\"select * from games\n",
    "        where team != 'ARI' and opposingTeam != 'ARI'\")\n",
    "summary(clean)"
   ]
  },
  {
   "cell_type": "code",
   "execution_count": 13,
   "metadata": {},
   "outputs": [
    {
     "data": {
      "text/html": [
       "<ol class=list-inline>\n",
       "\t<li>9266</li>\n",
       "\t<li>22</li>\n",
       "</ol>\n"
      ],
      "text/latex": [
       "\\begin{enumerate*}\n",
       "\\item 9266\n",
       "\\item 22\n",
       "\\end{enumerate*}\n"
      ],
      "text/markdown": [
       "1. 9266\n",
       "2. 22\n",
       "\n",
       "\n"
      ],
      "text/plain": [
       "[1] 9266   22"
      ]
     },
     "metadata": {},
     "output_type": "display_data"
    },
    {
     "data": {
      "text/html": [
       "<ol class=list-inline>\n",
       "\t<li>9266</li>\n",
       "\t<li>22</li>\n",
       "</ol>\n"
      ],
      "text/latex": [
       "\\begin{enumerate*}\n",
       "\\item 9266\n",
       "\\item 22\n",
       "\\end{enumerate*}\n"
      ],
      "text/markdown": [
       "1. 9266\n",
       "2. 22\n",
       "\n",
       "\n"
      ],
      "text/plain": [
       "[1] 9266   22"
      ]
     },
     "metadata": {},
     "output_type": "display_data"
    },
    {
     "data": {
      "text/html": [
       "<ol class=list-inline>\n",
       "\t<li>18532</li>\n",
       "\t<li>22</li>\n",
       "</ol>\n"
      ],
      "text/latex": [
       "\\begin{enumerate*}\n",
       "\\item 18532\n",
       "\\item 22\n",
       "\\end{enumerate*}\n"
      ],
      "text/markdown": [
       "1. 18532\n",
       "2. 22\n",
       "\n",
       "\n"
      ],
      "text/plain": [
       "[1] 18532    22"
      ]
     },
     "metadata": {},
     "output_type": "display_data"
    }
   ],
   "source": [
    "home = sqldf(\"SELECT * from clean \n",
    "         where home_or_away = 'HOME' \")\n",
    "\n",
    "away = sqldf(\"SELECT * from clean\n",
    "         where home_or_away = 'AWAY' \")\n",
    "dim(home)\n",
    "dim(away)\n",
    "dim(clean)"
   ]
  },
  {
   "cell_type": "markdown",
   "metadata": {},
   "source": [
    "^^^ Make data frame per team then for year then for averages."
   ]
  },
  {
   "cell_type": "code",
   "execution_count": 262,
   "metadata": {},
   "outputs": [
    {
     "data": {
      "text/html": [
       "<ol class=list-inline>\n",
       "\t<li>15678</li>\n",
       "\t<li>40</li>\n",
       "</ol>\n"
      ],
      "text/latex": [
       "\\begin{enumerate*}\n",
       "\\item 15678\n",
       "\\item 40\n",
       "\\end{enumerate*}\n"
      ],
      "text/markdown": [
       "1. 15678\n",
       "2. 40\n",
       "\n",
       "\n"
      ],
      "text/plain": [
       "[1] 15678    40"
      ]
     },
     "metadata": {},
     "output_type": "display_data"
    },
    {
     "data": {
      "text/html": [
       "<ol class=list-inline>\n",
       "\t<li>536</li>\n",
       "\t<li>40</li>\n",
       "</ol>\n"
      ],
      "text/latex": [
       "\\begin{enumerate*}\n",
       "\\item 536\n",
       "\\item 40\n",
       "\\end{enumerate*}\n"
      ],
      "text/markdown": [
       "1. 536\n",
       "2. 40\n",
       "\n",
       "\n"
      ],
      "text/plain": [
       "[1] 536  40"
      ]
     },
     "metadata": {},
     "output_type": "display_data"
    }
   ],
   "source": [
    "teams = c('ANA', 'ATL', 'BOS', 'BUF', 'CAR', 'CBJ', 'CGY', 'CHI', 'COL', 'DAL', 'DET', 'EDM', \n",
    "          'FLA', 'L.A', 'MIN', 'MTL', 'NSH', 'N.J', 'NYI', 'NYR', 'OTT', 'PHI', 'PIT', 'S.J',\n",
    "          'STL', 'T.B', 'TOR', 'VAN', 'VGK', 'WPG', 'WSH')\n",
    "years = c('2010', '2011', '2013', '2014', '2015', '2016', '2017', '2018')\n",
    "t_total = data.frame()\n",
    "\n",
    "n=15\n",
    "\n",
    "for (t in teams){\n",
    "    team.df = subset(games, team == t)\n",
    "    for (y in years){\n",
    "        team.year.df = subset(team.df, season == y)\n",
    "        for (g in (n+1):82){\n",
    "            team.year.df[g, 'avg_Corsi'] = mean(team.year.df['corsiPercentage'][(g-n):(g-1),1])\n",
    "            team.year.df[g, 'avg_SOG_For'] = mean(team.year.df['shotsOnGoalFor'][(g-n):(g-1),1])\n",
    "            team.year.df[g, 'avg_goals_For'] = mean(team.year.df['goalsFor'][(g-n):(g-1),1])\n",
    "            team.year.df[g, 'avg_goals_Against'] = mean(team.year.df['goalsAgainst'][(g-n):(g-1),1])\n",
    "            team.year.df[g, 'avg_rebounds_For'] = mean(team.year.df['reboundsFor'][(g-n):(g-1),1])\n",
    "            team.year.df[g, 'avg_PIM_For'] = mean(team.year.df['penalityMinutesFor'][(g-n):(g-1),1])\n",
    "            team.year.df[g, 'avg_FO_Win_For'] = mean(team.year.df['faceOffsWonFor'][(g-n):(g-1),1])\n",
    "            team.year.df[g, 'avg_hits_For'] = mean(team.year.df['hitsFor'][(g-n):(g-1),1])\n",
    "            team.year.df[g, 'avg_takeaways_For'] = mean(team.year.df['takeawaysFor'][(g-n):(g-1),1])\n",
    "            team.year.df[g, 'avg_giveaways_For'] = mean(team.year.df['giveawaysFor'][(g-n):(g-1),1])\n",
    "            team.year.df[g, 'num_wins'] = sum(as.numeric(as.character(team.year.df['win'][(g-n):(g-1),1])))\n",
    "            df = drop_na(team.year.df)\n",
    "        }\n",
    "        t_total = rbind(t_total, df)\n",
    "    }\n",
    "}\n",
    "dim(t_total)\n",
    "dim(subset(t_total, team == 'NYR' ))#& season == '2010' ))\n",
    "#subset(clean, team == 'COL' & season == '2012')\n",
    "#t_total"
   ]
  },
  {
   "cell_type": "code",
   "execution_count": 263,
   "metadata": {},
   "outputs": [
    {
     "data": {
      "text/html": [
       "<ol class=list-inline>\n",
       "\t<li>8169</li>\n",
       "\t<li>1</li>\n",
       "</ol>\n"
      ],
      "text/latex": [
       "\\begin{enumerate*}\n",
       "\\item 8169\n",
       "\\item 1\n",
       "\\end{enumerate*}\n"
      ],
      "text/markdown": [
       "1. 8169\n",
       "2. 1\n",
       "\n",
       "\n"
      ],
      "text/plain": [
       "[1] 8169    1"
      ]
     },
     "metadata": {},
     "output_type": "display_data"
    }
   ],
   "source": [
    "dim(sqldf('select distinct gameId from t_total'))"
   ]
  },
  {
   "cell_type": "code",
   "execution_count": 264,
   "metadata": {},
   "outputs": [
    {
     "data": {
      "text/html": [
       "<table>\n",
       "<thead><tr><th></th><th scope=col>team</th><th scope=col>season</th><th scope=col>name</th><th scope=col>gameId</th><th scope=col>opposingTeam</th><th scope=col>home_or_away</th><th scope=col>gameDate</th><th scope=col>situation</th><th scope=col>corsiPercentage</th><th scope=col>fenwickPercentage</th><th scope=col>⋯</th><th scope=col>avg_SOG_For</th><th scope=col>avg_goals_For</th><th scope=col>avg_goals_Against</th><th scope=col>avg_rebounds_For</th><th scope=col>avg_PIM_For</th><th scope=col>avg_FO_Win_For</th><th scope=col>avg_hits_For</th><th scope=col>avg_takeaways_For</th><th scope=col>avg_giveaways_For</th><th scope=col>num_wins</th></tr></thead>\n",
       "<tbody>\n",
       "\t<tr><th scope=row>8133</th><td>ANA       </td><td>2010      </td><td>ANA       </td><td>2010020210</td><td>S.J       </td><td>AWAY      </td><td>20101109  </td><td>all       </td><td>0.3333    </td><td>0.3444    </td><td>⋯         </td><td>28.20000  </td><td>2.666667  </td><td>3.266667  </td><td>1.466667  </td><td>16.33333  </td><td>28.26667  </td><td>22.66667  </td><td>4.800000  </td><td>6.266667  </td><td> 7        </td></tr>\n",
       "\t<tr><th scope=row>8134</th><td>ANA       </td><td>2010      </td><td>ANA       </td><td>2010020216</td><td>NYI       </td><td>HOME      </td><td>20101110  </td><td>all       </td><td>0.3505    </td><td>0.3043    </td><td>⋯         </td><td>28.13333  </td><td>2.866667  </td><td>3.133333  </td><td>1.466667  </td><td>15.60000  </td><td>28.66667  </td><td>22.20000  </td><td>4.466667  </td><td>6.266667  </td><td> 8        </td></tr>\n",
       "\t<tr><th scope=row>8135</th><td>ANA       </td><td>2010      </td><td>ANA       </td><td>2010020232</td><td>DAL       </td><td>HOME      </td><td>20101112  </td><td>all       </td><td>0.5347    </td><td>0.5595    </td><td>⋯         </td><td>26.60000  </td><td>2.866667  </td><td>2.866667  </td><td>1.400000  </td><td>15.46667  </td><td>28.20000  </td><td>22.93333  </td><td>4.400000  </td><td>6.533333  </td><td> 9        </td></tr>\n",
       "\t<tr><th scope=row>8136</th><td>ANA       </td><td>2010      </td><td>ANA       </td><td>2010020247</td><td>CHI       </td><td>AWAY      </td><td>20101114  </td><td>all       </td><td>0.3684    </td><td>0.3592    </td><td>⋯         </td><td>28.13333  </td><td>3.066667  </td><td>2.666667  </td><td>1.400000  </td><td>11.86667  </td><td>29.00000  </td><td>23.46667  </td><td>4.533333  </td><td>6.733333  </td><td>10        </td></tr>\n",
       "\t<tr><th scope=row>8137</th><td>ANA       </td><td>2010      </td><td>ANA       </td><td>2010020256</td><td>DAL       </td><td>AWAY      </td><td>20101116  </td><td>all       </td><td>0.4762    </td><td>0.4872    </td><td>⋯         </td><td>27.73333  </td><td>2.933333  </td><td>2.666667  </td><td>1.266667  </td><td>11.53333  </td><td>29.13333  </td><td>23.66667  </td><td>4.533333  </td><td>6.266667  </td><td> 9        </td></tr>\n",
       "\t<tr><th scope=row>8138</th><td>ANA       </td><td>2010      </td><td>ANA       </td><td>2010020264</td><td>MIN       </td><td>AWAY      </td><td>20101117  </td><td>all       </td><td>0.4904    </td><td>0.4881    </td><td>⋯         </td><td>26.80000  </td><td>2.733333  </td><td>2.533333  </td><td>1.333333  </td><td>12.13333  </td><td>28.73333  </td><td>23.60000  </td><td>4.133333  </td><td>6.200000  </td><td> 9        </td></tr>\n",
       "</tbody>\n",
       "</table>\n"
      ],
      "text/latex": [
       "\\begin{tabular}{r|llllllllllllllllllllllllllllllllllllllll}\n",
       "  & team & season & name & gameId & opposingTeam & home\\_or\\_away & gameDate & situation & corsiPercentage & fenwickPercentage & ⋯ & avg\\_SOG\\_For & avg\\_goals\\_For & avg\\_goals\\_Against & avg\\_rebounds\\_For & avg\\_PIM\\_For & avg\\_FO\\_Win\\_For & avg\\_hits\\_For & avg\\_takeaways\\_For & avg\\_giveaways\\_For & num\\_wins\\\\\n",
       "\\hline\n",
       "\t8133 & ANA        & 2010       & ANA        & 2010020210 & S.J        & AWAY       & 20101109   & all        & 0.3333     & 0.3444     & ⋯          & 28.20000   & 2.666667   & 3.266667   & 1.466667   & 16.33333   & 28.26667   & 22.66667   & 4.800000   & 6.266667   &  7        \\\\\n",
       "\t8134 & ANA        & 2010       & ANA        & 2010020216 & NYI        & HOME       & 20101110   & all        & 0.3505     & 0.3043     & ⋯          & 28.13333   & 2.866667   & 3.133333   & 1.466667   & 15.60000   & 28.66667   & 22.20000   & 4.466667   & 6.266667   &  8        \\\\\n",
       "\t8135 & ANA        & 2010       & ANA        & 2010020232 & DAL        & HOME       & 20101112   & all        & 0.5347     & 0.5595     & ⋯          & 26.60000   & 2.866667   & 2.866667   & 1.400000   & 15.46667   & 28.20000   & 22.93333   & 4.400000   & 6.533333   &  9        \\\\\n",
       "\t8136 & ANA        & 2010       & ANA        & 2010020247 & CHI        & AWAY       & 20101114   & all        & 0.3684     & 0.3592     & ⋯          & 28.13333   & 3.066667   & 2.666667   & 1.400000   & 11.86667   & 29.00000   & 23.46667   & 4.533333   & 6.733333   & 10        \\\\\n",
       "\t8137 & ANA        & 2010       & ANA        & 2010020256 & DAL        & AWAY       & 20101116   & all        & 0.4762     & 0.4872     & ⋯          & 27.73333   & 2.933333   & 2.666667   & 1.266667   & 11.53333   & 29.13333   & 23.66667   & 4.533333   & 6.266667   &  9        \\\\\n",
       "\t8138 & ANA        & 2010       & ANA        & 2010020264 & MIN        & AWAY       & 20101117   & all        & 0.4904     & 0.4881     & ⋯          & 26.80000   & 2.733333   & 2.533333   & 1.333333   & 12.13333   & 28.73333   & 23.60000   & 4.133333   & 6.200000   &  9        \\\\\n",
       "\\end{tabular}\n"
      ],
      "text/markdown": [
       "\n",
       "| <!--/--> | team | season | name | gameId | opposingTeam | home_or_away | gameDate | situation | corsiPercentage | fenwickPercentage | ⋯ | avg_SOG_For | avg_goals_For | avg_goals_Against | avg_rebounds_For | avg_PIM_For | avg_FO_Win_For | avg_hits_For | avg_takeaways_For | avg_giveaways_For | num_wins |\n",
       "|---|---|---|---|---|---|---|---|---|---|---|---|---|---|---|---|---|---|---|---|---|---|\n",
       "| 8133 | ANA        | 2010       | ANA        | 2010020210 | S.J        | AWAY       | 20101109   | all        | 0.3333     | 0.3444     | ⋯          | 28.20000   | 2.666667   | 3.266667   | 1.466667   | 16.33333   | 28.26667   | 22.66667   | 4.800000   | 6.266667   |  7         |\n",
       "| 8134 | ANA        | 2010       | ANA        | 2010020216 | NYI        | HOME       | 20101110   | all        | 0.3505     | 0.3043     | ⋯          | 28.13333   | 2.866667   | 3.133333   | 1.466667   | 15.60000   | 28.66667   | 22.20000   | 4.466667   | 6.266667   |  8         |\n",
       "| 8135 | ANA        | 2010       | ANA        | 2010020232 | DAL        | HOME       | 20101112   | all        | 0.5347     | 0.5595     | ⋯          | 26.60000   | 2.866667   | 2.866667   | 1.400000   | 15.46667   | 28.20000   | 22.93333   | 4.400000   | 6.533333   |  9         |\n",
       "| 8136 | ANA        | 2010       | ANA        | 2010020247 | CHI        | AWAY       | 20101114   | all        | 0.3684     | 0.3592     | ⋯          | 28.13333   | 3.066667   | 2.666667   | 1.400000   | 11.86667   | 29.00000   | 23.46667   | 4.533333   | 6.733333   | 10         |\n",
       "| 8137 | ANA        | 2010       | ANA        | 2010020256 | DAL        | AWAY       | 20101116   | all        | 0.4762     | 0.4872     | ⋯          | 27.73333   | 2.933333   | 2.666667   | 1.266667   | 11.53333   | 29.13333   | 23.66667   | 4.533333   | 6.266667   |  9         |\n",
       "| 8138 | ANA        | 2010       | ANA        | 2010020264 | MIN        | AWAY       | 20101117   | all        | 0.4904     | 0.4881     | ⋯          | 26.80000   | 2.733333   | 2.533333   | 1.333333   | 12.13333   | 28.73333   | 23.60000   | 4.133333   | 6.200000   |  9         |\n",
       "\n"
      ],
      "text/plain": [
       "     team season name gameId     opposingTeam home_or_away gameDate situation\n",
       "8133 ANA  2010   ANA  2010020210 S.J          AWAY         20101109 all      \n",
       "8134 ANA  2010   ANA  2010020216 NYI          HOME         20101110 all      \n",
       "8135 ANA  2010   ANA  2010020232 DAL          HOME         20101112 all      \n",
       "8136 ANA  2010   ANA  2010020247 CHI          AWAY         20101114 all      \n",
       "8137 ANA  2010   ANA  2010020256 DAL          AWAY         20101116 all      \n",
       "8138 ANA  2010   ANA  2010020264 MIN          AWAY         20101117 all      \n",
       "     corsiPercentage fenwickPercentage ⋯ avg_SOG_For avg_goals_For\n",
       "8133 0.3333          0.3444            ⋯ 28.20000    2.666667     \n",
       "8134 0.3505          0.3043            ⋯ 28.13333    2.866667     \n",
       "8135 0.5347          0.5595            ⋯ 26.60000    2.866667     \n",
       "8136 0.3684          0.3592            ⋯ 28.13333    3.066667     \n",
       "8137 0.4762          0.4872            ⋯ 27.73333    2.933333     \n",
       "8138 0.4904          0.4881            ⋯ 26.80000    2.733333     \n",
       "     avg_goals_Against avg_rebounds_For avg_PIM_For avg_FO_Win_For avg_hits_For\n",
       "8133 3.266667          1.466667         16.33333    28.26667       22.66667    \n",
       "8134 3.133333          1.466667         15.60000    28.66667       22.20000    \n",
       "8135 2.866667          1.400000         15.46667    28.20000       22.93333    \n",
       "8136 2.666667          1.400000         11.86667    29.00000       23.46667    \n",
       "8137 2.666667          1.266667         11.53333    29.13333       23.66667    \n",
       "8138 2.533333          1.333333         12.13333    28.73333       23.60000    \n",
       "     avg_takeaways_For avg_giveaways_For num_wins\n",
       "8133 4.800000          6.266667           7      \n",
       "8134 4.466667          6.266667           8      \n",
       "8135 4.400000          6.533333           9      \n",
       "8136 4.533333          6.733333          10      \n",
       "8137 4.533333          6.266667           9      \n",
       "8138 4.133333          6.200000           9      "
      ]
     },
     "metadata": {},
     "output_type": "display_data"
    }
   ],
   "source": [
    "head(t_total)"
   ]
  },
  {
   "cell_type": "code",
   "execution_count": 265,
   "metadata": {},
   "outputs": [
    {
     "data": {
      "text/html": [
       "<table>\n",
       "<thead><tr><th scope=col>gameId</th><th scope=col>season</th><th scope=col>home_team</th><th scope=col>home_NumWins</th><th scope=col>home_avgCorsi</th><th scope=col>home_avgSOG</th><th scope=col>home_avgrebounds_for</th><th scope=col>home_avgGF</th><th scope=col>home_avgGA</th><th scope=col>home_avgPIM</th><th scope=col>⋯</th><th scope=col>away_avgSOG</th><th scope=col>away_avgrebounds_for</th><th scope=col>away_avgPIM</th><th scope=col>away_avgGF</th><th scope=col>away_avgGA</th><th scope=col>away_avgFO_win</th><th scope=col>away_avgHits_For</th><th scope=col>away_avgTA_For</th><th scope=col>away_avgGiveaways_For</th><th scope=col>home_win</th></tr></thead>\n",
       "<tbody>\n",
       "\t<tr><td>2010020282</td><td>2010      </td><td>ANA       </td><td>8         </td><td>0.4454533 </td><td>26.33333  </td><td>1.333333  </td><td>2.600000  </td><td>2.533333  </td><td>12.20000  </td><td>⋯         </td><td>30.60000  </td><td>1.800000  </td><td>10.800000 </td><td>2.866667  </td><td>2.533333  </td><td>31.80000  </td><td>24.33333  </td><td> 7.666667 </td><td> 3.666667 </td><td>0         </td></tr>\n",
       "\t<tr><td>2010020296</td><td>2010      </td><td>ANA       </td><td>8         </td><td>0.4413200 </td><td>27.53333  </td><td>1.533333  </td><td>2.733333  </td><td>2.600000  </td><td>12.53333  </td><td>⋯         </td><td>26.06667  </td><td>1.666667  </td><td>15.333333 </td><td>2.400000  </td><td>4.400000  </td><td>26.86667  </td><td>21.33333  </td><td> 7.400000 </td><td>10.866667 </td><td>0         </td></tr>\n",
       "\t<tr><td>2010020326</td><td>2010      </td><td>ANA       </td><td>7         </td><td>0.4557333 </td><td>28.73333  </td><td>1.600000  </td><td>2.666667  </td><td>2.733333  </td><td>11.93333  </td><td>⋯         </td><td>35.40000  </td><td>1.933333  </td><td> 8.600000 </td><td>3.000000  </td><td>3.066667  </td><td>28.46667  </td><td>20.20000  </td><td>11.333333 </td><td> 7.866667 </td><td>0         </td></tr>\n",
       "\t<tr><td>2010020352</td><td>2010      </td><td>ANA       </td><td>7         </td><td>0.4552667 </td><td>28.80000  </td><td>1.800000  </td><td>2.533333  </td><td>2.800000  </td><td>12.06667  </td><td>⋯         </td><td>29.66667  </td><td>2.200000  </td><td>13.466667 </td><td>2.600000  </td><td>2.533333  </td><td>29.20000  </td><td>25.00000  </td><td> 6.066667 </td><td>10.666667 </td><td>1         </td></tr>\n",
       "\t<tr><td>2010020364</td><td>2010      </td><td>ANA       </td><td>8         </td><td>0.4482133 </td><td>28.20000  </td><td>1.666667  </td><td>2.600000  </td><td>2.666667  </td><td>12.26667  </td><td>⋯         </td><td>34.13333  </td><td>2.733333  </td><td> 8.666667 </td><td>2.533333  </td><td>2.800000  </td><td>31.13333  </td><td>17.33333  </td><td> 7.066667 </td><td> 5.333333 </td><td>1         </td></tr>\n",
       "\t<tr><td>2010020378</td><td>2010      </td><td>ANA       </td><td>9         </td><td>0.4497600 </td><td>28.53333  </td><td>1.600000  </td><td>2.800000  </td><td>2.533333  </td><td>10.06667  </td><td>⋯         </td><td>34.13333  </td><td>2.000000  </td><td> 9.933333 </td><td>3.666667  </td><td>2.733333  </td><td>30.40000  </td><td>21.20000  </td><td> 7.333333 </td><td> 9.133333 </td><td>0         </td></tr>\n",
       "</tbody>\n",
       "</table>\n"
      ],
      "text/latex": [
       "\\begin{tabular}{r|lllllllllllllllllllllllllll}\n",
       " gameId & season & home\\_team & home\\_NumWins & home\\_avgCorsi & home\\_avgSOG & home\\_avgrebounds\\_for & home\\_avgGF & home\\_avgGA & home\\_avgPIM & ⋯ & away\\_avgSOG & away\\_avgrebounds\\_for & away\\_avgPIM & away\\_avgGF & away\\_avgGA & away\\_avgFO\\_win & away\\_avgHits\\_For & away\\_avgTA\\_For & away\\_avgGiveaways\\_For & home\\_win\\\\\n",
       "\\hline\n",
       "\t 2010020282 & 2010       & ANA        & 8          & 0.4454533  & 26.33333   & 1.333333   & 2.600000   & 2.533333   & 12.20000   & ⋯          & 30.60000   & 1.800000   & 10.800000  & 2.866667   & 2.533333   & 31.80000   & 24.33333   &  7.666667  &  3.666667  & 0         \\\\\n",
       "\t 2010020296 & 2010       & ANA        & 8          & 0.4413200  & 27.53333   & 1.533333   & 2.733333   & 2.600000   & 12.53333   & ⋯          & 26.06667   & 1.666667   & 15.333333  & 2.400000   & 4.400000   & 26.86667   & 21.33333   &  7.400000  & 10.866667  & 0         \\\\\n",
       "\t 2010020326 & 2010       & ANA        & 7          & 0.4557333  & 28.73333   & 1.600000   & 2.666667   & 2.733333   & 11.93333   & ⋯          & 35.40000   & 1.933333   &  8.600000  & 3.000000   & 3.066667   & 28.46667   & 20.20000   & 11.333333  &  7.866667  & 0         \\\\\n",
       "\t 2010020352 & 2010       & ANA        & 7          & 0.4552667  & 28.80000   & 1.800000   & 2.533333   & 2.800000   & 12.06667   & ⋯          & 29.66667   & 2.200000   & 13.466667  & 2.600000   & 2.533333   & 29.20000   & 25.00000   &  6.066667  & 10.666667  & 1         \\\\\n",
       "\t 2010020364 & 2010       & ANA        & 8          & 0.4482133  & 28.20000   & 1.666667   & 2.600000   & 2.666667   & 12.26667   & ⋯          & 34.13333   & 2.733333   &  8.666667  & 2.533333   & 2.800000   & 31.13333   & 17.33333   &  7.066667  &  5.333333  & 1         \\\\\n",
       "\t 2010020378 & 2010       & ANA        & 9          & 0.4497600  & 28.53333   & 1.600000   & 2.800000   & 2.533333   & 10.06667   & ⋯          & 34.13333   & 2.000000   &  9.933333  & 3.666667   & 2.733333   & 30.40000   & 21.20000   &  7.333333  &  9.133333  & 0         \\\\\n",
       "\\end{tabular}\n"
      ],
      "text/markdown": [
       "\n",
       "| gameId | season | home_team | home_NumWins | home_avgCorsi | home_avgSOG | home_avgrebounds_for | home_avgGF | home_avgGA | home_avgPIM | ⋯ | away_avgSOG | away_avgrebounds_for | away_avgPIM | away_avgGF | away_avgGA | away_avgFO_win | away_avgHits_For | away_avgTA_For | away_avgGiveaways_For | home_win |\n",
       "|---|---|---|---|---|---|---|---|---|---|---|---|---|---|---|---|---|---|---|---|---|\n",
       "| 2010020282 | 2010       | ANA        | 8          | 0.4454533  | 26.33333   | 1.333333   | 2.600000   | 2.533333   | 12.20000   | ⋯          | 30.60000   | 1.800000   | 10.800000  | 2.866667   | 2.533333   | 31.80000   | 24.33333   |  7.666667  |  3.666667  | 0          |\n",
       "| 2010020296 | 2010       | ANA        | 8          | 0.4413200  | 27.53333   | 1.533333   | 2.733333   | 2.600000   | 12.53333   | ⋯          | 26.06667   | 1.666667   | 15.333333  | 2.400000   | 4.400000   | 26.86667   | 21.33333   |  7.400000  | 10.866667  | 0          |\n",
       "| 2010020326 | 2010       | ANA        | 7          | 0.4557333  | 28.73333   | 1.600000   | 2.666667   | 2.733333   | 11.93333   | ⋯          | 35.40000   | 1.933333   |  8.600000  | 3.000000   | 3.066667   | 28.46667   | 20.20000   | 11.333333  |  7.866667  | 0          |\n",
       "| 2010020352 | 2010       | ANA        | 7          | 0.4552667  | 28.80000   | 1.800000   | 2.533333   | 2.800000   | 12.06667   | ⋯          | 29.66667   | 2.200000   | 13.466667  | 2.600000   | 2.533333   | 29.20000   | 25.00000   |  6.066667  | 10.666667  | 1          |\n",
       "| 2010020364 | 2010       | ANA        | 8          | 0.4482133  | 28.20000   | 1.666667   | 2.600000   | 2.666667   | 12.26667   | ⋯          | 34.13333   | 2.733333   |  8.666667  | 2.533333   | 2.800000   | 31.13333   | 17.33333   |  7.066667  |  5.333333  | 1          |\n",
       "| 2010020378 | 2010       | ANA        | 9          | 0.4497600  | 28.53333   | 1.600000   | 2.800000   | 2.533333   | 10.06667   | ⋯          | 34.13333   | 2.000000   |  9.933333  | 3.666667   | 2.733333   | 30.40000   | 21.20000   |  7.333333  |  9.133333  | 0          |\n",
       "\n"
      ],
      "text/plain": [
       "  gameId     season home_team home_NumWins home_avgCorsi home_avgSOG\n",
       "1 2010020282 2010   ANA       8            0.4454533     26.33333   \n",
       "2 2010020296 2010   ANA       8            0.4413200     27.53333   \n",
       "3 2010020326 2010   ANA       7            0.4557333     28.73333   \n",
       "4 2010020352 2010   ANA       7            0.4552667     28.80000   \n",
       "5 2010020364 2010   ANA       8            0.4482133     28.20000   \n",
       "6 2010020378 2010   ANA       9            0.4497600     28.53333   \n",
       "  home_avgrebounds_for home_avgGF home_avgGA home_avgPIM ⋯ away_avgSOG\n",
       "1 1.333333             2.600000   2.533333   12.20000    ⋯ 30.60000   \n",
       "2 1.533333             2.733333   2.600000   12.53333    ⋯ 26.06667   \n",
       "3 1.600000             2.666667   2.733333   11.93333    ⋯ 35.40000   \n",
       "4 1.800000             2.533333   2.800000   12.06667    ⋯ 29.66667   \n",
       "5 1.666667             2.600000   2.666667   12.26667    ⋯ 34.13333   \n",
       "6 1.600000             2.800000   2.533333   10.06667    ⋯ 34.13333   \n",
       "  away_avgrebounds_for away_avgPIM away_avgGF away_avgGA away_avgFO_win\n",
       "1 1.800000             10.800000   2.866667   2.533333   31.80000      \n",
       "2 1.666667             15.333333   2.400000   4.400000   26.86667      \n",
       "3 1.933333              8.600000   3.000000   3.066667   28.46667      \n",
       "4 2.200000             13.466667   2.600000   2.533333   29.20000      \n",
       "5 2.733333              8.666667   2.533333   2.800000   31.13333      \n",
       "6 2.000000              9.933333   3.666667   2.733333   30.40000      \n",
       "  away_avgHits_For away_avgTA_For away_avgGiveaways_For home_win\n",
       "1 24.33333          7.666667       3.666667             0       \n",
       "2 21.33333          7.400000      10.866667             0       \n",
       "3 20.20000         11.333333       7.866667             0       \n",
       "4 25.00000          6.066667      10.666667             1       \n",
       "5 17.33333          7.066667       5.333333             1       \n",
       "6 21.20000          7.333333       9.133333             0       "
      ]
     },
     "metadata": {},
     "output_type": "display_data"
    },
    {
     "data": {
      "text/html": [
       "<ol class=list-inline>\n",
       "\t<li>7509</li>\n",
       "\t<li>27</li>\n",
       "</ol>\n"
      ],
      "text/latex": [
       "\\begin{enumerate*}\n",
       "\\item 7509\n",
       "\\item 27\n",
       "\\end{enumerate*}\n"
      ],
      "text/markdown": [
       "1. 7509\n",
       "2. 27\n",
       "\n",
       "\n"
      ],
      "text/plain": [
       "[1] 7509   27"
      ]
     },
     "metadata": {},
     "output_type": "display_data"
    }
   ],
   "source": [
    "home = sqldf(\"select * from t_total where home_or_away = 'HOME' \")\n",
    "away = sqldf(\"select * from t_total where home_or_away = 'AWAY' \")\n",
    "\n",
    "allgame = sqldf(\"select h.gameId, h.season, h.team as home_team,\n",
    "        h.num_wins as home_NumWins, h.avg_Corsi as home_avgCorsi,\n",
    "        h.avg_SOG_For as home_avgSOG, h.avg_rebounds_For as home_avgrebounds_for,\n",
    "        h.avg_goals_For as home_avgGF, h.avg_goals_Against as home_avgGA,\n",
    "        h.avg_PIM_For as home_avgPIM, h.avg_FO_Win_For as home_avgFO_win,\n",
    "        h.avg_hits_For as home_avgHits_For, h.avg_takeaways_For as home_avgTA_For,\n",
    "        h.avg_giveaways_For as home_avgGiveaways_For,\n",
    "        a.team as away_team, a.num_wins as away_NumWins,\n",
    "        a.avg_Corsi as away_avgCorsi,\n",
    "        a.avg_SOG_For as away_avgSOG, a.avg_rebounds_For as away_avgrebounds_for,\n",
    "        a.avg_PIM_For as away_avgPIM, a.avg_goals_For as away_avgGF,\n",
    "        a.avg_goals_Against as away_avgGA, a.avg_FO_Win_For as away_avgFO_win,\n",
    "        a.avg_hits_For as away_avgHits_For, a.avg_takeaways_For as away_avgTA_For,\n",
    "        a.avg_giveaways_For as away_avgGiveaways_For, h.win as home_win from home h\n",
    "        inner join away a on a.gameId = h.gameId\")\n",
    "\n",
    "head(allgame)\n",
    "dim(allgame)"
   ]
  },
  {
   "cell_type": "code",
   "execution_count": 266,
   "metadata": {},
   "outputs": [
    {
     "data": {
      "text/html": [
       "<table>\n",
       "<thead><tr><th scope=col>gameId</th><th scope=col>season</th><th scope=col>home_team</th><th scope=col>away_team</th><th scope=col>HA_NumWins_diff</th><th scope=col>HA_avgCorsi_diff</th><th scope=col>HA_avgGF_diff</th><th scope=col>HA_avgGA_diff</th><th scope=col>HA_avgSOG_diff</th><th scope=col>HA_avgReboundsFor_diff</th><th scope=col>HA_avgPIM_diff</th><th scope=col>HA_avg_FOwin_diff</th><th scope=col>HA_avgHits_diff</th><th scope=col>HA_avgTA_diff</th><th scope=col>HA_avgGiveaways_diff</th><th scope=col>home_win</th></tr></thead>\n",
       "<tbody>\n",
       "\t<tr><td>2010020282 </td><td>2010       </td><td>ANA        </td><td>CBJ        </td><td>-1         </td><td>-0.05031333</td><td>-0.26666667</td><td> 0.0000000 </td><td>-4.2666667 </td><td>-0.4666667 </td><td> 1.4000000 </td><td>-3.3333333 </td><td>-0.8666667 </td><td>-3.533333  </td><td> 2.6000000 </td><td>0          </td></tr>\n",
       "\t<tr><td>2010020296 </td><td>2010       </td><td>ANA        </td><td>EDM        </td><td> 6         </td><td> 0.00240000</td><td> 0.33333333</td><td>-1.8000000 </td><td> 1.4666667 </td><td>-0.1333333 </td><td>-2.8000000 </td><td> 1.6000000 </td><td> 2.6666667 </td><td>-3.066667  </td><td>-4.3333333 </td><td>0          </td></tr>\n",
       "\t<tr><td>2010020326 </td><td>2010       </td><td>ANA        </td><td>CHI        </td><td> 2         </td><td>-0.09848667</td><td>-0.33333333</td><td>-0.3333333 </td><td>-6.6666667 </td><td>-0.3333333 </td><td> 3.3333333 </td><td>-0.4666667 </td><td> 4.2000000 </td><td>-7.000000  </td><td>-1.6666667 </td><td>0          </td></tr>\n",
       "\t<tr><td>2010020352 </td><td>2010       </td><td>ANA        </td><td>L.A        </td><td> 1         </td><td>-0.03707333</td><td>-0.06666667</td><td> 0.2666667 </td><td>-0.8666667 </td><td>-0.4000000 </td><td>-1.4000000 </td><td>-0.8666667 </td><td>-1.8000000 </td><td>-2.066667  </td><td>-4.8666667 </td><td>1          </td></tr>\n",
       "\t<tr><td>2010020364 </td><td>2010       </td><td>ANA        </td><td>FLA        </td><td> 2         </td><td>-0.05848000</td><td> 0.06666667</td><td>-0.1333333 </td><td>-5.9333333 </td><td>-1.0666667 </td><td> 3.6000000 </td><td>-2.9333333 </td><td> 6.0000000 </td><td>-3.266667  </td><td> 0.5333333 </td><td>1          </td></tr>\n",
       "\t<tr><td>2010020378 </td><td>2010       </td><td>ANA        </td><td>DET        </td><td>-2         </td><td>-0.09286000</td><td>-0.86666667</td><td>-0.2000000 </td><td>-5.6000000 </td><td>-0.4000000 </td><td> 0.1333333 </td><td>-3.3333333 </td><td> 1.8666667 </td><td>-3.466667  </td><td>-3.1333333 </td><td>0          </td></tr>\n",
       "</tbody>\n",
       "</table>\n"
      ],
      "text/latex": [
       "\\begin{tabular}{r|llllllllllllllll}\n",
       " gameId & season & home\\_team & away\\_team & HA\\_NumWins\\_diff & HA\\_avgCorsi\\_diff & HA\\_avgGF\\_diff & HA\\_avgGA\\_diff & HA\\_avgSOG\\_diff & HA\\_avgReboundsFor\\_diff & HA\\_avgPIM\\_diff & HA\\_avg\\_FOwin\\_diff & HA\\_avgHits\\_diff & HA\\_avgTA\\_diff & HA\\_avgGiveaways\\_diff & home\\_win\\\\\n",
       "\\hline\n",
       "\t 2010020282  & 2010        & ANA         & CBJ         & -1          & -0.05031333 & -0.26666667 &  0.0000000  & -4.2666667  & -0.4666667  &  1.4000000  & -3.3333333  & -0.8666667  & -3.533333   &  2.6000000  & 0          \\\\\n",
       "\t 2010020296  & 2010        & ANA         & EDM         &  6          &  0.00240000 &  0.33333333 & -1.8000000  &  1.4666667  & -0.1333333  & -2.8000000  &  1.6000000  &  2.6666667  & -3.066667   & -4.3333333  & 0          \\\\\n",
       "\t 2010020326  & 2010        & ANA         & CHI         &  2          & -0.09848667 & -0.33333333 & -0.3333333  & -6.6666667  & -0.3333333  &  3.3333333  & -0.4666667  &  4.2000000  & -7.000000   & -1.6666667  & 0          \\\\\n",
       "\t 2010020352  & 2010        & ANA         & L.A         &  1          & -0.03707333 & -0.06666667 &  0.2666667  & -0.8666667  & -0.4000000  & -1.4000000  & -0.8666667  & -1.8000000  & -2.066667   & -4.8666667  & 1          \\\\\n",
       "\t 2010020364  & 2010        & ANA         & FLA         &  2          & -0.05848000 &  0.06666667 & -0.1333333  & -5.9333333  & -1.0666667  &  3.6000000  & -2.9333333  &  6.0000000  & -3.266667   &  0.5333333  & 1          \\\\\n",
       "\t 2010020378  & 2010        & ANA         & DET         & -2          & -0.09286000 & -0.86666667 & -0.2000000  & -5.6000000  & -0.4000000  &  0.1333333  & -3.3333333  &  1.8666667  & -3.466667   & -3.1333333  & 0          \\\\\n",
       "\\end{tabular}\n"
      ],
      "text/markdown": [
       "\n",
       "| gameId | season | home_team | away_team | HA_NumWins_diff | HA_avgCorsi_diff | HA_avgGF_diff | HA_avgGA_diff | HA_avgSOG_diff | HA_avgReboundsFor_diff | HA_avgPIM_diff | HA_avg_FOwin_diff | HA_avgHits_diff | HA_avgTA_diff | HA_avgGiveaways_diff | home_win |\n",
       "|---|---|---|---|---|---|---|---|---|---|---|---|---|---|---|---|\n",
       "| 2010020282  | 2010        | ANA         | CBJ         | -1          | -0.05031333 | -0.26666667 |  0.0000000  | -4.2666667  | -0.4666667  |  1.4000000  | -3.3333333  | -0.8666667  | -3.533333   |  2.6000000  | 0           |\n",
       "| 2010020296  | 2010        | ANA         | EDM         |  6          |  0.00240000 |  0.33333333 | -1.8000000  |  1.4666667  | -0.1333333  | -2.8000000  |  1.6000000  |  2.6666667  | -3.066667   | -4.3333333  | 0           |\n",
       "| 2010020326  | 2010        | ANA         | CHI         |  2          | -0.09848667 | -0.33333333 | -0.3333333  | -6.6666667  | -0.3333333  |  3.3333333  | -0.4666667  |  4.2000000  | -7.000000   | -1.6666667  | 0           |\n",
       "| 2010020352  | 2010        | ANA         | L.A         |  1          | -0.03707333 | -0.06666667 |  0.2666667  | -0.8666667  | -0.4000000  | -1.4000000  | -0.8666667  | -1.8000000  | -2.066667   | -4.8666667  | 1           |\n",
       "| 2010020364  | 2010        | ANA         | FLA         |  2          | -0.05848000 |  0.06666667 | -0.1333333  | -5.9333333  | -1.0666667  |  3.6000000  | -2.9333333  |  6.0000000  | -3.266667   |  0.5333333  | 1           |\n",
       "| 2010020378  | 2010        | ANA         | DET         | -2          | -0.09286000 | -0.86666667 | -0.2000000  | -5.6000000  | -0.4000000  |  0.1333333  | -3.3333333  |  1.8666667  | -3.466667   | -3.1333333  | 0           |\n",
       "\n"
      ],
      "text/plain": [
       "  gameId     season home_team away_team HA_NumWins_diff HA_avgCorsi_diff\n",
       "1 2010020282 2010   ANA       CBJ       -1              -0.05031333     \n",
       "2 2010020296 2010   ANA       EDM        6               0.00240000     \n",
       "3 2010020326 2010   ANA       CHI        2              -0.09848667     \n",
       "4 2010020352 2010   ANA       L.A        1              -0.03707333     \n",
       "5 2010020364 2010   ANA       FLA        2              -0.05848000     \n",
       "6 2010020378 2010   ANA       DET       -2              -0.09286000     \n",
       "  HA_avgGF_diff HA_avgGA_diff HA_avgSOG_diff HA_avgReboundsFor_diff\n",
       "1 -0.26666667    0.0000000    -4.2666667     -0.4666667            \n",
       "2  0.33333333   -1.8000000     1.4666667     -0.1333333            \n",
       "3 -0.33333333   -0.3333333    -6.6666667     -0.3333333            \n",
       "4 -0.06666667    0.2666667    -0.8666667     -0.4000000            \n",
       "5  0.06666667   -0.1333333    -5.9333333     -1.0666667            \n",
       "6 -0.86666667   -0.2000000    -5.6000000     -0.4000000            \n",
       "  HA_avgPIM_diff HA_avg_FOwin_diff HA_avgHits_diff HA_avgTA_diff\n",
       "1  1.4000000     -3.3333333        -0.8666667      -3.533333    \n",
       "2 -2.8000000      1.6000000         2.6666667      -3.066667    \n",
       "3  3.3333333     -0.4666667         4.2000000      -7.000000    \n",
       "4 -1.4000000     -0.8666667        -1.8000000      -2.066667    \n",
       "5  3.6000000     -2.9333333         6.0000000      -3.266667    \n",
       "6  0.1333333     -3.3333333         1.8666667      -3.466667    \n",
       "  HA_avgGiveaways_diff home_win\n",
       "1  2.6000000           0       \n",
       "2 -4.3333333           0       \n",
       "3 -1.6666667           0       \n",
       "4 -4.8666667           1       \n",
       "5  0.5333333           1       \n",
       "6 -3.1333333           0       "
      ]
     },
     "metadata": {},
     "output_type": "display_data"
    },
    {
     "data": {
      "text/html": [
       "<ol class=list-inline>\n",
       "\t<li>7509</li>\n",
       "\t<li>16</li>\n",
       "</ol>\n"
      ],
      "text/latex": [
       "\\begin{enumerate*}\n",
       "\\item 7509\n",
       "\\item 16\n",
       "\\end{enumerate*}\n"
      ],
      "text/markdown": [
       "1. 7509\n",
       "2. 16\n",
       "\n",
       "\n"
      ],
      "text/plain": [
       "[1] 7509   16"
      ]
     },
     "metadata": {},
     "output_type": "display_data"
    }
   ],
   "source": [
    "allgames = sqldf('select gameId, season, home_team, away_team,\n",
    "                home_NumWins-away_NumWins as HA_NumWins_diff,\n",
    "                home_avgCorsi-away_avgCorsi as HA_avgCorsi_diff,\n",
    "                home_avgGF-away_avgGF as HA_avgGF_diff,\n",
    "                home_avgGA-away_avgGA as HA_avgGA_diff,\n",
    "                home_avgSOG-away_avgSOG as HA_avgSOG_diff, \n",
    "                home_avgrebounds_for- away_avgrebounds_for as HA_avgReboundsFor_diff,\n",
    "                home_avgPIM-away_avgPIM as HA_avgPIM_diff,\n",
    "                home_avgFO_win-away_avgFO_win as HA_avg_FOwin_diff,\n",
    "                home_avgHits_For-away_avgHits_For as HA_avgHits_diff,\n",
    "                home_avgTA_For-away_avgTA_For as HA_avgTA_diff,\n",
    "                home_avgGiveaways_For-away_avgGiveaways_For as HA_avgGiveaways_diff,\n",
    "                home_win\n",
    "                from allgame')\n",
    "\n",
    "head(allgames)\n",
    "dim(allgames)\n",
    "allgames$home_win = as.factor(allgames$home_win)\n",
    "\n",
    "\n",
    "#standardize \n",
    "allgames[,6:15] = scale(allgames[,6:15])"
   ]
  },
  {
   "cell_type": "code",
   "execution_count": 272,
   "metadata": {},
   "outputs": [
    {
     "data": {
      "text/html": [
       "6007"
      ],
      "text/latex": [
       "6007"
      ],
      "text/markdown": [
       "6007"
      ],
      "text/plain": [
       "[1] 6007"
      ]
     },
     "metadata": {},
     "output_type": "display_data"
    },
    {
     "data": {
      "text/html": [
       "<ol class=list-inline>\n",
       "\t<li>1503</li>\n",
       "\t<li>16</li>\n",
       "</ol>\n"
      ],
      "text/latex": [
       "\\begin{enumerate*}\n",
       "\\item 1503\n",
       "\\item 16\n",
       "\\end{enumerate*}\n"
      ],
      "text/markdown": [
       "1. 1503\n",
       "2. 16\n",
       "\n",
       "\n"
      ],
      "text/plain": [
       "[1] 1503   16"
      ]
     },
     "metadata": {},
     "output_type": "display_data"
    },
    {
     "data": {
      "text/plain": [
       "\n",
       "Call:\n",
       "glm(formula = home_win ~ . - gameId - home_team - away_team - \n",
       "    season, family = binomial(link = \"logit\"), data = trains)\n",
       "\n",
       "Deviance Residuals: \n",
       "   Min      1Q  Median      3Q     Max  \n",
       "-1.626  -1.139  -0.865   1.172   1.726  \n",
       "\n",
       "Coefficients:\n",
       "                        Estimate Std. Error z value Pr(>|z|)    \n",
       "(Intercept)            -0.054388   0.026173  -2.078  0.03771 *  \n",
       "HA_NumWins_diff         0.008875   0.017260   0.514  0.60712    \n",
       "HA_avgCorsi_diff        0.170657   0.038454   4.438 9.08e-06 ***\n",
       "HA_avgGF_diff           0.139299   0.044439   3.135  0.00172 ** \n",
       "HA_avgGA_diff          -0.129943   0.040078  -3.242  0.00119 ** \n",
       "HA_avgSOG_diff          0.067722   0.043627   1.552  0.12059    \n",
       "HA_avgReboundsFor_diff -0.049575   0.030032  -1.651  0.09879 .  \n",
       "HA_avgPIM_diff          0.013319   0.028828   0.462  0.64408    \n",
       "HA_avg_FOwin_diff      -0.024109   0.028495  -0.846  0.39751    \n",
       "HA_avgHits_diff         0.031939   0.028269   1.130  0.25856    \n",
       "HA_avgTA_diff          -0.038865   0.028486  -1.364  0.17245    \n",
       "HA_avgGiveaways_diff   -0.003767   0.027709  -0.136  0.89185    \n",
       "---\n",
       "Signif. codes:  0 ‘***’ 0.001 ‘**’ 0.01 ‘*’ 0.05 ‘.’ 0.1 ‘ ’ 1\n",
       "\n",
       "(Dispersion parameter for binomial family taken to be 1)\n",
       "\n",
       "    Null deviance: 8323.5  on 6006  degrees of freedom\n",
       "Residual deviance: 8162.0  on 5995  degrees of freedom\n",
       "AIC: 8186\n",
       "\n",
       "Number of Fisher Scoring iterations: 4\n"
      ]
     },
     "metadata": {},
     "output_type": "display_data"
    }
   ],
   "source": [
    "set.seed(11)\n",
    "shuff = allgames[sample(length(allgames[,1])),]\n",
    "trainSize = floor(0.8*length(allgames[,1])) \n",
    "n = trainSize\n",
    "n\n",
    "trains = shuff[1:trainSize,]\n",
    "tests = shuff[trainSize:length(allgames[,1]),]\n",
    "dim(tests)\n",
    "#trains = subset(allgames, season %in% c(2010:2017))\n",
    "#tests = subset(allgames, season == 2018)\n",
    "#head(trains)\n",
    "\n",
    "gmod = glm(home_win ~ . -gameId -home_team -away_team -season, family = binomial(link = 'logit'),\n",
    "          data = trains)\n",
    "summary(gmod)"
   ]
  },
  {
   "cell_type": "code",
   "execution_count": 273,
   "metadata": {},
   "outputs": [
    {
     "data": {
      "text/plain": [
       "Confusion Matrix and Statistics\n",
       "\n",
       "          Reference\n",
       "Prediction   0   1\n",
       "         0 471 371\n",
       "         1 283 378\n",
       "                                          \n",
       "               Accuracy : 0.5649          \n",
       "                 95% CI : (0.5394, 0.5901)\n",
       "    No Information Rate : 0.5017          \n",
       "    P-Value [Acc > NIR] : 5.252e-07       \n",
       "                                          \n",
       "                  Kappa : 0.1294          \n",
       "                                          \n",
       " Mcnemar's Test P-Value : 0.000669        \n",
       "                                          \n",
       "            Sensitivity : 0.6247          \n",
       "            Specificity : 0.5047          \n",
       "         Pos Pred Value : 0.5594          \n",
       "         Neg Pred Value : 0.5719          \n",
       "             Prevalence : 0.5017          \n",
       "         Detection Rate : 0.3134          \n",
       "   Detection Prevalence : 0.5602          \n",
       "      Balanced Accuracy : 0.5647          \n",
       "                                          \n",
       "       'Positive' Class : 0               \n",
       "                                          "
      ]
     },
     "metadata": {},
     "output_type": "display_data"
    }
   ],
   "source": [
    "preds = predict(gmod, tests, type = 'response')\n",
    "predis = as.factor(ifelse(preds>0.5, 1, 0))\n",
    "confusionMatrix(predis, tests$home_win)"
   ]
  },
  {
   "cell_type": "code",
   "execution_count": 274,
   "metadata": {},
   "outputs": [
    {
     "data": {
      "text/plain": [
       "Subset selection object\n",
       "Call: regsubsets.formula(home_win ~ . - gameId - home_team - away_team - \n",
       "    season, data = trains)\n",
       "11 Variables  (and intercept)\n",
       "                       Forced in Forced out\n",
       "HA_NumWins_diff            FALSE      FALSE\n",
       "HA_avgCorsi_diff           FALSE      FALSE\n",
       "HA_avgGF_diff              FALSE      FALSE\n",
       "HA_avgGA_diff              FALSE      FALSE\n",
       "HA_avgSOG_diff             FALSE      FALSE\n",
       "HA_avgReboundsFor_diff     FALSE      FALSE\n",
       "HA_avgPIM_diff             FALSE      FALSE\n",
       "HA_avg_FOwin_diff          FALSE      FALSE\n",
       "HA_avgHits_diff            FALSE      FALSE\n",
       "HA_avgTA_diff              FALSE      FALSE\n",
       "HA_avgGiveaways_diff       FALSE      FALSE\n",
       "1 subsets of each size up to 8\n",
       "Selection Algorithm: exhaustive\n",
       "         HA_NumWins_diff HA_avgCorsi_diff HA_avgGF_diff HA_avgGA_diff\n",
       "1  ( 1 ) \" \"             \"*\"              \" \"           \" \"          \n",
       "2  ( 1 ) \"*\"             \"*\"              \" \"           \" \"          \n",
       "3  ( 1 ) \" \"             \"*\"              \"*\"           \"*\"          \n",
       "4  ( 1 ) \" \"             \"*\"              \"*\"           \"*\"          \n",
       "5  ( 1 ) \" \"             \"*\"              \"*\"           \"*\"          \n",
       "6  ( 1 ) \" \"             \"*\"              \"*\"           \"*\"          \n",
       "7  ( 1 ) \" \"             \"*\"              \"*\"           \"*\"          \n",
       "8  ( 1 ) \" \"             \"*\"              \"*\"           \"*\"          \n",
       "         HA_avgSOG_diff HA_avgReboundsFor_diff HA_avgPIM_diff HA_avg_FOwin_diff\n",
       "1  ( 1 ) \" \"            \" \"                    \" \"            \" \"              \n",
       "2  ( 1 ) \" \"            \" \"                    \" \"            \" \"              \n",
       "3  ( 1 ) \" \"            \" \"                    \" \"            \" \"              \n",
       "4  ( 1 ) \" \"            \" \"                    \" \"            \" \"              \n",
       "5  ( 1 ) \" \"            \" \"                    \" \"            \" \"              \n",
       "6  ( 1 ) \"*\"            \"*\"                    \" \"            \" \"              \n",
       "7  ( 1 ) \"*\"            \"*\"                    \" \"            \" \"              \n",
       "8  ( 1 ) \"*\"            \"*\"                    \" \"            \"*\"              \n",
       "         HA_avgHits_diff HA_avgTA_diff HA_avgGiveaways_diff\n",
       "1  ( 1 ) \" \"             \" \"           \" \"                 \n",
       "2  ( 1 ) \" \"             \" \"           \" \"                 \n",
       "3  ( 1 ) \" \"             \" \"           \" \"                 \n",
       "4  ( 1 ) \" \"             \"*\"           \" \"                 \n",
       "5  ( 1 ) \"*\"             \"*\"           \" \"                 \n",
       "6  ( 1 ) \" \"             \"*\"           \" \"                 \n",
       "7  ( 1 ) \"*\"             \"*\"           \" \"                 \n",
       "8  ( 1 ) \"*\"             \"*\"           \" \"                 "
      ]
     },
     "metadata": {},
     "output_type": "display_data"
    },
    {
     "data": {
      "text/html": [
       "<ol class=list-inline>\n",
       "\t<li>-62.3737771178495</li>\n",
       "\t<li>-110.571011644085</li>\n",
       "\t<li>-117.229572437227</li>\n",
       "\t<li>-111.685577918063</li>\n",
       "\t<li>-104.413904799534</li>\n",
       "\t<li>-97.5726460489274</li>\n",
       "\t<li>-90.5907271474892</li>\n",
       "\t<li>-82.5234578164069</li>\n",
       "</ol>\n"
      ],
      "text/latex": [
       "\\begin{enumerate*}\n",
       "\\item -62.3737771178495\n",
       "\\item -110.571011644085\n",
       "\\item -117.229572437227\n",
       "\\item -111.685577918063\n",
       "\\item -104.413904799534\n",
       "\\item -97.5726460489274\n",
       "\\item -90.5907271474892\n",
       "\\item -82.5234578164069\n",
       "\\end{enumerate*}\n"
      ],
      "text/markdown": [
       "1. -62.3737771178495\n",
       "2. -110.571011644085\n",
       "3. -117.229572437227\n",
       "4. -111.685577918063\n",
       "5. -104.413904799534\n",
       "6. -97.5726460489274\n",
       "7. -90.5907271474892\n",
       "8. -82.5234578164069\n",
       "\n",
       "\n"
      ],
      "text/plain": [
       "[1]  -62.37378 -110.57101 -117.22957 -111.68558 -104.41390  -97.57265  -90.59073\n",
       "[8]  -82.52346"
      ]
     },
     "metadata": {},
     "output_type": "display_data"
    }
   ],
   "source": [
    "rs = regsubsets(home_win ~ . -gameId -home_team -away_team -season, data = trains)\n",
    "summary(rs)\n",
    "summary(rs)$bic"
   ]
  },
  {
   "cell_type": "code",
   "execution_count": 275,
   "metadata": {},
   "outputs": [
    {
     "data": {
      "text/plain": [
       "\n",
       "Call:\n",
       "glm(formula = home_win ~ HA_avgCorsi_diff + HA_avgGF_diff + HA_avgGA_diff, \n",
       "    family = binomial, data = trains)\n",
       "\n",
       "Deviance Residuals: \n",
       "    Min       1Q   Median       3Q      Max  \n",
       "-1.6563  -1.1396  -0.8785   1.1722   1.7682  \n",
       "\n",
       "Coefficients:\n",
       "                 Estimate Std. Error z value Pr(>|z|)    \n",
       "(Intercept)      -0.05447    0.02615  -2.083   0.0372 *  \n",
       "HA_avgCorsi_diff  0.18709    0.02679   6.983 2.89e-12 ***\n",
       "HA_avgGF_diff     0.15643    0.02687   5.822 5.81e-09 ***\n",
       "HA_avgGA_diff    -0.14612    0.02681  -5.450 5.04e-08 ***\n",
       "---\n",
       "Signif. codes:  0 ‘***’ 0.001 ‘**’ 0.01 ‘*’ 0.05 ‘.’ 0.1 ‘ ’ 1\n",
       "\n",
       "(Dispersion parameter for binomial family taken to be 1)\n",
       "\n",
       "    Null deviance: 8323.5  on 6006  degrees of freedom\n",
       "Residual deviance: 8171.3  on 6003  degrees of freedom\n",
       "AIC: 8179.3\n",
       "\n",
       "Number of Fisher Scoring iterations: 4\n"
      ]
     },
     "metadata": {},
     "output_type": "display_data"
    }
   ],
   "source": [
    "gm2 = glm(home_win ~ HA_avgCorsi_diff + HA_avgGF_diff + HA_avgGA_diff,\n",
    "          data = trains, family = binomial)\n",
    "summary(gm2)"
   ]
  },
  {
   "cell_type": "markdown",
   "metadata": {},
   "source": [
    "$$logit(P(Win)) = -0.054 + 0.19X_{Corsi.d} + 0.16X_{GF.d} - 0.15X_{GA.d} $$"
   ]
  },
  {
   "cell_type": "code",
   "execution_count": 276,
   "metadata": {},
   "outputs": [
    {
     "data": {
      "text/plain": [
       "Confusion Matrix and Statistics\n",
       "\n",
       "          Reference\n",
       "Prediction   0   1\n",
       "         0 481 363\n",
       "         1 273 386\n",
       "                                         \n",
       "               Accuracy : 0.5768         \n",
       "                 95% CI : (0.5514, 0.602)\n",
       "    No Information Rate : 0.5017         \n",
       "    P-Value [Acc > NIR] : 3.027e-09      \n",
       "                                         \n",
       "                  Kappa : 0.1533         \n",
       "                                         \n",
       " Mcnemar's Test P-Value : 0.000417       \n",
       "                                         \n",
       "            Sensitivity : 0.6379         \n",
       "            Specificity : 0.5154         \n",
       "         Pos Pred Value : 0.5699         \n",
       "         Neg Pred Value : 0.5857         \n",
       "             Prevalence : 0.5017         \n",
       "         Detection Rate : 0.3200         \n",
       "   Detection Prevalence : 0.5615         \n",
       "      Balanced Accuracy : 0.5766         \n",
       "                                         \n",
       "       'Positive' Class : 0              \n",
       "                                         "
      ]
     },
     "metadata": {},
     "output_type": "display_data"
    },
    {
     "data": {
      "text/html": [
       "1503"
      ],
      "text/latex": [
       "1503"
      ],
      "text/markdown": [
       "1503"
      ],
      "text/plain": [
       "[1] 1503"
      ]
     },
     "metadata": {},
     "output_type": "display_data"
    }
   ],
   "source": [
    "preds2 = predict(gm2, tests, type='response')\n",
    "predis2 = as.factor(ifelse(preds2>0.5,1,0))\n",
    "confusionMatrix(predis2, tests$home_win)\n",
    "length(preds2)"
   ]
  },
  {
   "cell_type": "code",
   "execution_count": 288,
   "metadata": {},
   "outputs": [],
   "source": [
    "rf = randomForest(home_win ~ . -gameId -home_team -away_team -season, \n",
    "                  data = trains, ntree =250, importance = T)"
   ]
  },
  {
   "cell_type": "code",
   "execution_count": 289,
   "metadata": {},
   "outputs": [
    {
     "data": {
      "text/plain": [
       "\n",
       "Call:\n",
       " randomForest(formula = home_win ~ . - gameId - home_team - away_team -      season, data = trains, ntree = 250, importance = T) \n",
       "               Type of random forest: classification\n",
       "                     Number of trees: 250\n",
       "No. of variables tried at each split: 3\n",
       "\n",
       "        OOB estimate of  error rate: 46.43%\n",
       "Confusion matrix:\n",
       "     0    1 class.error\n",
       "0 1734 1347   0.4371957\n",
       "1 1442 1484   0.4928230"
      ]
     },
     "metadata": {},
     "output_type": "display_data"
    }
   ],
   "source": [
    "rf"
   ]
  },
  {
   "cell_type": "code",
   "execution_count": 290,
   "metadata": {},
   "outputs": [
    {
     "data": {
      "text/plain": [
       "Confusion Matrix and Statistics\n",
       "\n",
       "          Reference\n",
       "Prediction   0   1\n",
       "         0 447 384\n",
       "         1 307 365\n",
       "                                          \n",
       "               Accuracy : 0.5403          \n",
       "                 95% CI : (0.5147, 0.5657)\n",
       "    No Information Rate : 0.5017          \n",
       "    P-Value [Acc > NIR] : 0.001499        \n",
       "                                          \n",
       "                  Kappa : 0.0802          \n",
       "                                          \n",
       " Mcnemar's Test P-Value : 0.003838        \n",
       "                                          \n",
       "            Sensitivity : 0.5928          \n",
       "            Specificity : 0.4873          \n",
       "         Pos Pred Value : 0.5379          \n",
       "         Neg Pred Value : 0.5432          \n",
       "             Prevalence : 0.5017          \n",
       "         Detection Rate : 0.2974          \n",
       "   Detection Prevalence : 0.5529          \n",
       "      Balanced Accuracy : 0.5401          \n",
       "                                          \n",
       "       'Positive' Class : 0               \n",
       "                                          "
      ]
     },
     "metadata": {},
     "output_type": "display_data"
    }
   ],
   "source": [
    "predsrf = predict(rf, tests, type = 'response')\n",
    "confusionMatrix(predsrf, tests$home_win)"
   ]
  },
  {
   "cell_type": "code",
   "execution_count": null,
   "metadata": {},
   "outputs": [],
   "source": []
  },
  {
   "cell_type": "code",
   "execution_count": 281,
   "metadata": {},
   "outputs": [],
   "source": [
    "svmfit = svm(home_win ~ . -gameId -home_team -away_team -season, data = trains, kernel = 'linear', cost = 1, scale = F)"
   ]
  },
  {
   "cell_type": "code",
   "execution_count": 282,
   "metadata": {},
   "outputs": [
    {
     "data": {
      "text/plain": [
       "\n",
       "Call:\n",
       "svm(formula = home_win ~ . - gameId - home_team - away_team - season, \n",
       "    data = trains, kernel = \"linear\", cost = 1, scale = F)\n",
       "\n",
       "\n",
       "Parameters:\n",
       "   SVM-Type:  C-classification \n",
       " SVM-Kernel:  linear \n",
       "       cost:  1 \n",
       "      gamma:  0.09090909 \n",
       "\n",
       "Number of Support Vectors:  5519\n"
      ]
     },
     "metadata": {},
     "output_type": "display_data"
    }
   ],
   "source": [
    "svmfit"
   ]
  },
  {
   "cell_type": "code",
   "execution_count": 283,
   "metadata": {},
   "outputs": [
    {
     "data": {
      "text/html": [
       "1503"
      ],
      "text/latex": [
       "1503"
      ],
      "text/markdown": [
       "1503"
      ],
      "text/plain": [
       "[1] 1503"
      ]
     },
     "metadata": {},
     "output_type": "display_data"
    }
   ],
   "source": [
    "preds = as.factor(predict(svmfit, tests, type = 'response'))\n",
    "length(preds)"
   ]
  },
  {
   "cell_type": "code",
   "execution_count": 284,
   "metadata": {},
   "outputs": [
    {
     "data": {
      "text/plain": [
       "Confusion Matrix and Statistics\n",
       "\n",
       "          Reference\n",
       "Prediction   0   1\n",
       "         0 477 375\n",
       "         1 277 374\n",
       "                                          \n",
       "               Accuracy : 0.5662          \n",
       "                 95% CI : (0.5407, 0.5914)\n",
       "    No Information Rate : 0.5017          \n",
       "    P-Value [Acc > NIR] : 3.089e-07       \n",
       "                                          \n",
       "                  Kappa : 0.132           \n",
       "                                          \n",
       " Mcnemar's Test P-Value : 0.0001454       \n",
       "                                          \n",
       "            Sensitivity : 0.6326          \n",
       "            Specificity : 0.4993          \n",
       "         Pos Pred Value : 0.5599          \n",
       "         Neg Pred Value : 0.5745          \n",
       "             Prevalence : 0.5017          \n",
       "         Detection Rate : 0.3174          \n",
       "   Detection Prevalence : 0.5669          \n",
       "      Balanced Accuracy : 0.5660          \n",
       "                                          \n",
       "       'Positive' Class : 0               \n",
       "                                          "
      ]
     },
     "metadata": {},
     "output_type": "display_data"
    }
   ],
   "source": [
    "confusionMatrix(preds, tests$home_win)"
   ]
  },
  {
   "cell_type": "code",
   "execution_count": 291,
   "metadata": {},
   "outputs": [
    {
     "data": {
      "image/png": "[encoded data removed]",
      "text/plain": [
       "Plot with title “Accuracy vs. # of Games Back”"
      ]
     },
     "metadata": {},
     "output_type": "display_data"
    }
   ],
   "source": [
    "acc = c(0.5234,0.5302,0.54,0.528,0.5393,0.5475,0.5514, 0.5570, 0.5557, 0.5632, 0.5689, .5672, 0.5723, 0.5749, 0.5768 )\n",
    "\n",
    "plot(c(1:15),acc, type ='l', col='#CC9900', xlab = '# of Games Back', ylab = 'Accuracy of Model', \n",
    "    main = 'Accuracy vs. # of Games Back')\n",
    "points(c(1:15), acc, pch = 19)"
   ]
  },
  {
   "cell_type": "code",
   "execution_count": null,
   "metadata": {},
   "outputs": [],
   "source": []
  },
  {
   "cell_type": "code",
   "execution_count": 308,
   "metadata": {},
   "outputs": [
    {
     "data": {
      "image/png": "[encoded data removed]",
      "text/plain": [
       "Plot with title “Average GF Difference vs. Result”"
      ]
     },
     "metadata": {},
     "output_type": "display_data"
    }
   ],
   "source": [
    "levels(trains$home_win) = c('Loss', 'Win')\n",
    "#par(mfrow = c(3,1))\n",
    "#with(trains, boxplot(HA_avgCorsi_diff ~ home_win, xlab = 'Home Team Result', \n",
    "#                     ylab = 'Average Corsi Difference (Home-Away)',\n",
    "#                    main = 'Average Corsi Difference vs. Result', col = '#CC9900'))\n",
    "#with(trains, boxplot(HA_avgGA_diff ~ home_win, xlab = 'Home Team Result', \n",
    "#                     ylab = 'Average Goals Against Difference (Home-Away)',\n",
    "#                    main = 'Average GA Difference vs. Result', col = '#CC9900'))\n",
    "with(trains, boxplot(HA_avgGF_diff ~ home_win, xlab = 'Home Team Result', \n",
    "                     ylab = 'Average Goals For Difference (Home-Away)',\n",
    "                    main = 'Average GF Difference vs. Result', col = '#CC9900'))"
   ]
  },
  {
   "cell_type": "code",
   "execution_count": 317,
   "metadata": {},
   "outputs": [
    {
     "data": {
      "text/html": [
       "<table>\n",
       "<thead><tr><th></th><th scope=col>Home.Team</th><th scope=col>Away.Team</th><th scope=col>Corsi.Diff</th><th scope=col>Goals.Against.Diff</th><th scope=col>Goals.For.Diff</th><th scope=col>Home.Result</th><th scope=col>Home.Pred.Results</th></tr></thead>\n",
       "<tbody>\n",
       "\t<tr><th scope=row>2916</th><td>FLA        </td><td>WPG        </td><td>-0.5883315 </td><td>-2.07414558</td><td>-1.7113548 </td><td>Loss       </td><td>Loss       </td></tr>\n",
       "\t<tr><th scope=row>7177</th><td>WPG        </td><td>COL        </td><td>-0.1365746 </td><td> 0.67303700</td><td> 2.1245197 </td><td>Win        </td><td>Win        </td></tr>\n",
       "\t<tr><th scope=row>5808</th><td>S.J        </td><td>DET        </td><td> 0.3855535 </td><td> 0.47680967</td><td>-0.1770050 </td><td>Loss       </td><td>Loss       </td></tr>\n",
       "\t<tr><th scope=row>4828</th><td>NYR        </td><td>CHI        </td><td>-0.5433762 </td><td> 0.08435502</td><td> 1.3573448 </td><td>Loss       </td><td>Win        </td></tr>\n",
       "\t<tr><th scope=row>363</th><td>BOS        </td><td>CBJ        </td><td> 0.6358929 </td><td>-1.48546360</td><td> 0.3983762 </td><td>Win        </td><td>Win        </td></tr>\n",
       "\t<tr><th scope=row>3611</th><td>MIN        </td><td>BOS        </td><td>-0.8610017 </td><td>-0.70055429</td><td>-2.6703235 </td><td>Loss       </td><td>Loss       </td></tr>\n",
       "</tbody>\n",
       "</table>\n"
      ],
      "text/latex": [
       "\\begin{tabular}{r|lllllll}\n",
       "  & Home.Team & Away.Team & Corsi.Diff & Goals.Against.Diff & Goals.For.Diff & Home.Result & Home.Pred.Results\\\\\n",
       "\\hline\n",
       "\t2916 & FLA         & WPG         & -0.5883315  & -2.07414558 & -1.7113548  & Loss        & Loss       \\\\\n",
       "\t7177 & WPG         & COL         & -0.1365746  &  0.67303700 &  2.1245197  & Win         & Win        \\\\\n",
       "\t5808 & S.J         & DET         &  0.3855535  &  0.47680967 & -0.1770050  & Loss        & Loss       \\\\\n",
       "\t4828 & NYR         & CHI         & -0.5433762  &  0.08435502 &  1.3573448  & Loss        & Win        \\\\\n",
       "\t363 & BOS         & CBJ         &  0.6358929  & -1.48546360 &  0.3983762  & Win         & Win        \\\\\n",
       "\t3611 & MIN         & BOS         & -0.8610017  & -0.70055429 & -2.6703235  & Loss        & Loss       \\\\\n",
       "\\end{tabular}\n"
      ],
      "text/markdown": [
       "\n",
       "| <!--/--> | Home.Team | Away.Team | Corsi.Diff | Goals.Against.Diff | Goals.For.Diff | Home.Result | Home.Pred.Results |\n",
       "|---|---|---|---|---|---|---|---|\n",
       "| 2916 | FLA         | WPG         | -0.5883315  | -2.07414558 | -1.7113548  | Loss        | Loss        |\n",
       "| 7177 | WPG         | COL         | -0.1365746  |  0.67303700 |  2.1245197  | Win         | Win         |\n",
       "| 5808 | S.J         | DET         |  0.3855535  |  0.47680967 | -0.1770050  | Loss        | Loss        |\n",
       "| 4828 | NYR         | CHI         | -0.5433762  |  0.08435502 |  1.3573448  | Loss        | Win         |\n",
       "| 363 | BOS         | CBJ         |  0.6358929  | -1.48546360 |  0.3983762  | Win         | Win         |\n",
       "| 3611 | MIN         | BOS         | -0.8610017  | -0.70055429 | -2.6703235  | Loss        | Loss        |\n",
       "\n"
      ],
      "text/plain": [
       "     Home.Team Away.Team Corsi.Diff Goals.Against.Diff Goals.For.Diff\n",
       "2916 FLA       WPG       -0.5883315 -2.07414558        -1.7113548    \n",
       "7177 WPG       COL       -0.1365746  0.67303700         2.1245197    \n",
       "5808 S.J       DET        0.3855535  0.47680967        -0.1770050    \n",
       "4828 NYR       CHI       -0.5433762  0.08435502         1.3573448    \n",
       "363  BOS       CBJ        0.6358929 -1.48546360         0.3983762    \n",
       "3611 MIN       BOS       -0.8610017 -0.70055429        -2.6703235    \n",
       "     Home.Result Home.Pred.Results\n",
       "2916 Loss        Loss             \n",
       "7177 Win         Win              \n",
       "5808 Loss        Loss             \n",
       "4828 Loss        Win              \n",
       "363  Win         Win              \n",
       "3611 Loss        Loss             "
      ]
     },
     "metadata": {},
     "output_type": "display_data"
    }
   ],
   "source": [
    "levels(tests$home_win) = c('Loss', 'Win')\n",
    "levels(predis) = c('Loss', 'Win')\n",
    "dd = data.frame('Home.Team' = tests$home_team,\n",
    "          'Away.Team' = tests$away_team,\n",
    "          'Corsi.Diff' = tests$HA_avgCorsi_diff,\n",
    "          'Goals.Against.Diff' = tests$HA_avgGA_diff,\n",
    "          'Goals.For.Diff' = tests$HA_avgGF_diff,\n",
    "          'Home.Result'= tests$home_win,\n",
    "          'Home.Pred.Results' = predis)\n",
    "dd[10:15,]"
   ]
  },
  {
   "cell_type": "code",
   "execution_count": null,
   "metadata": {},
   "outputs": [],
   "source": []
  }
 ],
 "metadata": {
  "kernelspec": {
   "display_name": "R",
   "language": "R",
   "name": "ir"
  },
  "language_info": {
   "codemirror_mode": "r",
   "file_extension": ".r",
   "mimetype": "text/x-r-source",
   "name": "R",
   "pygments_lexer": "r",
   "version": "3.5.3"
  }
 },
 "nbformat": 4,
 "nbformat_minor": 2
}
